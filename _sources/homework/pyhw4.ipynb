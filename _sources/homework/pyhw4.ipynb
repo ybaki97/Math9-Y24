{
 "cells": [
  {
   "cell_type": "markdown",
   "id": "f0722f45",
   "metadata": {},
   "source": [
    "# Python Homework #4\n",
    "\n",
    "Prerequisites: The videos up to and including the videos in the \"Pythonic code\" section."
   ]
  },
  {
   "cell_type": "markdown",
   "id": "0dd71e57",
   "metadata": {},
   "source": [
    "## Corresponding Outcomes\n",
    "* __GOPy3:__ Write Pythonic code (f-strings, list comprehension, lambda functions)."
   ]
  },
  {
   "cell_type": "markdown",
   "id": "346396ba",
   "metadata": {},
   "source": [
    "## Instructions\n",
    "In a group of 1-3 students, work on answering the following questions in a Jupyter notebook. Submit the ipynb file with your solutions to Canvas. You and your group members can submit the same assignment, but all of you should upload it individually to Canvas."
   ]
  },
  {
   "cell_type": "markdown",
   "id": "5103c57c",
   "metadata": {},
   "source": [
    "## Group Information\n",
    "* Group Member 1:\n",
    "\n",
    "* Group Member 2:\n",
    "\n",
    "* Group Member 3:"
   ]
  },
  {
   "cell_type": "markdown",
   "id": "08ef8b36",
   "metadata": {},
   "source": [
    "## Question\n",
    "\n",
    "* The following function definition `prelim_fn` is correct, but it would be more elegant to define this simple function using a lambda function.  Write a function `remove_bit` which does the same thing as `prelim_fn`, but which is written using a lambda function.  (Do not use `prelim_fn` in your definition.)\n",
    "\n",
    "```\n",
    "def prelim_fn(X):\n",
    "    return X - (X%2)\n",
    "```"
   ]
  },
  {
   "cell_type": "markdown",
   "id": "53699eb7",
   "metadata": {},
   "source": [
    "* Check that the function `remove_bit` can be evaluated on a NumPy array without raising an error."
   ]
  },
  {
   "cell_type": "markdown",
   "id": "36010fec",
   "metadata": {},
   "source": [
    "* Write a lambda function `g` that takes as input an integer `x` and as output returns a string representing the binary digits of `x`.  (Hint.  `f\"{17:b}\"` is `\"10001\"`.}"
   ]
  },
  {
   "cell_type": "markdown",
   "id": "4084fb6b",
   "metadata": {},
   "source": [
    "* Evaluate `g(x)` and `g(remove_bit(x))` for a few integer values of `x`.  What do you notice?  Why do you think the function `remove_bit` has the name it does?"
   ]
  },
  {
   "cell_type": "markdown",
   "id": "27fdb0f2",
   "metadata": {},
   "source": [
    "## Question\n",
    "\n",
    "Write a function `array_to_str` as follows.  \n",
    "\n",
    "* The input `arr` should be a two-dimensional array with 8 columns.  If the input has a different number of columns, raise a value error using an f-string as follows:\n",
    "```\n",
    "raise ValueError(???\"The array should have 8 columns, not {???} columns\")\n",
    "```\n",
    "* Using NumPy's `apply_along_axis` and a lambda function, convert each row into a single character by performing the following three steps.  (The lambda function should perform all three of the following steps at once.)\n",
    "1. Concatenate the 0s and 1s in a row into a single length-8 string.  For example, if a row is `np.array([\"0\",\"1\",\"0\",\"1\",\"0\",\"0\",\"1\",\"0\"])`, then the result should be the string `\"01010010\"`.\n",
    "2. The string should be converted to an integer, using `int`.  Specify that the digits of the string are given in binary.  (Hint.  Call `help(int)` to learn how to tell the `int` function that the input is specified in binary.)  For example, if the string is `\"01010010\"`, then the integer should be $82 = 64 + 16 + 2$.\n",
    "3. This resulting integer should be converted back to a single character, using the `chr` function.  For example, `chr(82)` is the letter `\"R\"`.\n",
    "\n",
    "* If `arr` had shape $m \\times 8$, then the result of applying `np.apply_along_axis` as above should be a one-dimensional NumPy array of length $m$.  Concatenate these $m$ characters into a single string of length $m$.  This length $m$ string should be the output of `arr_to_str`.\n",
    "* Check your answer by evaluating `arr_to_str` on the following input.\n",
    "```\n",
    "X = np.array([['0', '1', '0', '1', '0', '0', '1', '0'],\n",
    "       ['0', '0', '1', '1', '0', '0', '1', '1']])\n",
    "```\n",
    "The output should be the string `\"R3\"`."
   ]
  },
  {
   "cell_type": "markdown",
   "id": "b7ed35d0",
   "metadata": {},
   "source": [
    "## Question\n",
    "\n",
    "Write a function `string_to_binary` that is the inverse function to `array_to_str` from above.  For example, if we evaluate `string_to_binary('R3')`, the output should be the NumPy array \n",
    "```\n",
    "np.array([['0', '1', '0', '1', '0', '0', '1', '0'],\n",
    "          ['0', '0', '1', '1', '0', '0', '1', '1']])\n",
    "```\n",
    "(Hint.  If you evaluate for example `f\"{ord('R'):08b}\"`, the output will be `'01010010'`; the `08` in `:08b` is saying to include extra 0s if necessary at the beginning so that the total length is 8.  It's fine to use a traditional `def` function instead of a lambda function; use whatever you think is the most readable.  Depending on how you write this function, you may want to use list comprehension somewhere, but you don't have to force it.  For example, if you have a string `m` and you want to get a list of its characters, just use `list(m)`, there's no reason to use `[c for c in m]` to make that list.)"
   ]
  },
  {
   "cell_type": "markdown",
   "id": "c8b686b5",
   "metadata": {},
   "source": [
    "## Question\n",
    "\n",
    "(Note.  This question could have been answered during the NumPy section of class, but I think it will make more sense now in the context of the previous few questions.)\n",
    "\n",
    "* Write a function `find_row` that takes two inputs, `arr` and `row`, where `arr` is a two-dimensional NumPy array and where `row` is a one-dimensional NumPy array.  As output, `find_row` should return the row number of the first row in `arr` which is equal to `row`.  (You can assume `row` does occur as a row in `arr` for this problem.)  Do not use any loops.  Use broadcasting, `all`, an `axis` argument, `nonzero` (to find the index).\n",
    "* Check your your answer by evaluating \n",
    "```\n",
    "find_row(string_to_binary(\"CHRISTOPHER\"), np.array([\"0\",\"1\",\"0\",\"1\",\"0\",\"0\",\"1\",\"0\"]))\n",
    "```\n",
    "The output should be `2`."
   ]
  }
 ],
 "metadata": {
  "kernelspec": {
   "display_name": "Python 3 (ipykernel)",
   "language": "python",
   "name": "python3"
  },
  "language_info": {
   "codemirror_mode": {
    "name": "ipython",
    "version": 3
   },
   "file_extension": ".py",
   "mimetype": "text/x-python",
   "name": "python",
   "nbconvert_exporter": "python",
   "pygments_lexer": "ipython3",
   "version": "3.9.13"
  }
 },
 "nbformat": 4,
 "nbformat_minor": 5
}

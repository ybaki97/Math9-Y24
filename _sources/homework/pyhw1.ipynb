{
 "cells": [
  {
   "cell_type": "markdown",
   "id": "f204aaa8",
   "metadata": {},
   "source": [
    "# Python Homework #1\n",
    "Prerequisites: The videos from \"Python data types\". You may also consider watching the short videos on converting between binary and decimal, if you are unfamiliar with these concepts."
   ]
  },
  {
   "cell_type": "markdown",
   "id": "330f3c0d",
   "metadata": {},
   "source": [
    "## Corresponding Outcomes\n",
    " - __EO2:__ Examine and contrast various common data structures.\n",
    " - __GOPy2:__ Compare and contrast Python-specific data structures (e.g. dictionaries, lists)."
   ]
  },
  {
   "cell_type": "markdown",
   "id": "527025ef",
   "metadata": {},
   "source": [
    "## Instructions\n",
    "In a group of 1-3 students, work on answering the following questions in a Jupyter notebook. Submit the ipynb file with your solutions to Canvas. You and your group members can submit the same assignment, but all of you should upload it individually to Canvas."
   ]
  },
  {
   "cell_type": "markdown",
   "id": "43119ed7",
   "metadata": {},
   "source": [
    "## Group Information\n",
    " - Group Member 1:\n",
    " - Group Member 2:\n",
    " - Group Member 3:"
   ]
  },
  {
   "cell_type": "markdown",
   "id": "9e5c0cdb",
   "metadata": {},
   "source": [
    "## Question 1\n",
    "\n",
    "Evaluate 3.3 divided by 1.1, and in the same line, convert the result to an integer (using `int`).  What is strange about the result?  Can you figure out why that happened?  What would you say is a lesson you can take away from this example?  (Answer these short answer questions in a markdown cell.)"
   ]
  },
  {
   "cell_type": "markdown",
   "id": "be0539ca",
   "metadata": {},
   "source": [
    "## Question 2"
   ]
  },
  {
   "cell_type": "markdown",
   "id": "c32a6668",
   "metadata": {},
   "source": [
    "For each of the following data types, define `x` and `y` to be two objects of that data type, and try to combine them together using `+`. If they can be combined using `+`, try to explain what `x+y` represents in a markdown cell.  The first data type, `int`, has been done for you."
   ]
  },
  {
   "cell_type": "markdown",
   "id": "53b1d971",
   "metadata": {},
   "source": [
    "* `int`"
   ]
  },
  {
   "cell_type": "code",
   "execution_count": 1,
   "id": "666630b0",
   "metadata": {},
   "outputs": [],
   "source": [
    "x = 5\n",
    "y = 3"
   ]
  },
  {
   "cell_type": "code",
   "execution_count": 2,
   "id": "18ddbdab",
   "metadata": {},
   "outputs": [
    {
     "data": {
      "text/plain": [
       "int"
      ]
     },
     "execution_count": 2,
     "metadata": {},
     "output_type": "execute_result"
    }
   ],
   "source": [
    "type(x)"
   ]
  },
  {
   "cell_type": "code",
   "execution_count": 3,
   "id": "09826d63",
   "metadata": {},
   "outputs": [
    {
     "data": {
      "text/plain": [
       "8"
      ]
     },
     "execution_count": 3,
     "metadata": {},
     "output_type": "execute_result"
    }
   ],
   "source": [
    "x+y"
   ]
  },
  {
   "cell_type": "markdown",
   "id": "9ee10418",
   "metadata": {},
   "source": [
    "**Explanation**.  In the case that `x` and `y` are integers, `x+y` represents ordinary addition of integers."
   ]
  },
  {
   "cell_type": "markdown",
   "id": "c0dbbad5",
   "metadata": {},
   "source": [
    "* `float`"
   ]
  },
  {
   "cell_type": "markdown",
   "id": "8bee791a",
   "metadata": {},
   "source": [
    "* `bool`"
   ]
  },
  {
   "cell_type": "markdown",
   "id": "b1a3e108",
   "metadata": {},
   "source": [
    "* `set`"
   ]
  },
  {
   "cell_type": "markdown",
   "id": "7cc8b811",
   "metadata": {},
   "source": [
    "* `tuple`"
   ]
  },
  {
   "cell_type": "markdown",
   "id": "fe3f90d0",
   "metadata": {},
   "source": [
    "* `list`"
   ]
  },
  {
   "cell_type": "markdown",
   "id": "ae6b9720",
   "metadata": {},
   "source": [
    "* `str`"
   ]
  },
  {
   "cell_type": "markdown",
   "id": "3ecb2053",
   "metadata": {},
   "source": [
    "* `range`"
   ]
  },
  {
   "cell_type": "markdown",
   "id": "a80d7b63",
   "metadata": {},
   "source": [
    "* `dict`"
   ]
  },
  {
   "cell_type": "markdown",
   "id": "fa36c9f4",
   "metadata": {},
   "source": [
    "## Question 3"
   ]
  },
  {
   "cell_type": "markdown",
   "id": "5d60e4a1",
   "metadata": {},
   "source": [
    "The usual way to convert to a string is by using `str`.  For example, try to convert the integers 123 and -10 to strings using `str`.  (Be sure your inputs to the `str` functions are integers and not themselves strings.)"
   ]
  },
  {
   "cell_type": "markdown",
   "id": "e40a95ca",
   "metadata": {},
   "source": [
    "There are also some special built-in functions in Python that can be used to convert from an integer to a string, such as `bin`, `format`, and `chr`.  Each one has its own purpose. "
   ]
  },
  {
   "cell_type": "markdown",
   "id": "46a50458",
   "metadata": {},
   "source": [
    "Try converting those same integers, 123 and -10, into strings using the function `bin`.  Explain briefly the result.  (Use `help(bin)` to get information about this function.)"
   ]
  },
  {
   "cell_type": "markdown",
   "id": "a7efe63c",
   "metadata": {},
   "source": [
    "Try the same thing using `format(n,\"b\")` and `format(n, \"08b\")`, where you replace `n` is these same values, 123 and -10.  The \"08\" portion indicates that the length should be exactly 8, possibly with leading 0s."
   ]
  },
  {
   "cell_type": "markdown",
   "id": "829465c8",
   "metadata": {},
   "source": [
    "Try converting those same integers, 123 and -10, into strings using `chr`.  (Hint.  One of the two will raise a `ValueError`.)"
   ]
  },
  {
   "cell_type": "markdown",
   "id": "ebbcab66",
   "metadata": {},
   "source": [
    "Can you figure out what is the maximum integer `n` for which `chr(n)` is defined?  The weird number in the error message is written neither in the usual decimal notation, nor in binary notation."
   ]
  },
  {
   "cell_type": "markdown",
   "id": "b9cd277d",
   "metadata": {},
   "source": [
    "## Question 4"
   ]
  },
  {
   "cell_type": "markdown",
   "id": "0184de37",
   "metadata": {},
   "source": [
    "Define `n=100`.  In that case, `chr(n)` will be the letter `d`.  Check this."
   ]
  },
  {
   "cell_type": "markdown",
   "id": "aad2e076",
   "metadata": {},
   "source": [
    "Find a value of ???, using `n` but not using the letter `d`, so that `print(???)` displays the string \"100: d\". (Hint: Combine two strings using `+` as in an earlier question."
   ]
  },
  {
   "cell_type": "markdown",
   "id": "ecd80791",
   "metadata": {},
   "source": [
    "For each integer `i` from 0 (inclusive) to 255 (inclusive), print `i` and `chr(i)` on the same line, as you just did for `n=100`.  Use a `for` loop.  (Don't worry if 0 through 32 look blank.  That is correct; they all represent whitespace, I believe.  For example, newline `\"\\n\"` corresponds to 10; can you recognize that in the for loop?)"
   ]
  },
  {
   "cell_type": "markdown",
   "id": "e8b69b3b",
   "metadata": {},
   "source": [
    "## Question 5\n",
    "\n",
    "It also makes sense to go the other direction, from strings to integers.  Try evaluating `int(\"1101\")`, `int(\"1101\", 2)`, `int(\"1120\", 2)`, and `int(\"1120\", 3)`.  Using a markdown cell, explain in your own words the meaning of the results, for example, why does `int(\"1120\", 3)` produce the number `42`?  (Hints.  One of these will again raise an error.  Like usual, you can use `help(int)` to get information.)"
   ]
  },
  {
   "cell_type": "markdown",
   "id": "24ba48ed",
   "metadata": {},
   "source": [
    "For what value of `m` is `int(\"1120\", m)` the same as `int(\"1120\")`?"
   ]
  },
  {
   "cell_type": "markdown",
   "id": "841e0e90",
   "metadata": {},
   "source": [
    "What is a value of `x` such that the following produces the letter \"d\"? `chr(int(x,2))`"
   ]
  }
 ],
 "metadata": {
  "kernelspec": {
   "display_name": "Python 3 (ipykernel)",
   "language": "python",
   "name": "python3"
  },
  "language_info": {
   "codemirror_mode": {
    "name": "ipython",
    "version": 3
   },
   "file_extension": ".py",
   "mimetype": "text/x-python",
   "name": "python",
   "nbconvert_exporter": "python",
   "pygments_lexer": "ipython3",
   "version": "3.9.13"
  }
 },
 "nbformat": 4,
 "nbformat_minor": 5
}

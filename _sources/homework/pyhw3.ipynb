{
 "cells": [
  {
   "cell_type": "markdown",
   "id": "fc57cbe0",
   "metadata": {},
   "source": [
    "# Python Homework #3"
   ]
  },
  {
   "cell_type": "markdown",
   "id": "e264c795",
   "metadata": {},
   "source": [
    "## Corresponding Outcomes:\n",
    "* __GOPy1:__ Implement core NumPy keywords/features (e.g. axis, boolean masking, broadcasting).\n",
    "* __GOPy4:__ Implement and Analyze Newton’s Method."
   ]
  },
  {
   "cell_type": "markdown",
   "id": "ff3ba104",
   "metadata": {},
   "source": [
    "## Instructions\n",
    "In a group of 1-3 students, work on answering the following questions in a Jupyter notebook. Submit the ipynb file with your solutions to Canvas. You and your group members can submit the same assignment, but all of you should upload it individually to Canvas."
   ]
  },
  {
   "cell_type": "markdown",
   "id": "3394268e",
   "metadata": {},
   "source": [
    "## Group Information\n",
    " - Group Member 1:\n",
    " - Group Member 2:\n",
    " - Group Member 3:"
   ]
  },
  {
   "cell_type": "markdown",
   "id": "a730abd4",
   "metadata": {},
   "source": [
    "The function $f(x) = x^3 - 4x^2 + x + 4$ has three roots.  According to Wolfram Alpha, those roots are approximately\n",
    "\n",
    "$$\n",
    "x \\approx -0.8136, 1.4707, 3.3429\n",
    "$$"
   ]
  },
  {
   "cell_type": "markdown",
   "id": "7f1b1a42",
   "metadata": {},
   "source": [
    "## Question\n",
    "\n",
    "* Define `f`, `df`, and `newt`, where `f` is the above polynomial, `df` is its derivative, and `newt` represents the function that gets applied iteratively by Newton's Method, $z \\leadsto z - f(z)/f'(z)$.\n",
    "* Define a NumPy array `roots` containing the three approximate roots listed above.\n",
    "* Activate one of the Matplotlib pre-defined styles (you can see the options using `plt.style.available`, and you can activate that style using `plt.style.use`).\n",
    "* Plot $y = f(x)$ using Matplotlib for $-2 \\leq x \\leq 4$.  In the plot, set the $y$ limits to be $-5$ to $5$.  (Always use the object-oriented interface for Matplotlib in Math 9.  So for example, you should be calling `ax.plot`.)\n",
    "* Do the three suggested roots seem to be correct, according to the plot?\n",
    "* Evaluate `f(roots)` and ensure the three values are close to zero.  (If `f(roots)` raises an error, then something is not correct.)"
   ]
  },
  {
   "cell_type": "markdown",
   "id": "55ef958e",
   "metadata": {},
   "source": [
    "## Question\n",
    "\n",
    "* Define `z = np.arange(-2, 4, .02)`.\n",
    "* We are going to apply Newton's Method 8 times to each value in `z`.  Define a two-dimensional NumPy array `arr` with `len(z)` rows and 9 columns.  Set the zeroth column of `arr` to be `z`.  Set the next column to be `newt(arr[:,0])`, and so on.  Use a for loop.\n",
    "* Define a one-dimensional NumPy array `results` to be the right-most column of `arr`.  This array holds the final results, after applying Newton's Method 8 times.\n",
    "* Check your answer.  `results[122]` should be very close to one root, while `results[123]` should be very close to another root.\n",
    "* What starting values correspond to `results[122]` and `results[123]`?  (The answers should be between -2 and 4.)"
   ]
  },
  {
   "cell_type": "markdown",
   "id": "87088c23",
   "metadata": {},
   "source": [
    "## Question\n",
    "\n",
    "Write a function `get_inputs(x)` which takes as input a number `x` and as output returns a NumPy array containing all starting values in `z` for which, after applying Newton's Method 8 times, we are within `0.0001` of `x`.  Use the following strategy.\n",
    "\n",
    "* You can either use a lambda function or not; use whatever you think is most clear.\n",
    "* The phrase \"within\" means either above or below.  Subtract and take the absolute value using `np.abs`.\n",
    "* You definitely should not need to use any loops.  Use Boolean indexing.\n",
    "* Check your answer.  If you evaluate `get_inputs` on `1` you should get an empty array, and if you evaluate `get_inputs` on `1.4707`, you should get a length-93 array containing for example `1.06` (up to possibly some small error due to limits of floating point precision)."
   ]
  },
  {
   "cell_type": "markdown",
   "id": "d1f0c922",
   "metadata": {},
   "source": [
    "## Question\n",
    "\n",
    "* Choose three colors from `CSS4_COLORS` from Matplotlib's `colors` submodule.  Put the names of these three colors into a list named `colors`.\n",
    "* Make a Matplotlib figure containing three subplots, arranged vertically.  Name the NumPy array containing the three subplots `axs`.\n",
    "* Using a for loop that begins `for root, ax, color in zip(???):`, on the three subplots in your Matplotlib figure, plot $y = f(x)$ for $-2 \\leq x \\leq 4$ together with the values `get_inputs(root)` along the $x$-axis using the color `color`.\n",
    "* We don't want the the points from `get_inputs(root)` to be connected.  One option is to use `ax.plot(???, color=color, marker='o', linestyle=\"\")`.  Another option is to use `ax.scatter(???, color=color)`.\n",
    "* For each axes, specify $x$-limits of -2 to 4 and specify $y$-limits of -5 to 5.\n",
    "* Specify a marker size that you think looks good.  If you are using `ax.plot`, then use `markersize=???`.  If you are using `ax.scatter`, then use `s=???`, where `???` should be replaced by some number.\n",
    "* Give each axes a descriptive title; use an f-string to indicate what the root is.\n",
    "* Underneath (and outside of) the for loop, call the figure's `tight_layout` method.\n",
    "* Specify a figure size that you think looks good, by including a `figsize` keyword argument when you call `plt.subplots`.\n",
    "* Try including `sharex=True` when you call `plt.subplots`.  What difference does that make?  Answer in a markdown cell.  Keep that argument if you think it looks better, otherwise get rid of it.\n",
    "* The plot associated with `-0.8136` has some seeming \"outlier\" points between $x = 2$ and $x = 3$.  If you had to guess, do you think these points lie to the left or to the right of the local minimum of $f$?  Explain your answer."
   ]
  },
  {
   "cell_type": "markdown",
   "id": "e658989a",
   "metadata": {},
   "source": [
    "## Question\n",
    "\n",
    "* Recall that the bisect method repeatedly cuts an interval in half.  What size of interval would we need to start with to have an interval of width 0.0001 after 3 iterations?\n",
    "* What is one advantage of Newton's Method over the bisect method?\n",
    "* What is one advantage of the bisect method over Newton's Method?"
   ]
  }
 ],
 "metadata": {
  "kernelspec": {
   "display_name": "Python 3 (ipykernel)",
   "language": "python",
   "name": "python3"
  },
  "language_info": {
   "codemirror_mode": {
    "name": "ipython",
    "version": 3
   },
   "file_extension": ".py",
   "mimetype": "text/x-python",
   "name": "python",
   "nbconvert_exporter": "python",
   "pygments_lexer": "ipython3",
   "version": "3.9.13"
  }
 },
 "nbformat": 4,
 "nbformat_minor": 5
}

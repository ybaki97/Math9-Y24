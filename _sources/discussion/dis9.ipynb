{
 "cells": [
  {
   "cell_type": "markdown",
   "id": "3c52a81f",
   "metadata": {},
   "source": [
    "# Discussion 9: July 12th, 2024"
   ]
  },
  {
   "cell_type": "markdown",
   "id": "4b744b0d-c2b9-4f6a-987b-6bff3d7d7764",
   "metadata": {},
   "source": [
    "## Timing a compuation using NumPy vs base Python"
   ]
  },
  {
   "cell_type": "code",
   "execution_count": 4,
   "id": "4d4cb2cc-8ec0-454c-9472-d35345db0060",
   "metadata": {},
   "outputs": [],
   "source": [
    "import numpy as np"
   ]
  },
  {
   "cell_type": "code",
   "execution_count": 5,
   "id": "cc7c481b-9c39-4b1b-b969-daff180c9b7e",
   "metadata": {},
   "outputs": [],
   "source": [
    "rng = np.random.default_rng()"
   ]
  },
  {
   "cell_type": "code",
   "execution_count": 6,
   "id": "16b1a793-97d3-4c14-8c8d-5079ce453401",
   "metadata": {},
   "outputs": [],
   "source": [
    "arr = rng.integers(1, 10, size = 10**6)"
   ]
  },
  {
   "cell_type": "markdown",
   "id": "2332d5b7-34fc-4ff2-a08c-e66549528d14",
   "metadata": {},
   "source": [
    "Look @ first 5 elements of arr, divide 1.5 by each element"
   ]
  },
  {
   "cell_type": "code",
   "execution_count": 7,
   "id": "e770dad7-3d48-40a1-87b7-004a9ae99f17",
   "metadata": {},
   "outputs": [
    {
     "data": {
      "text/plain": [
       "array([7, 8, 4, 1, 2])"
      ]
     },
     "execution_count": 7,
     "metadata": {},
     "output_type": "execute_result"
    }
   ],
   "source": [
    "arr[:5]"
   ]
  },
  {
   "cell_type": "code",
   "execution_count": 8,
   "id": "90861d98-c28e-4548-87b4-eeea66566e41",
   "metadata": {},
   "outputs": [
    {
     "data": {
      "text/plain": [
       "array([0.21428571, 0.1875    , 0.375     , 1.5       , 0.75      ])"
      ]
     },
     "execution_count": 8,
     "metadata": {},
     "output_type": "execute_result"
    }
   ],
   "source": [
    "1.5/arr[:5]"
   ]
  },
  {
   "cell_type": "markdown",
   "id": "6f594dc7-691f-4cc3-a271-7eefcd408377",
   "metadata": {},
   "source": [
    "Can we do the same thing with a list?"
   ]
  },
  {
   "cell_type": "code",
   "execution_count": 9,
   "id": "8117cace-88a6-4e37-bb2a-42ee674ce5cf",
   "metadata": {},
   "outputs": [],
   "source": [
    "mylist = list(arr)"
   ]
  },
  {
   "cell_type": "code",
   "execution_count": 10,
   "id": "a35fc818-cfad-431d-8898-2ec230181de0",
   "metadata": {},
   "outputs": [
    {
     "data": {
      "text/plain": [
       "[7, 8, 4, 1, 2]"
      ]
     },
     "execution_count": 10,
     "metadata": {},
     "output_type": "execute_result"
    }
   ],
   "source": [
    "mylist[:5]"
   ]
  },
  {
   "cell_type": "code",
   "execution_count": 11,
   "id": "184050bf-3002-4a30-ab4b-d4091c0cc238",
   "metadata": {},
   "outputs": [
    {
     "data": {
      "text/plain": [
       "[0.21428571428571427, 0.1875, 0.375, 1.5, 0.75]"
      ]
     },
     "execution_count": 11,
     "metadata": {},
     "output_type": "execute_result"
    }
   ],
   "source": [
    "#method 1 -- use a for loop\n",
    "newlist = []\n",
    "for x in mylist[:5]:\n",
    "    newlist.append(1.5/x)\n",
    "newlist"
   ]
  },
  {
   "cell_type": "code",
   "execution_count": 12,
   "id": "6be38291-faee-4be1-9600-2a814a88ca5b",
   "metadata": {},
   "outputs": [
    {
     "data": {
      "text/plain": [
       "[0.21428571428571427, 0.1875, 0.375, 1.5, 0.75]"
      ]
     },
     "execution_count": 12,
     "metadata": {},
     "output_type": "execute_result"
    }
   ],
   "source": [
    "#method 2 -- list comprehension\n",
    "[1.5/x for x in mylist[:5]]"
   ]
  },
  {
   "cell_type": "markdown",
   "id": "40c5d75f-4292-4562-9ae0-c2f87a421b55",
   "metadata": {},
   "source": [
    "## Timing computations"
   ]
  },
  {
   "cell_type": "code",
   "execution_count": 13,
   "id": "cce76277-febf-4465-b3df-b14608b9f551",
   "metadata": {},
   "outputs": [
    {
     "name": "stdout",
     "output_type": "stream",
     "text": [
      "1.54 µs ± 66 ns per loop (mean ± std. dev. of 7 runs, 1,000,000 loops each)\n"
     ]
    }
   ],
   "source": [
    "%%timeit\n",
    "1.5/arr[:5]"
   ]
  },
  {
   "cell_type": "code",
   "execution_count": 14,
   "id": "007e96ed-fc8b-4eb5-9e46-e503a7a11de5",
   "metadata": {},
   "outputs": [
    {
     "name": "stdout",
     "output_type": "stream",
     "text": [
      "8.37 µs ± 429 ns per loop (mean ± std. dev. of 7 runs, 100,000 loops each)\n"
     ]
    }
   ],
   "source": [
    "%%timeit\n",
    "newlist = []\n",
    "for x in mylist[:5]:\n",
    "    newlist.append(1.5/x)"
   ]
  },
  {
   "cell_type": "code",
   "execution_count": 15,
   "id": "985ffd3c-450e-43a8-900f-6a30ceca7a21",
   "metadata": {},
   "outputs": [
    {
     "name": "stdout",
     "output_type": "stream",
     "text": [
      "8.41 µs ± 431 ns per loop (mean ± std. dev. of 7 runs, 100,000 loops each)\n"
     ]
    }
   ],
   "source": [
    "%%timeit\n",
    "[1.5/x for x in mylist[:5]]"
   ]
  },
  {
   "cell_type": "markdown",
   "id": "0c60e45f-16f5-4826-b342-eb0dbce97aee",
   "metadata": {},
   "source": [
    "## Counting using NumPy\n",
    "\n",
    "__Goal:__ Use NumPy to estimate probilities"
   ]
  },
  {
   "cell_type": "code",
   "execution_count": 16,
   "id": "a84e82b1-f05c-4ce1-af27-2b6b86304b03",
   "metadata": {},
   "outputs": [],
   "source": [
    "#importy numpy as np\n",
    "#rng = np.random.default_rng()"
   ]
  },
  {
   "cell_type": "code",
   "execution_count": 17,
   "id": "4ae93783-eea1-4441-932e-d6116d0ea786",
   "metadata": {},
   "outputs": [],
   "source": [
    "n = 10**7"
   ]
  },
  {
   "cell_type": "markdown",
   "id": "eda30c07-1a4d-42ef-bc6c-4cc353cc1e8e",
   "metadata": {},
   "source": [
    "- (a) Make a NumPy array of random integers between -50 and 50 inclusive. Make a list of the same numbers."
   ]
  },
  {
   "cell_type": "code",
   "execution_count": 18,
   "id": "7d8add50-d732-48f1-93c6-5bfd1b1b85b4",
   "metadata": {},
   "outputs": [],
   "source": [
    "arr = rng.integers(-50, 51, size=n)"
   ]
  },
  {
   "cell_type": "code",
   "execution_count": 19,
   "id": "8a1c71d7-ae63-4beb-9daa-897a50b79d08",
   "metadata": {},
   "outputs": [],
   "source": [
    "mylist = list(arr)"
   ]
  },
  {
   "cell_type": "markdown",
   "id": "a9c877d9-6fa0-48cf-9694-db14857fbbf0",
   "metadata": {},
   "source": [
    "- (b) How many of the integers are less than 10?"
   ]
  },
  {
   "cell_type": "code",
   "execution_count": 20,
   "id": "dd79ae1d-f229-4c2f-8542-bec112dec4ea",
   "metadata": {},
   "outputs": [
    {
     "data": {
      "text/plain": [
       "5942811"
      ]
     },
     "execution_count": 20,
     "metadata": {},
     "output_type": "execute_result"
    }
   ],
   "source": [
    "count = 0\n",
    "for x in mylist:\n",
    "    if x < 10:\n",
    "        count += 1\n",
    "count"
   ]
  },
  {
   "cell_type": "code",
   "execution_count": 21,
   "id": "efd43409-8e35-4995-a047-e6c372eda094",
   "metadata": {},
   "outputs": [
    {
     "data": {
      "text/plain": [
       "5942811"
      ]
     },
     "execution_count": 21,
     "metadata": {},
     "output_type": "execute_result"
    }
   ],
   "source": [
    "len([x for x in mylist if x < 10])"
   ]
  },
  {
   "cell_type": "code",
   "execution_count": 22,
   "id": "d3a735d9-34a3-45e6-9833-31ca119f0cd3",
   "metadata": {},
   "outputs": [
    {
     "data": {
      "text/plain": [
       "array([ True,  True,  True, ..., False, False, False])"
      ]
     },
     "execution_count": 22,
     "metadata": {},
     "output_type": "execute_result"
    }
   ],
   "source": [
    "arr < 10"
   ]
  },
  {
   "cell_type": "code",
   "execution_count": 23,
   "id": "631a1041-cf1c-4e5c-a30e-fc1689a10a14",
   "metadata": {},
   "outputs": [
    {
     "data": {
      "text/plain": [
       "5942811"
      ]
     },
     "execution_count": 23,
     "metadata": {},
     "output_type": "execute_result"
    }
   ],
   "source": [
    "np.count_nonzero(arr < 10)"
   ]
  },
  {
   "cell_type": "markdown",
   "id": "3a004eba-cf83-4160-9f0e-67760346052e",
   "metadata": {},
   "source": [
    "- (c) At what indices do these integers less than 10 occur?"
   ]
  },
  {
   "cell_type": "code",
   "execution_count": 24,
   "id": "0d854bd8-81d1-44a6-bf83-ac0169947c3d",
   "metadata": {},
   "outputs": [
    {
     "data": {
      "text/plain": [
       "(array([      0,       1,       2, ..., 9999992, 9999993, 9999994]),)"
      ]
     },
     "execution_count": 24,
     "metadata": {},
     "output_type": "execute_result"
    }
   ],
   "source": [
    "np.nonzero(arr < 10)"
   ]
  },
  {
   "cell_type": "markdown",
   "id": "f931e3a2-2e1a-4b25-adb8-c7173501cafe",
   "metadata": {},
   "source": [
    "- (d) Make a new array containing only these integers."
   ]
  },
  {
   "cell_type": "code",
   "execution_count": 27,
   "id": "910880a2-d3ba-4c6f-b1fa-002fc7d63579",
   "metadata": {},
   "outputs": [],
   "source": [
    "newlist = []\n",
    "for x in mylist:\n",
    "    if x < 10:\n",
    "        newlist.append(x)"
   ]
  },
  {
   "cell_type": "code",
   "execution_count": 30,
   "id": "465563e0-bb62-495d-a4b6-1ea62518e03d",
   "metadata": {},
   "outputs": [],
   "source": [
    "#[x for x in mylist if x < 10]"
   ]
  },
  {
   "cell_type": "code",
   "execution_count": 31,
   "id": "eb48616b-ee46-463d-ba0f-0392fb864524",
   "metadata": {},
   "outputs": [
    {
     "data": {
      "text/plain": [
       "array([-13, -49, -18, ..., -46, -15, -17])"
      ]
     },
     "execution_count": 31,
     "metadata": {},
     "output_type": "execute_result"
    }
   ],
   "source": [
    "arr[arr < 10]"
   ]
  },
  {
   "cell_type": "markdown",
   "id": "c2a82825-ffca-4a55-844b-02d15e50119d",
   "metadata": {},
   "source": [
    "- (e) If you pick a random integer from the original array, what is the probability it is less than 10? How long does each method take?"
   ]
  },
  {
   "cell_type": "code",
   "execution_count": 32,
   "id": "0c2619e6-82c5-4d27-9e66-9b88f2f8a08b",
   "metadata": {},
   "outputs": [
    {
     "name": "stdout",
     "output_type": "stream",
     "text": [
      "784 ms ± 35.8 ms per loop (mean ± std. dev. of 7 runs, 1 loop each)\n"
     ]
    }
   ],
   "source": [
    "%%timeit\n",
    "count = 0\n",
    "for x in mylist:\n",
    "    if x < 10:\n",
    "        count += 1\n",
    "count/n"
   ]
  },
  {
   "cell_type": "code",
   "execution_count": 33,
   "id": "b16b4c0b-a97e-4e75-bcb6-e3d5b624a1ae",
   "metadata": {},
   "outputs": [
    {
     "name": "stdout",
     "output_type": "stream",
     "text": [
      "643 ms ± 4.79 ms per loop (mean ± std. dev. of 7 runs, 1 loop each)\n"
     ]
    }
   ],
   "source": [
    "%%timeit\n",
    "len([x for x in mylist if x < 10])/n"
   ]
  },
  {
   "cell_type": "code",
   "execution_count": 34,
   "id": "a68e3e07-2c7e-4f6b-9383-5fd466fe4572",
   "metadata": {},
   "outputs": [
    {
     "name": "stdout",
     "output_type": "stream",
     "text": [
      "5.32 ms ± 41.1 µs per loop (mean ± std. dev. of 7 runs, 100 loops each)\n"
     ]
    }
   ],
   "source": [
    "%%timeit\n",
    "np.count_nonzero(arr < 10)/n"
   ]
  }
 ],
 "metadata": {
  "kernelspec": {
   "display_name": "Python 3 (ipykernel)",
   "language": "python",
   "name": "python3"
  },
  "language_info": {
   "codemirror_mode": {
    "name": "ipython",
    "version": 3
   },
   "file_extension": ".py",
   "mimetype": "text/x-python",
   "name": "python",
   "nbconvert_exporter": "python",
   "pygments_lexer": "ipython3",
   "version": "3.9.13"
  }
 },
 "nbformat": 4,
 "nbformat_minor": 5
}

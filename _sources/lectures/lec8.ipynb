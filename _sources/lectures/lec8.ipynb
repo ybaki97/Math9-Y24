{
 "cells": [
  {
   "cell_type": "markdown",
   "id": "f8a1c4be",
   "metadata": {},
   "source": [
    "# Lecture 8: July 10th, 2024"
   ]
  },
  {
   "cell_type": "markdown",
   "id": "b7c2e57c",
   "metadata": {},
   "source": [
    "__Reminders:__\n",
    "\n",
    "* Students hours Thursdays and Fridays.\n",
    "* Focus on getting MATLAB outcomes done this week.\n",
    "* These notes are posted on Canvas after each lecture."
   ]
  },
  {
   "cell_type": "markdown",
   "id": "dc570ee4",
   "metadata": {},
   "source": [
    "## Getting Started with Jupyter Notebook"
   ]
  },
  {
   "cell_type": "markdown",
   "id": "62effa79",
   "metadata": {},
   "source": [
    "This is an example of a markdown cell. This is the kind of cell where I'll write explanation, upload images, put links, etc. To make a markdown cell, I can do the following:\n",
    "\n",
    "* `esc`\n",
    "* `b` to make a cell below, or `a` to make a cell above\n",
    "* `m` to change the cell type to a markdown cell."
   ]
  },
  {
   "cell_type": "markdown",
   "id": "05ed9b96",
   "metadata": {},
   "source": [
    "I highly recommend spending some time in the beginning learning keyboard shortcuts to save you lots of time in the future."
   ]
  },
  {
   "cell_type": "markdown",
   "id": "e4ee7bdc",
   "metadata": {},
   "source": [
    "To actually run a cell, you can press `cmd+return` or `shift+return`. To enter a cell to edit it, you can press `enter`."
   ]
  },
  {
   "cell_type": "markdown",
   "id": "1863384a",
   "metadata": {},
   "source": [
    "If you are familiar with HTML, many of the same commands will work in Jupyter Notebook markdown cells. For example:\n",
    "\n",
    "* `__this__` will produce __this__\n",
    "* `_this_` will produce _this_\n",
    "* `<font color = red> this </font>` will produce <font color = red> this </font>\n",
    "\n",
    "If you are familiar with $\\LaTeX$, then we can get math to render by wrapping it in `$$`.\n",
    "\n",
    "* `$\\int_0^1 f(x)dx$` gives $\\int_0^1 f(x)dx$\n",
    "* `${n \\choose 2}$` gives ${n \\choose 2}$"
   ]
  },
  {
   "cell_type": "markdown",
   "id": "ee6c370e",
   "metadata": {},
   "source": [
    "## Python Data Types"
   ]
  },
  {
   "cell_type": "markdown",
   "id": "5a8c8319",
   "metadata": {},
   "source": [
    "### Lists and Strings"
   ]
  },
  {
   "cell_type": "markdown",
   "id": "8f24285e",
   "metadata": {},
   "source": [
    "You might wonder why we start by introducing lists and strings. They seem pretty different, but I want to highlight that they actually have many similarities."
   ]
  },
  {
   "cell_type": "code",
   "execution_count": 1,
   "id": "2af2b6e7",
   "metadata": {},
   "outputs": [],
   "source": [
    "s = \"Hello World\""
   ]
  },
  {
   "cell_type": "code",
   "execution_count": 2,
   "id": "c520bd52",
   "metadata": {},
   "outputs": [
    {
     "data": {
      "text/plain": [
       "str"
      ]
     },
     "execution_count": 2,
     "metadata": {},
     "output_type": "execute_result"
    }
   ],
   "source": [
    "type(s)"
   ]
  },
  {
   "cell_type": "code",
   "execution_count": 8,
   "id": "7bb0e0c2",
   "metadata": {},
   "outputs": [
    {
     "name": "stdout",
     "output_type": "stream",
     "text": [
      "Hello World\n"
     ]
    }
   ],
   "source": [
    "print(s)"
   ]
  },
  {
   "cell_type": "code",
   "execution_count": 4,
   "id": "83d1bc2d",
   "metadata": {},
   "outputs": [],
   "source": [
    "s2 = 'Hello World'"
   ]
  },
  {
   "cell_type": "code",
   "execution_count": 5,
   "id": "de968b14",
   "metadata": {},
   "outputs": [
    {
     "data": {
      "text/plain": [
       "str"
      ]
     },
     "execution_count": 5,
     "metadata": {},
     "output_type": "execute_result"
    }
   ],
   "source": [
    "type(s2)"
   ]
  },
  {
   "cell_type": "code",
   "execution_count": 6,
   "id": "be6a7e22",
   "metadata": {},
   "outputs": [
    {
     "name": "stdout",
     "output_type": "stream",
     "text": [
      "Hello World\n"
     ]
    }
   ],
   "source": [
    "print(s2)"
   ]
  },
  {
   "cell_type": "markdown",
   "id": "59d60066",
   "metadata": {},
   "source": [
    "Unlike in MATLAB, we can click on cells above and change their contents."
   ]
  },
  {
   "cell_type": "code",
   "execution_count": 9,
   "id": "9fe199b7",
   "metadata": {},
   "outputs": [],
   "source": [
    "mylist = [3,1,4,1]"
   ]
  },
  {
   "cell_type": "code",
   "execution_count": 10,
   "id": "daf93d53",
   "metadata": {},
   "outputs": [
    {
     "data": {
      "text/plain": [
       "list"
      ]
     },
     "execution_count": 10,
     "metadata": {},
     "output_type": "execute_result"
    }
   ],
   "source": [
    "type(mylist)"
   ]
  },
  {
   "cell_type": "markdown",
   "id": "a964d14d",
   "metadata": {},
   "source": [
    "Here's an area for potential confusion! Indexing starts at 0, and we use `[]` instead of `()`."
   ]
  },
  {
   "cell_type": "code",
   "execution_count": 11,
   "id": "415d5857",
   "metadata": {},
   "outputs": [
    {
     "data": {
      "text/plain": [
       "3"
      ]
     },
     "execution_count": 11,
     "metadata": {},
     "output_type": "execute_result"
    }
   ],
   "source": [
    "mylist[0]"
   ]
  },
  {
   "cell_type": "code",
   "execution_count": 12,
   "id": "29799e65",
   "metadata": {},
   "outputs": [
    {
     "data": {
      "text/plain": [
       "1"
      ]
     },
     "execution_count": 12,
     "metadata": {},
     "output_type": "execute_result"
    }
   ],
   "source": [
    "mylist[1]"
   ]
  },
  {
   "cell_type": "code",
   "execution_count": 13,
   "id": "851b8099",
   "metadata": {},
   "outputs": [
    {
     "data": {
      "text/plain": [
       "'Hello World'"
      ]
     },
     "execution_count": 13,
     "metadata": {},
     "output_type": "execute_result"
    }
   ],
   "source": [
    "s"
   ]
  },
  {
   "cell_type": "code",
   "execution_count": 14,
   "id": "8410fd00",
   "metadata": {},
   "outputs": [
    {
     "data": {
      "text/plain": [
       "11"
      ]
     },
     "execution_count": 14,
     "metadata": {},
     "output_type": "execute_result"
    }
   ],
   "source": [
    "len(s) #notice this is different than `length` in ML"
   ]
  },
  {
   "cell_type": "code",
   "execution_count": 15,
   "id": "f668607a",
   "metadata": {},
   "outputs": [
    {
     "data": {
      "text/plain": [
       "4"
      ]
     },
     "execution_count": 15,
     "metadata": {},
     "output_type": "execute_result"
    }
   ],
   "source": [
    "len(mylist)"
   ]
  },
  {
   "cell_type": "markdown",
   "id": "8235d02e",
   "metadata": {},
   "source": [
    "Suppose I wanted to get the very last element of `s`. This way will cause an error. Think about why."
   ]
  },
  {
   "cell_type": "code",
   "execution_count": 16,
   "id": "d9b5898a",
   "metadata": {},
   "outputs": [
    {
     "ename": "IndexError",
     "evalue": "string index out of range",
     "output_type": "error",
     "traceback": [
      "\u001b[0;31m---------------------------------------------------------------------------\u001b[0m",
      "\u001b[0;31mIndexError\u001b[0m                                Traceback (most recent call last)",
      "Input \u001b[0;32mIn [16]\u001b[0m, in \u001b[0;36m<cell line: 1>\u001b[0;34m()\u001b[0m\n\u001b[0;32m----> 1\u001b[0m \u001b[43ms\u001b[49m\u001b[43m[\u001b[49m\u001b[38;5;28;43mlen\u001b[39;49m\u001b[43m(\u001b[49m\u001b[43ms\u001b[49m\u001b[43m)\u001b[49m\u001b[43m]\u001b[49m\n",
      "\u001b[0;31mIndexError\u001b[0m: string index out of range"
     ]
    }
   ],
   "source": [
    "s[len(s)]"
   ]
  },
  {
   "cell_type": "code",
   "execution_count": 17,
   "id": "789e11a0",
   "metadata": {},
   "outputs": [
    {
     "data": {
      "text/plain": [
       "'d'"
      ]
     },
     "execution_count": 17,
     "metadata": {},
     "output_type": "execute_result"
    }
   ],
   "source": [
    "s[len(s)-1]"
   ]
  },
  {
   "cell_type": "markdown",
   "id": "81f885a7",
   "metadata": {},
   "source": [
    "There's an easier way to do it! Think of the `end` keyword from ML. Python has something similar."
   ]
  },
  {
   "cell_type": "code",
   "execution_count": 18,
   "id": "5028b596",
   "metadata": {},
   "outputs": [
    {
     "data": {
      "text/plain": [
       "'d'"
      ]
     },
     "execution_count": 18,
     "metadata": {},
     "output_type": "execute_result"
    }
   ],
   "source": [
    "s[-1]"
   ]
  },
  {
   "cell_type": "markdown",
   "id": "56eb78ea",
   "metadata": {},
   "source": [
    "We can also keep counting backwards."
   ]
  },
  {
   "cell_type": "code",
   "execution_count": 19,
   "id": "c76f013a",
   "metadata": {},
   "outputs": [
    {
     "data": {
      "text/plain": [
       "'l'"
      ]
     },
     "execution_count": 19,
     "metadata": {},
     "output_type": "execute_result"
    }
   ],
   "source": [
    "s[-2]"
   ]
  },
  {
   "cell_type": "markdown",
   "id": "b109c589",
   "metadata": {},
   "source": [
    "The next thing we'll go over is \"slicing\". This is an extremely important concept, and will be relevant in Math 10."
   ]
  },
  {
   "cell_type": "code",
   "execution_count": 20,
   "id": "9a4b6163",
   "metadata": {},
   "outputs": [
    {
     "data": {
      "text/plain": [
       "'Hello World'"
      ]
     },
     "execution_count": 20,
     "metadata": {},
     "output_type": "execute_result"
    }
   ],
   "source": [
    "s"
   ]
  },
  {
   "cell_type": "code",
   "execution_count": 21,
   "id": "d3469250",
   "metadata": {},
   "outputs": [
    {
     "data": {
      "text/plain": [
       "'ell'"
      ]
     },
     "execution_count": 21,
     "metadata": {},
     "output_type": "execute_result"
    }
   ],
   "source": [
    "s[1:4]"
   ]
  },
  {
   "cell_type": "markdown",
   "id": "d858ab9f",
   "metadata": {},
   "source": [
    "The notation `1:4` means start at 1, go to 4, but don't include 4 itself. Typically in Python we __don't__ include right endpoints. Maybe this seems like not such a good idea, but there is a reason for it..."
   ]
  },
  {
   "cell_type": "code",
   "execution_count": 22,
   "id": "6b95eda6",
   "metadata": {},
   "outputs": [
    {
     "data": {
      "text/plain": [
       "'Hello'"
      ]
     },
     "execution_count": 22,
     "metadata": {},
     "output_type": "execute_result"
    }
   ],
   "source": [
    "s[:5]"
   ]
  },
  {
   "cell_type": "markdown",
   "id": "a5716eae",
   "metadata": {},
   "source": [
    "Notice in the above we get exactly the first 5 elements."
   ]
  },
  {
   "cell_type": "code",
   "execution_count": 23,
   "id": "dc095c16",
   "metadata": {},
   "outputs": [
    {
     "data": {
      "text/plain": [
       "'lo World'"
      ]
     },
     "execution_count": 23,
     "metadata": {},
     "output_type": "execute_result"
    }
   ],
   "source": [
    "s[3:] #start at index 3, go to the end"
   ]
  },
  {
   "cell_type": "markdown",
   "id": "e14989de",
   "metadata": {},
   "source": [
    "I've shown you slicing for strings, but it works exactly the same for lists."
   ]
  },
  {
   "cell_type": "markdown",
   "id": "857ea3e1",
   "metadata": {},
   "source": [
    "Another difference from ML:"
   ]
  },
  {
   "cell_type": "code",
   "execution_count": 24,
   "id": "44a2a51c",
   "metadata": {},
   "outputs": [
    {
     "data": {
      "text/plain": [
       "'Hello World'"
      ]
     },
     "execution_count": 24,
     "metadata": {},
     "output_type": "execute_result"
    }
   ],
   "source": [
    "s"
   ]
  },
  {
   "cell_type": "code",
   "execution_count": 25,
   "id": "1492e97c",
   "metadata": {},
   "outputs": [
    {
     "data": {
      "text/plain": [
       "'el '"
      ]
     },
     "execution_count": 25,
     "metadata": {},
     "output_type": "execute_result"
    }
   ],
   "source": [
    "s[1:7:2]"
   ]
  },
  {
   "cell_type": "markdown",
   "id": "c7ffce7f",
   "metadata": {},
   "source": [
    "`1:7:2` means start at index 1, go up to index 7 but don't include it, and count by 2s."
   ]
  },
  {
   "cell_type": "code",
   "execution_count": 26,
   "id": "9dec8cf1",
   "metadata": {},
   "outputs": [
    {
     "data": {
      "text/plain": [
       "'Hello World'"
      ]
     },
     "execution_count": 26,
     "metadata": {},
     "output_type": "execute_result"
    }
   ],
   "source": [
    "s"
   ]
  },
  {
   "cell_type": "code",
   "execution_count": 27,
   "id": "bc8c5964",
   "metadata": {},
   "outputs": [
    {
     "data": {
      "text/plain": [
       "'HloWrd'"
      ]
     },
     "execution_count": 27,
     "metadata": {},
     "output_type": "execute_result"
    }
   ],
   "source": [
    "s[::2] #index 0, go to end, count by 2"
   ]
  },
  {
   "cell_type": "markdown",
   "id": "0c8042ff",
   "metadata": {},
   "source": [
    "To get the complement of this:"
   ]
  },
  {
   "cell_type": "code",
   "execution_count": 28,
   "id": "c9af8116",
   "metadata": {},
   "outputs": [
    {
     "data": {
      "text/plain": [
       "'el ol'"
      ]
     },
     "execution_count": 28,
     "metadata": {},
     "output_type": "execute_result"
    }
   ],
   "source": [
    "s[1::2]"
   ]
  },
  {
   "cell_type": "markdown",
   "id": "ea7b2dff",
   "metadata": {},
   "source": [
    "### Lists, Tuples, and Sets"
   ]
  },
  {
   "cell_type": "code",
   "execution_count": 29,
   "id": "3e16d0d2",
   "metadata": {},
   "outputs": [],
   "source": [
    "mylist = [3,1,4,1]\n",
    "mytuple = (3,1,4,1)\n",
    "myset = {3,1,4,1}"
   ]
  },
  {
   "cell_type": "code",
   "execution_count": 30,
   "id": "8dd5520b",
   "metadata": {},
   "outputs": [
    {
     "data": {
      "text/plain": [
       "list"
      ]
     },
     "execution_count": 30,
     "metadata": {},
     "output_type": "execute_result"
    }
   ],
   "source": [
    "type(mylist)"
   ]
  },
  {
   "cell_type": "code",
   "execution_count": 31,
   "id": "cdad7663",
   "metadata": {},
   "outputs": [
    {
     "data": {
      "text/plain": [
       "tuple"
      ]
     },
     "execution_count": 31,
     "metadata": {},
     "output_type": "execute_result"
    }
   ],
   "source": [
    "type(mytuple)"
   ]
  },
  {
   "cell_type": "code",
   "execution_count": 32,
   "id": "7cc8bdac",
   "metadata": {},
   "outputs": [
    {
     "data": {
      "text/plain": [
       "set"
      ]
     },
     "execution_count": 32,
     "metadata": {},
     "output_type": "execute_result"
    }
   ],
   "source": [
    "type(myset)"
   ]
  },
  {
   "cell_type": "markdown",
   "id": "e0d72f39",
   "metadata": {},
   "source": [
    "Sets in Python are just like sets in the mathematical (Math 13) sense. \n",
    "- Sets don't have duplicates\n",
    "- Sets don't have a notion of order"
   ]
  },
  {
   "cell_type": "code",
   "execution_count": 33,
   "id": "11d4a45b",
   "metadata": {},
   "outputs": [
    {
     "data": {
      "text/plain": [
       "{1, 3, 4}"
      ]
     },
     "execution_count": 33,
     "metadata": {},
     "output_type": "execute_result"
    }
   ],
   "source": [
    "myset"
   ]
  },
  {
   "cell_type": "markdown",
   "id": "f2b4cb82",
   "metadata": {},
   "source": [
    "Notice I get an error if I assume `myset` has an order."
   ]
  },
  {
   "cell_type": "code",
   "execution_count": 34,
   "id": "7b4ae86f",
   "metadata": {},
   "outputs": [
    {
     "ename": "TypeError",
     "evalue": "'set' object is not subscriptable",
     "output_type": "error",
     "traceback": [
      "\u001b[0;31m---------------------------------------------------------------------------\u001b[0m",
      "\u001b[0;31mTypeError\u001b[0m                                 Traceback (most recent call last)",
      "Input \u001b[0;32mIn [34]\u001b[0m, in \u001b[0;36m<cell line: 1>\u001b[0;34m()\u001b[0m\n\u001b[0;32m----> 1\u001b[0m \u001b[43mmyset\u001b[49m\u001b[43m[\u001b[49m\u001b[38;5;241;43m0\u001b[39;49m\u001b[43m]\u001b[49m\n",
      "\u001b[0;31mTypeError\u001b[0m: 'set' object is not subscriptable"
     ]
    }
   ],
   "source": [
    "myset[0]"
   ]
  },
  {
   "cell_type": "code",
   "execution_count": 35,
   "id": "e220707d",
   "metadata": {},
   "outputs": [
    {
     "data": {
      "text/plain": [
       "3"
      ]
     },
     "execution_count": 35,
     "metadata": {},
     "output_type": "execute_result"
    }
   ],
   "source": [
    "mytuple[0]"
   ]
  },
  {
   "cell_type": "code",
   "execution_count": 36,
   "id": "aa83c015",
   "metadata": {},
   "outputs": [
    {
     "data": {
      "text/plain": [
       "3"
      ]
     },
     "execution_count": 36,
     "metadata": {},
     "output_type": "execute_result"
    }
   ],
   "source": [
    "mylist[0]"
   ]
  },
  {
   "cell_type": "code",
   "execution_count": 37,
   "id": "d71f086a",
   "metadata": {},
   "outputs": [
    {
     "data": {
      "text/plain": [
       "4"
      ]
     },
     "execution_count": 37,
     "metadata": {},
     "output_type": "execute_result"
    }
   ],
   "source": [
    "len(mylist)"
   ]
  },
  {
   "cell_type": "code",
   "execution_count": 38,
   "id": "c1850c26",
   "metadata": {},
   "outputs": [
    {
     "data": {
      "text/plain": [
       "4"
      ]
     },
     "execution_count": 38,
     "metadata": {},
     "output_type": "execute_result"
    }
   ],
   "source": [
    "len(mytuple)"
   ]
  },
  {
   "cell_type": "code",
   "execution_count": 39,
   "id": "dc7f326d",
   "metadata": {},
   "outputs": [
    {
     "data": {
      "text/plain": [
       "3"
      ]
     },
     "execution_count": 39,
     "metadata": {},
     "output_type": "execute_result"
    }
   ],
   "source": [
    "len(myset)"
   ]
  },
  {
   "cell_type": "markdown",
   "id": "07e77e4c",
   "metadata": {},
   "source": [
    "We've seen how sets are different from lists and tuples, but we'll now see how tuples and lists are different from each other."
   ]
  },
  {
   "cell_type": "markdown",
   "id": "b9aec158",
   "metadata": {},
   "source": [
    "__Main Point:__ lists can be changed (mutable), while tuples cannot. "
   ]
  },
  {
   "cell_type": "code",
   "execution_count": 40,
   "id": "eb1e18ec",
   "metadata": {},
   "outputs": [
    {
     "data": {
      "text/plain": [
       "[3, 1, 4, 1]"
      ]
     },
     "execution_count": 40,
     "metadata": {},
     "output_type": "execute_result"
    }
   ],
   "source": [
    "mylist"
   ]
  },
  {
   "cell_type": "code",
   "execution_count": 42,
   "id": "cfb29c2b",
   "metadata": {},
   "outputs": [],
   "source": [
    "mylist[2] = 19"
   ]
  },
  {
   "cell_type": "code",
   "execution_count": 43,
   "id": "092bc395",
   "metadata": {},
   "outputs": [
    {
     "data": {
      "text/plain": [
       "[3, 1, 19, 1]"
      ]
     },
     "execution_count": 43,
     "metadata": {},
     "output_type": "execute_result"
    }
   ],
   "source": [
    "mylist"
   ]
  },
  {
   "cell_type": "code",
   "execution_count": 44,
   "id": "edd3afad",
   "metadata": {},
   "outputs": [
    {
     "ename": "TypeError",
     "evalue": "'tuple' object does not support item assignment",
     "output_type": "error",
     "traceback": [
      "\u001b[0;31m---------------------------------------------------------------------------\u001b[0m",
      "\u001b[0;31mTypeError\u001b[0m                                 Traceback (most recent call last)",
      "Input \u001b[0;32mIn [44]\u001b[0m, in \u001b[0;36m<cell line: 1>\u001b[0;34m()\u001b[0m\n\u001b[0;32m----> 1\u001b[0m mytuple[\u001b[38;5;241m2\u001b[39m] \u001b[38;5;241m=\u001b[39m \u001b[38;5;241m19\u001b[39m\n",
      "\u001b[0;31mTypeError\u001b[0m: 'tuple' object does not support item assignment"
     ]
    }
   ],
   "source": [
    "mytuple[2] = 19"
   ]
  },
  {
   "cell_type": "code",
   "execution_count": 46,
   "id": "32a6ddcb",
   "metadata": {},
   "outputs": [
    {
     "data": {
      "text/plain": [
       "[3, 1, 19, 1, 3, 3]"
      ]
     },
     "execution_count": 46,
     "metadata": {},
     "output_type": "execute_result"
    }
   ],
   "source": [
    "mylist.append(3) #I called this cell twice, so two 3s appeared."
   ]
  },
  {
   "cell_type": "code",
   "execution_count": 48,
   "id": "3a4671e1",
   "metadata": {},
   "outputs": [
    {
     "data": {
      "text/plain": [
       "[3, 1, 19, 1, 3, 3]"
      ]
     },
     "execution_count": 48,
     "metadata": {},
     "output_type": "execute_result"
    }
   ],
   "source": [
    "mylist"
   ]
  },
  {
   "cell_type": "code",
   "execution_count": 47,
   "id": "8551fc3d",
   "metadata": {},
   "outputs": [
    {
     "ename": "AttributeError",
     "evalue": "'tuple' object has no attribute 'append'",
     "output_type": "error",
     "traceback": [
      "\u001b[0;31m---------------------------------------------------------------------------\u001b[0m",
      "\u001b[0;31mAttributeError\u001b[0m                            Traceback (most recent call last)",
      "Input \u001b[0;32mIn [47]\u001b[0m, in \u001b[0;36m<cell line: 1>\u001b[0;34m()\u001b[0m\n\u001b[0;32m----> 1\u001b[0m \u001b[43mmytuple\u001b[49m\u001b[38;5;241;43m.\u001b[39;49m\u001b[43mappend\u001b[49m(\u001b[38;5;241m3\u001b[39m)\n",
      "\u001b[0;31mAttributeError\u001b[0m: 'tuple' object has no attribute 'append'"
     ]
    }
   ],
   "source": [
    "mytuple.append(3)"
   ]
  },
  {
   "cell_type": "markdown",
   "id": "f7033641",
   "metadata": {},
   "source": [
    "So far it seems like tuples are worse than lists. Maybe I can convince you otherwise..."
   ]
  },
  {
   "cell_type": "code",
   "execution_count": 49,
   "id": "7aa0b176",
   "metadata": {},
   "outputs": [],
   "source": [
    "newset = {3,1,(4,1)}"
   ]
  },
  {
   "cell_type": "code",
   "execution_count": 50,
   "id": "63fb7a9f",
   "metadata": {},
   "outputs": [
    {
     "data": {
      "text/plain": [
       "3"
      ]
     },
     "execution_count": 50,
     "metadata": {},
     "output_type": "execute_result"
    }
   ],
   "source": [
    "len(newset)"
   ]
  },
  {
   "cell_type": "code",
   "execution_count": 51,
   "id": "0223fe7f",
   "metadata": {},
   "outputs": [
    {
     "ename": "TypeError",
     "evalue": "unhashable type: 'list'",
     "output_type": "error",
     "traceback": [
      "\u001b[0;31m---------------------------------------------------------------------------\u001b[0m",
      "\u001b[0;31mTypeError\u001b[0m                                 Traceback (most recent call last)",
      "Input \u001b[0;32mIn [51]\u001b[0m, in \u001b[0;36m<cell line: 1>\u001b[0;34m()\u001b[0m\n\u001b[0;32m----> 1\u001b[0m newset2 \u001b[38;5;241m=\u001b[39m {\u001b[38;5;241m3\u001b[39m,\u001b[38;5;241m1\u001b[39m,[\u001b[38;5;241m4\u001b[39m,\u001b[38;5;241m1\u001b[39m]}\n",
      "\u001b[0;31mTypeError\u001b[0m: unhashable type: 'list'"
     ]
    }
   ],
   "source": [
    "newset2 = {3,1,[4,1]}"
   ]
  },
  {
   "cell_type": "markdown",
   "id": "9b010293",
   "metadata": {},
   "source": [
    "What's the point? Tuples can go into sets, but lists cannot. We'll see later in this lecture that tuples can also be keys in dictionaries, but lists cannot."
   ]
  },
  {
   "cell_type": "markdown",
   "id": "24ae16b2",
   "metadata": {},
   "source": [
    "### Ranges and for-loops "
   ]
  },
  {
   "cell_type": "code",
   "execution_count": 52,
   "id": "21b56a7c",
   "metadata": {},
   "outputs": [],
   "source": [
    "mystring = \"Hello World\"\n",
    "mylist = [3,1,4,1]\n",
    "mytuple = (3,1,4,1)\n",
    "myset = {3,1,4,1}"
   ]
  },
  {
   "cell_type": "markdown",
   "id": "cf02f7cf",
   "metadata": {},
   "source": [
    "Let's say I wanted to print every element of `mylist`. Notice that I have an indent after I start the for loop. Everything you want to happen in the loop must be indented at the same level."
   ]
  },
  {
   "cell_type": "code",
   "execution_count": 53,
   "id": "a0ee92d8",
   "metadata": {},
   "outputs": [
    {
     "name": "stdout",
     "output_type": "stream",
     "text": [
      "3\n",
      "1\n",
      "4\n",
      "1\n"
     ]
    }
   ],
   "source": [
    "for x in mylist:\n",
    "    print(x)"
   ]
  },
  {
   "cell_type": "markdown",
   "id": "eab5cce8",
   "metadata": {},
   "source": [
    "Notice in the following that everything is indented at the same level, so it happens every iteration of the loop."
   ]
  },
  {
   "cell_type": "code",
   "execution_count": 54,
   "id": "47ae5b33",
   "metadata": {},
   "outputs": [
    {
     "name": "stdout",
     "output_type": "stream",
     "text": [
      "H\n",
      "<class 'str'>\n",
      "1\n",
      "e\n",
      "<class 'str'>\n",
      "1\n",
      "l\n",
      "<class 'str'>\n",
      "1\n",
      "l\n",
      "<class 'str'>\n",
      "1\n",
      "o\n",
      "<class 'str'>\n",
      "1\n",
      " \n",
      "<class 'str'>\n",
      "1\n",
      "W\n",
      "<class 'str'>\n",
      "1\n",
      "o\n",
      "<class 'str'>\n",
      "1\n",
      "r\n",
      "<class 'str'>\n",
      "1\n",
      "l\n",
      "<class 'str'>\n",
      "1\n",
      "d\n",
      "<class 'str'>\n",
      "1\n"
     ]
    }
   ],
   "source": [
    "for x in mystring:\n",
    "    print(x)\n",
    "    print(type(x))\n",
    "    print(len(x))"
   ]
  },
  {
   "cell_type": "code",
   "execution_count": 55,
   "id": "76abe88a",
   "metadata": {},
   "outputs": [
    {
     "name": "stdout",
     "output_type": "stream",
     "text": [
      "H\n",
      "e\n",
      "l\n",
      "l\n",
      "o\n",
      " \n",
      "W\n",
      "o\n",
      "r\n",
      "l\n",
      "d\n",
      "<class 'str'>\n",
      "1\n"
     ]
    }
   ],
   "source": [
    "for x in mystring:\n",
    "    print(x)\n",
    "print(type(x))\n",
    "print(len(x))"
   ]
  },
  {
   "cell_type": "code",
   "execution_count": 56,
   "id": "b64ad169",
   "metadata": {},
   "outputs": [
    {
     "name": "stdout",
     "output_type": "stream",
     "text": [
      "3\n",
      "1\n",
      "4\n",
      "1\n"
     ]
    }
   ],
   "source": [
    "for x in mytuple:\n",
    "    print(x)"
   ]
  },
  {
   "cell_type": "code",
   "execution_count": 57,
   "id": "d36962f1",
   "metadata": {},
   "outputs": [
    {
     "name": "stdout",
     "output_type": "stream",
     "text": [
      "1\n",
      "3\n",
      "4\n"
     ]
    }
   ],
   "source": [
    "for x in myset:\n",
    "    print(x)"
   ]
  },
  {
   "cell_type": "markdown",
   "id": "81e71b49",
   "metadata": {},
   "source": [
    "You might be wondering how we can set up a loop that does the same thing over and over again."
   ]
  },
  {
   "cell_type": "code",
   "execution_count": 58,
   "id": "1efe4a75",
   "metadata": {},
   "outputs": [
    {
     "name": "stdout",
     "output_type": "stream",
     "text": [
      "0\n",
      "1\n",
      "2\n",
      "3\n",
      "4\n"
     ]
    }
   ],
   "source": [
    "for i in range(5):\n",
    "    print(i)"
   ]
  },
  {
   "cell_type": "code",
   "execution_count": 59,
   "id": "e21a5ed2",
   "metadata": {},
   "outputs": [],
   "source": [
    "myrange = range(10,3,-1)"
   ]
  },
  {
   "cell_type": "code",
   "execution_count": 60,
   "id": "5300c066",
   "metadata": {},
   "outputs": [
    {
     "data": {
      "text/plain": [
       "range"
      ]
     },
     "execution_count": 60,
     "metadata": {},
     "output_type": "execute_result"
    }
   ],
   "source": [
    "type(myrange)"
   ]
  },
  {
   "cell_type": "code",
   "execution_count": 61,
   "id": "dfdf1d1b",
   "metadata": {},
   "outputs": [
    {
     "name": "stdout",
     "output_type": "stream",
     "text": [
      "10\n",
      "9\n",
      "8\n",
      "7\n",
      "6\n",
      "5\n",
      "4\n"
     ]
    }
   ],
   "source": [
    "for i in myrange:\n",
    "    print(i)"
   ]
  },
  {
   "cell_type": "markdown",
   "id": "3141baf4",
   "metadata": {},
   "source": [
    "range objects must follow a particular pattern."
   ]
  },
  {
   "cell_type": "code",
   "execution_count": 63,
   "id": "13adeb04",
   "metadata": {},
   "outputs": [],
   "source": [
    "myrange2 = range(3,1000)"
   ]
  },
  {
   "cell_type": "code",
   "execution_count": 64,
   "id": "40911c19",
   "metadata": {},
   "outputs": [
    {
     "data": {
      "text/plain": [
       "3"
      ]
     },
     "execution_count": 64,
     "metadata": {},
     "output_type": "execute_result"
    }
   ],
   "source": [
    "myrange2[0]"
   ]
  },
  {
   "cell_type": "code",
   "execution_count": 65,
   "id": "0ad6f45d",
   "metadata": {},
   "outputs": [
    {
     "data": {
      "text/plain": [
       "999"
      ]
     },
     "execution_count": 65,
     "metadata": {},
     "output_type": "execute_result"
    }
   ],
   "source": [
    "myrange2[-1]"
   ]
  },
  {
   "cell_type": "code",
   "execution_count": 66,
   "id": "4bb56788",
   "metadata": {},
   "outputs": [
    {
     "data": {
      "text/plain": [
       "range(13, 103, 4)"
      ]
     },
     "execution_count": 66,
     "metadata": {},
     "output_type": "execute_result"
    }
   ],
   "source": [
    "myrange2[10:100:4]"
   ]
  },
  {
   "cell_type": "code",
   "execution_count": 67,
   "id": "20e49e42",
   "metadata": {},
   "outputs": [
    {
     "data": {
      "text/plain": [
       "997"
      ]
     },
     "execution_count": 67,
     "metadata": {},
     "output_type": "execute_result"
    }
   ],
   "source": [
    "len(myrange2)"
   ]
  },
  {
   "cell_type": "markdown",
   "id": "59723e31",
   "metadata": {},
   "source": [
    "* ranges are mostly used with for loops, but I'm spending the time today to emphasize that they're another example of a python data type with many properties. \n",
    "* All data types up until now have been very important. It's a good idea to get comfortable with them. In the future, we'll see some more specialized data types that you don't need to know as much about."
   ]
  },
  {
   "cell_type": "markdown",
   "id": "e0db6675",
   "metadata": {},
   "source": [
    "### ints, floats, and bools "
   ]
  },
  {
   "cell_type": "code",
   "execution_count": 68,
   "id": "a66ccc6c",
   "metadata": {},
   "outputs": [],
   "source": [
    "z = 10/2"
   ]
  },
  {
   "cell_type": "code",
   "execution_count": 69,
   "id": "36ad1e0f",
   "metadata": {},
   "outputs": [
    {
     "data": {
      "text/plain": [
       "True"
      ]
     },
     "execution_count": 69,
     "metadata": {},
     "output_type": "execute_result"
    }
   ],
   "source": [
    "z == 5"
   ]
  },
  {
   "cell_type": "markdown",
   "id": "273bb220",
   "metadata": {},
   "source": [
    "Notice `True` and `False` when capitalized are boolean values."
   ]
  },
  {
   "cell_type": "code",
   "execution_count": 70,
   "id": "c995cfd7",
   "metadata": {},
   "outputs": [
    {
     "data": {
      "text/plain": [
       "bool"
      ]
     },
     "execution_count": 70,
     "metadata": {},
     "output_type": "execute_result"
    }
   ],
   "source": [
    "type(True)"
   ]
  },
  {
   "cell_type": "code",
   "execution_count": 71,
   "id": "ebb79489",
   "metadata": {},
   "outputs": [
    {
     "ename": "NameError",
     "evalue": "name 'true' is not defined",
     "output_type": "error",
     "traceback": [
      "\u001b[0;31m---------------------------------------------------------------------------\u001b[0m",
      "\u001b[0;31mNameError\u001b[0m                                 Traceback (most recent call last)",
      "Input \u001b[0;32mIn [71]\u001b[0m, in \u001b[0;36m<cell line: 1>\u001b[0;34m()\u001b[0m\n\u001b[0;32m----> 1\u001b[0m \u001b[38;5;28mtype\u001b[39m(\u001b[43mtrue\u001b[49m)\n",
      "\u001b[0;31mNameError\u001b[0m: name 'true' is not defined"
     ]
    }
   ],
   "source": [
    "type(true)"
   ]
  },
  {
   "cell_type": "code",
   "execution_count": 72,
   "id": "e52662c0",
   "metadata": {},
   "outputs": [
    {
     "data": {
      "text/plain": [
       "bool"
      ]
     },
     "execution_count": 72,
     "metadata": {},
     "output_type": "execute_result"
    }
   ],
   "source": [
    "type(False)"
   ]
  },
  {
   "cell_type": "code",
   "execution_count": 73,
   "id": "c8afebe0",
   "metadata": {},
   "outputs": [
    {
     "ename": "NameError",
     "evalue": "name 'false' is not defined",
     "output_type": "error",
     "traceback": [
      "\u001b[0;31m---------------------------------------------------------------------------\u001b[0m",
      "\u001b[0;31mNameError\u001b[0m                                 Traceback (most recent call last)",
      "Input \u001b[0;32mIn [73]\u001b[0m, in \u001b[0;36m<cell line: 1>\u001b[0;34m()\u001b[0m\n\u001b[0;32m----> 1\u001b[0m \u001b[38;5;28mtype\u001b[39m(\u001b[43mfalse\u001b[49m)\n",
      "\u001b[0;31mNameError\u001b[0m: name 'false' is not defined"
     ]
    }
   ],
   "source": [
    "type(false)"
   ]
  },
  {
   "cell_type": "code",
   "execution_count": 74,
   "id": "3324bd62",
   "metadata": {},
   "outputs": [
    {
     "data": {
      "text/plain": [
       "range(0, 5)"
      ]
     },
     "execution_count": 74,
     "metadata": {},
     "output_type": "execute_result"
    }
   ],
   "source": [
    "range(5)"
   ]
  },
  {
   "cell_type": "code",
   "execution_count": 75,
   "id": "12cccdde",
   "metadata": {},
   "outputs": [
    {
     "ename": "TypeError",
     "evalue": "'float' object cannot be interpreted as an integer",
     "output_type": "error",
     "traceback": [
      "\u001b[0;31m---------------------------------------------------------------------------\u001b[0m",
      "\u001b[0;31mTypeError\u001b[0m                                 Traceback (most recent call last)",
      "Input \u001b[0;32mIn [75]\u001b[0m, in \u001b[0;36m<cell line: 1>\u001b[0;34m()\u001b[0m\n\u001b[0;32m----> 1\u001b[0m \u001b[38;5;28;43mrange\u001b[39;49m\u001b[43m(\u001b[49m\u001b[43mz\u001b[49m\u001b[43m)\u001b[49m\n",
      "\u001b[0;31mTypeError\u001b[0m: 'float' object cannot be interpreted as an integer"
     ]
    }
   ],
   "source": [
    "range(z)"
   ]
  },
  {
   "cell_type": "code",
   "execution_count": 77,
   "id": "fd3cfd58",
   "metadata": {},
   "outputs": [
    {
     "data": {
      "text/plain": [
       "5.0"
      ]
     },
     "execution_count": 77,
     "metadata": {},
     "output_type": "execute_result"
    }
   ],
   "source": [
    "z"
   ]
  },
  {
   "cell_type": "code",
   "execution_count": 78,
   "id": "0f29c425",
   "metadata": {},
   "outputs": [
    {
     "data": {
      "text/plain": [
       "float"
      ]
     },
     "execution_count": 78,
     "metadata": {},
     "output_type": "execute_result"
    }
   ],
   "source": [
    "type(z)"
   ]
  },
  {
   "cell_type": "markdown",
   "id": "dc969e0a",
   "metadata": {},
   "source": [
    "__Key Point:__ Be careful with floats."
   ]
  },
  {
   "cell_type": "code",
   "execution_count": 79,
   "id": "32b623b1",
   "metadata": {},
   "outputs": [
    {
     "data": {
      "text/plain": [
       "False"
      ]
     },
     "execution_count": 79,
     "metadata": {},
     "output_type": "execute_result"
    }
   ],
   "source": [
    "(0.1 + 0.1 + 0.1) == 0.3"
   ]
  },
  {
   "cell_type": "markdown",
   "id": "0e21bf7d",
   "metadata": {},
   "source": [
    "### dictionaries"
   ]
  },
  {
   "cell_type": "code",
   "execution_count": 80,
   "id": "1b1ba8dd",
   "metadata": {},
   "outputs": [],
   "source": [
    "d = {\"A\":90, \"B\":80, \"C\":70, \"D\":60, \"F\":0}"
   ]
  },
  {
   "cell_type": "code",
   "execution_count": 81,
   "id": "aeec15e8",
   "metadata": {},
   "outputs": [
    {
     "data": {
      "text/plain": [
       "dict"
      ]
     },
     "execution_count": 81,
     "metadata": {},
     "output_type": "execute_result"
    }
   ],
   "source": [
    "type(d)"
   ]
  },
  {
   "cell_type": "markdown",
   "id": "f6371aa2",
   "metadata": {},
   "source": [
    "\"A\",\"B\",\"C\",\"D\", and \"F\" are called _keys_, while 90,80,70,60, and 0 are called _values_."
   ]
  },
  {
   "cell_type": "code",
   "execution_count": 82,
   "id": "8bb421c2",
   "metadata": {},
   "outputs": [
    {
     "ename": "KeyError",
     "evalue": "0",
     "output_type": "error",
     "traceback": [
      "\u001b[0;31m---------------------------------------------------------------------------\u001b[0m",
      "\u001b[0;31mKeyError\u001b[0m                                  Traceback (most recent call last)",
      "Input \u001b[0;32mIn [82]\u001b[0m, in \u001b[0;36m<cell line: 1>\u001b[0;34m()\u001b[0m\n\u001b[0;32m----> 1\u001b[0m \u001b[43md\u001b[49m\u001b[43m[\u001b[49m\u001b[38;5;241;43m0\u001b[39;49m\u001b[43m]\u001b[49m\n",
      "\u001b[0;31mKeyError\u001b[0m: 0"
     ]
    }
   ],
   "source": [
    "d[0]"
   ]
  },
  {
   "cell_type": "markdown",
   "id": "00f38711",
   "metadata": {},
   "source": [
    "We search dictionaries by keys, so the above error is saying that there is no key callled 0."
   ]
  },
  {
   "cell_type": "code",
   "execution_count": 83,
   "id": "f3431f90",
   "metadata": {},
   "outputs": [
    {
     "data": {
      "text/plain": [
       "90"
      ]
     },
     "execution_count": 83,
     "metadata": {},
     "output_type": "execute_result"
    }
   ],
   "source": [
    "d[\"A\"]"
   ]
  },
  {
   "cell_type": "markdown",
   "id": "40c0c111",
   "metadata": {},
   "source": [
    "Values in dictionaries can be almost anything you'd like. Here's an example of how we can add a key-value pair."
   ]
  },
  {
   "cell_type": "code",
   "execution_count": 84,
   "id": "c2bf9102",
   "metadata": {},
   "outputs": [],
   "source": [
    "d[0] = [3,1,4,1]"
   ]
  },
  {
   "cell_type": "code",
   "execution_count": 85,
   "id": "04709c84",
   "metadata": {},
   "outputs": [
    {
     "data": {
      "text/plain": [
       "{'A': 90, 'B': 80, 'C': 70, 'D': 60, 'F': 0, 0: [3, 1, 4, 1]}"
      ]
     },
     "execution_count": 85,
     "metadata": {},
     "output_type": "execute_result"
    }
   ],
   "source": [
    "d"
   ]
  },
  {
   "cell_type": "markdown",
   "id": "0e138b86",
   "metadata": {},
   "source": [
    "Here's how we can reassign values."
   ]
  },
  {
   "cell_type": "code",
   "execution_count": 86,
   "id": "9f63b011",
   "metadata": {},
   "outputs": [],
   "source": [
    "d[\"B\"] = 85"
   ]
  },
  {
   "cell_type": "code",
   "execution_count": 87,
   "id": "7b30db81",
   "metadata": {},
   "outputs": [
    {
     "data": {
      "text/plain": [
       "{'A': 90, 'B': 85, 'C': 70, 'D': 60, 'F': 0, 0: [3, 1, 4, 1]}"
      ]
     },
     "execution_count": 87,
     "metadata": {},
     "output_type": "execute_result"
    }
   ],
   "source": [
    "d"
   ]
  },
  {
   "cell_type": "markdown",
   "id": "761ba7ba",
   "metadata": {},
   "source": [
    "Notice: there can only be one value for each key."
   ]
  },
  {
   "cell_type": "markdown",
   "id": "ccfafd43",
   "metadata": {},
   "source": [
    "This next example shows a dictionary as a value in a dictionary."
   ]
  },
  {
   "cell_type": "code",
   "execution_count": 88,
   "id": "c54f7fbe",
   "metadata": {},
   "outputs": [],
   "source": [
    "d[\"0\"] = {\"hello\":\"first word\",\"world\":\"second word\"}"
   ]
  },
  {
   "cell_type": "code",
   "execution_count": 89,
   "id": "15619b3d",
   "metadata": {},
   "outputs": [
    {
     "data": {
      "text/plain": [
       "{'A': 90,\n",
       " 'B': 85,\n",
       " 'C': 70,\n",
       " 'D': 60,\n",
       " 'F': 0,\n",
       " 0: [3, 1, 4, 1],\n",
       " '0': {'hello': 'first word', 'world': 'second word'}}"
      ]
     },
     "execution_count": 89,
     "metadata": {},
     "output_type": "execute_result"
    }
   ],
   "source": [
    "d"
   ]
  },
  {
   "cell_type": "markdown",
   "id": "685ea672",
   "metadata": {},
   "source": [
    "We have less flexibility for what keys can be."
   ]
  },
  {
   "cell_type": "code",
   "execution_count": 90,
   "id": "67b3acd7",
   "metadata": {},
   "outputs": [
    {
     "ename": "TypeError",
     "evalue": "unhashable type: 'list'",
     "output_type": "error",
     "traceback": [
      "\u001b[0;31m---------------------------------------------------------------------------\u001b[0m",
      "\u001b[0;31mTypeError\u001b[0m                                 Traceback (most recent call last)",
      "Input \u001b[0;32mIn [90]\u001b[0m, in \u001b[0;36m<cell line: 1>\u001b[0;34m()\u001b[0m\n\u001b[0;32m----> 1\u001b[0m myset \u001b[38;5;241m=\u001b[39m {\u001b[38;5;241m3\u001b[39m,\u001b[38;5;241m1\u001b[39m,[\u001b[38;5;241m4\u001b[39m,\u001b[38;5;241m1\u001b[39m]}\n",
      "\u001b[0;31mTypeError\u001b[0m: unhashable type: 'list'"
     ]
    }
   ],
   "source": [
    "myset = {3,1,[4,1]} #error, lists can't go in sets"
   ]
  },
  {
   "cell_type": "code",
   "execution_count": 91,
   "id": "a70c7ff0",
   "metadata": {},
   "outputs": [],
   "source": [
    "myset = {3,1,(4,1)}"
   ]
  },
  {
   "cell_type": "markdown",
   "id": "7807a5ef",
   "metadata": {},
   "source": [
    "The same will be true of keys."
   ]
  },
  {
   "cell_type": "code",
   "execution_count": 92,
   "id": "a9975727",
   "metadata": {},
   "outputs": [
    {
     "ename": "TypeError",
     "evalue": "unhashable type: 'list'",
     "output_type": "error",
     "traceback": [
      "\u001b[0;31m---------------------------------------------------------------------------\u001b[0m",
      "\u001b[0;31mTypeError\u001b[0m                                 Traceback (most recent call last)",
      "Input \u001b[0;32mIn [92]\u001b[0m, in \u001b[0;36m<cell line: 1>\u001b[0;34m()\u001b[0m\n\u001b[0;32m----> 1\u001b[0m d[[\u001b[38;5;241m4\u001b[39m,\u001b[38;5;241m1\u001b[39m]] \u001b[38;5;241m=\u001b[39m \u001b[38;5;124m\"\u001b[39m\u001b[38;5;124mYasmeen\u001b[39m\u001b[38;5;124m\"\u001b[39m\n",
      "\u001b[0;31mTypeError\u001b[0m: unhashable type: 'list'"
     ]
    }
   ],
   "source": [
    "d[[4,1]] = \"Yasmeen\""
   ]
  },
  {
   "cell_type": "code",
   "execution_count": 93,
   "id": "11121ddd",
   "metadata": {},
   "outputs": [],
   "source": [
    "d[(4,1)] = \"Yasmeen\""
   ]
  },
  {
   "cell_type": "code",
   "execution_count": 94,
   "id": "d2d7f485",
   "metadata": {},
   "outputs": [
    {
     "data": {
      "text/plain": [
       "{'A': 90,\n",
       " 'B': 85,\n",
       " 'C': 70,\n",
       " 'D': 60,\n",
       " 'F': 0,\n",
       " 0: [3, 1, 4, 1],\n",
       " '0': {'hello': 'first word', 'world': 'second word'},\n",
       " (4, 1): 'Yasmeen'}"
      ]
     },
     "execution_count": 94,
     "metadata": {},
     "output_type": "execute_result"
    }
   ],
   "source": [
    "d"
   ]
  },
  {
   "cell_type": "markdown",
   "id": "43eafe00",
   "metadata": {},
   "source": [
    "### Converting between data types"
   ]
  },
  {
   "cell_type": "code",
   "execution_count": 95,
   "id": "bfb9504c",
   "metadata": {},
   "outputs": [
    {
     "data": {
      "text/plain": [
       "(3, 1, 4, 1)"
      ]
     },
     "execution_count": 95,
     "metadata": {},
     "output_type": "execute_result"
    }
   ],
   "source": [
    "mylist = [3,1,4,1]\n",
    "tuple(mylist)"
   ]
  },
  {
   "cell_type": "code",
   "execution_count": 96,
   "id": "a0f70e91",
   "metadata": {},
   "outputs": [],
   "source": [
    "x = tuple(mylist)"
   ]
  },
  {
   "cell_type": "code",
   "execution_count": 97,
   "id": "fb6bb6cc",
   "metadata": {},
   "outputs": [
    {
     "data": {
      "text/plain": [
       "tuple"
      ]
     },
     "execution_count": 97,
     "metadata": {},
     "output_type": "execute_result"
    }
   ],
   "source": [
    "type(x)"
   ]
  },
  {
   "cell_type": "code",
   "execution_count": 98,
   "id": "c4616636",
   "metadata": {},
   "outputs": [
    {
     "data": {
      "text/plain": [
       "(3, 1, 4, 1)"
      ]
     },
     "execution_count": 98,
     "metadata": {},
     "output_type": "execute_result"
    }
   ],
   "source": [
    "x"
   ]
  },
  {
   "cell_type": "code",
   "execution_count": 101,
   "id": "9fd2adf8",
   "metadata": {},
   "outputs": [],
   "source": [
    "s = \"Hello World\""
   ]
  },
  {
   "cell_type": "code",
   "execution_count": 102,
   "id": "f22db1d4",
   "metadata": {},
   "outputs": [
    {
     "data": {
      "text/plain": [
       "['H', 'e', 'l', 'l', 'o', ' ', 'W', 'o', 'r', 'l', 'd']"
      ]
     },
     "execution_count": 102,
     "metadata": {},
     "output_type": "execute_result"
    }
   ],
   "source": [
    "list(s)"
   ]
  },
  {
   "cell_type": "markdown",
   "id": "42ce293a",
   "metadata": {},
   "source": [
    "Here's an example of something that doesn't work."
   ]
  },
  {
   "cell_type": "code",
   "execution_count": 103,
   "id": "65bc9644",
   "metadata": {},
   "outputs": [
    {
     "data": {
      "text/plain": [
       "[3, 1, 4, 1]"
      ]
     },
     "execution_count": 103,
     "metadata": {},
     "output_type": "execute_result"
    }
   ],
   "source": [
    "mylist"
   ]
  },
  {
   "cell_type": "code",
   "execution_count": 104,
   "id": "25e7ab36",
   "metadata": {},
   "outputs": [
    {
     "ename": "TypeError",
     "evalue": "cannot convert dictionary update sequence element #0 to a sequence",
     "output_type": "error",
     "traceback": [
      "\u001b[0;31m---------------------------------------------------------------------------\u001b[0m",
      "\u001b[0;31mTypeError\u001b[0m                                 Traceback (most recent call last)",
      "Input \u001b[0;32mIn [104]\u001b[0m, in \u001b[0;36m<cell line: 1>\u001b[0;34m()\u001b[0m\n\u001b[0;32m----> 1\u001b[0m \u001b[38;5;28;43mdict\u001b[39;49m\u001b[43m(\u001b[49m\u001b[43mmylist\u001b[49m\u001b[43m)\u001b[49m\n",
      "\u001b[0;31mTypeError\u001b[0m: cannot convert dictionary update sequence element #0 to a sequence"
     ]
    }
   ],
   "source": [
    "dict(mylist)"
   ]
  },
  {
   "cell_type": "markdown",
   "id": "04162908",
   "metadata": {},
   "source": [
    "Notice, it's not clear in this example what should be the key-value pairs. If we make this more \"obvious\" to Python, then we can convert a list to a dictionary."
   ]
  },
  {
   "cell_type": "code",
   "execution_count": 105,
   "id": "92322a6c",
   "metadata": {},
   "outputs": [],
   "source": [
    "mylist2 = [(3,\"a\"),(1,\"b\"),(1,\"c\")]"
   ]
  },
  {
   "cell_type": "code",
   "execution_count": 106,
   "id": "a72c6691",
   "metadata": {},
   "outputs": [
    {
     "data": {
      "text/plain": [
       "{3: 'a', 1: 'c'}"
      ]
     },
     "execution_count": 106,
     "metadata": {},
     "output_type": "execute_result"
    }
   ],
   "source": [
    "dict(mylist2)"
   ]
  },
  {
   "cell_type": "markdown",
   "id": "55ab456d",
   "metadata": {},
   "source": [
    "We can also convert `True` and `False` to integers."
   ]
  },
  {
   "cell_type": "code",
   "execution_count": 107,
   "id": "eada4f6b",
   "metadata": {},
   "outputs": [
    {
     "data": {
      "text/plain": [
       "True"
      ]
     },
     "execution_count": 107,
     "metadata": {},
     "output_type": "execute_result"
    }
   ],
   "source": [
    "True"
   ]
  },
  {
   "cell_type": "code",
   "execution_count": 108,
   "id": "be789851",
   "metadata": {},
   "outputs": [
    {
     "data": {
      "text/plain": [
       "1"
      ]
     },
     "execution_count": 108,
     "metadata": {},
     "output_type": "execute_result"
    }
   ],
   "source": [
    "int(True)"
   ]
  },
  {
   "cell_type": "code",
   "execution_count": 109,
   "id": "53d09e88",
   "metadata": {},
   "outputs": [
    {
     "data": {
      "text/plain": [
       "False"
      ]
     },
     "execution_count": 109,
     "metadata": {},
     "output_type": "execute_result"
    }
   ],
   "source": [
    "False"
   ]
  },
  {
   "cell_type": "code",
   "execution_count": 110,
   "id": "be66d87d",
   "metadata": {},
   "outputs": [
    {
     "data": {
      "text/plain": [
       "0"
      ]
     },
     "execution_count": 110,
     "metadata": {},
     "output_type": "execute_result"
    }
   ],
   "source": [
    "int(False)"
   ]
  },
  {
   "cell_type": "markdown",
   "id": "a49cec51",
   "metadata": {},
   "source": [
    "Maybe these next examples are a little surprising."
   ]
  },
  {
   "cell_type": "code",
   "execution_count": 111,
   "id": "d909f1b2",
   "metadata": {},
   "outputs": [
    {
     "data": {
      "text/plain": [
       "5"
      ]
     },
     "execution_count": 111,
     "metadata": {},
     "output_type": "execute_result"
    }
   ],
   "source": [
    "4 + True"
   ]
  },
  {
   "cell_type": "code",
   "execution_count": 112,
   "id": "7fdca3a7",
   "metadata": {},
   "outputs": [
    {
     "data": {
      "text/plain": [
       "4"
      ]
     },
     "execution_count": 112,
     "metadata": {},
     "output_type": "execute_result"
    }
   ],
   "source": [
    "4 + False"
   ]
  },
  {
   "cell_type": "markdown",
   "id": "e8bba799",
   "metadata": {},
   "source": [
    "### Timing Comparisons"
   ]
  },
  {
   "cell_type": "markdown",
   "id": "aca75f47",
   "metadata": {},
   "source": [
    "__Point:__ Sets are __fast__ to search through."
   ]
  },
  {
   "cell_type": "code",
   "execution_count": 113,
   "id": "fe490317",
   "metadata": {},
   "outputs": [
    {
     "data": {
      "text/plain": [
       "10000000"
      ]
     },
     "execution_count": 113,
     "metadata": {},
     "output_type": "execute_result"
    }
   ],
   "source": [
    "10000000 #tedious to type :P"
   ]
  },
  {
   "cell_type": "code",
   "execution_count": 114,
   "id": "60b87cf1",
   "metadata": {},
   "outputs": [
    {
     "data": {
      "text/plain": [
       "13"
      ]
     },
     "execution_count": 114,
     "metadata": {},
     "output_type": "execute_result"
    }
   ],
   "source": [
    "10^7 #doesn't give what you expect"
   ]
  },
  {
   "cell_type": "code",
   "execution_count": 115,
   "id": "0ae7537b",
   "metadata": {},
   "outputs": [
    {
     "data": {
      "text/plain": [
       "10000000"
      ]
     },
     "execution_count": 115,
     "metadata": {},
     "output_type": "execute_result"
    }
   ],
   "source": [
    "10**7 #this gives 10^7"
   ]
  },
  {
   "cell_type": "markdown",
   "id": "1e894a83",
   "metadata": {},
   "source": [
    "I want enough elements so that my search is not trivial."
   ]
  },
  {
   "cell_type": "code",
   "execution_count": 116,
   "id": "f4cf9d84",
   "metadata": {},
   "outputs": [],
   "source": [
    "r = range(0,10**7,5)\n",
    "mylist = list(r)\n",
    "mytuple = tuple(r)\n",
    "myset = set(r)"
   ]
  },
  {
   "cell_type": "code",
   "execution_count": 117,
   "id": "18e24a2d",
   "metadata": {},
   "outputs": [
    {
     "data": {
      "text/plain": [
       "set"
      ]
     },
     "execution_count": 117,
     "metadata": {},
     "output_type": "execute_result"
    }
   ],
   "source": [
    "type(myset)"
   ]
  },
  {
   "cell_type": "code",
   "execution_count": 118,
   "id": "00f3830e",
   "metadata": {},
   "outputs": [
    {
     "data": {
      "text/plain": [
       "True"
      ]
     },
     "execution_count": 118,
     "metadata": {},
     "output_type": "execute_result"
    }
   ],
   "source": [
    "0 in mylist"
   ]
  },
  {
   "cell_type": "code",
   "execution_count": 119,
   "id": "1e819308",
   "metadata": {},
   "outputs": [
    {
     "data": {
      "text/plain": [
       "False"
      ]
     },
     "execution_count": 119,
     "metadata": {},
     "output_type": "execute_result"
    }
   ],
   "source": [
    "1 in mylist"
   ]
  },
  {
   "cell_type": "markdown",
   "id": "192b4339",
   "metadata": {},
   "source": [
    "The following is an example of what's called a Jupyter \"magic\". This is not native to Python, it's something that works specifically because we're in Jupyter notebook."
   ]
  },
  {
   "cell_type": "code",
   "execution_count": 120,
   "id": "01ec3087",
   "metadata": {},
   "outputs": [
    {
     "name": "stdout",
     "output_type": "stream",
     "text": [
      "52.9 ns ± 10.2 ns per loop (mean ± std. dev. of 7 runs, 10,000,000 loops each)\n"
     ]
    }
   ],
   "source": [
    "%%timeit\n",
    "0 in mylist"
   ]
  },
  {
   "cell_type": "code",
   "execution_count": 121,
   "id": "6c658ade",
   "metadata": {},
   "outputs": [
    {
     "name": "stdout",
     "output_type": "stream",
     "text": [
      "45.1 ns ± 3.54 ns per loop (mean ± std. dev. of 7 runs, 10,000,000 loops each)\n"
     ]
    }
   ],
   "source": [
    "%%timeit\n",
    "0 in mytuple"
   ]
  },
  {
   "cell_type": "code",
   "execution_count": 123,
   "id": "fd470b3f",
   "metadata": {},
   "outputs": [
    {
     "name": "stdout",
     "output_type": "stream",
     "text": [
      "53 ns ± 4.33 ns per loop (mean ± std. dev. of 7 runs, 10,000,000 loops each)\n"
     ]
    }
   ],
   "source": [
    "%%timeit\n",
    "0 in myset"
   ]
  },
  {
   "cell_type": "markdown",
   "id": "9c05ff8a",
   "metadata": {},
   "source": [
    "You might be surprised because I told you that searching a set is much faster than searching a tuple or a list. But, what's happening here is more a function of the fact that 0 appears in all of my variables, _and_ it's the first entry of mylist and mytuple. We'll get a better sense of how fast things are by searching for something that _never_ appears."
   ]
  },
  {
   "cell_type": "code",
   "execution_count": 126,
   "id": "9f5377fd",
   "metadata": {},
   "outputs": [
    {
     "name": "stdout",
     "output_type": "stream",
     "text": [
      "29.3 ms ± 531 µs per loop (mean ± std. dev. of 7 runs, 10 loops each)\n"
     ]
    }
   ],
   "source": [
    "%%timeit\n",
    "1 in mylist"
   ]
  },
  {
   "cell_type": "code",
   "execution_count": 127,
   "id": "ec1a36b0",
   "metadata": {},
   "outputs": [
    {
     "name": "stdout",
     "output_type": "stream",
     "text": [
      "28.2 ms ± 4.38 ms per loop (mean ± std. dev. of 7 runs, 10 loops each)\n"
     ]
    }
   ],
   "source": [
    "%%timeit \n",
    "1 in mytuple"
   ]
  },
  {
   "cell_type": "code",
   "execution_count": 125,
   "id": "28cba83c",
   "metadata": {},
   "outputs": [
    {
     "name": "stdout",
     "output_type": "stream",
     "text": [
      "47.7 ns ± 1.09 ns per loop (mean ± std. dev. of 7 runs, 10,000,000 loops each)\n"
     ]
    }
   ],
   "source": [
    "%%timeit\n",
    "1 in myset"
   ]
  },
  {
   "cell_type": "markdown",
   "id": "87b96f98",
   "metadata": {},
   "source": [
    "Why so fast? Part of the reason is that lists aren't allowed as elements of sets. Searching a dictionary for keys is equally fast."
   ]
  },
  {
   "cell_type": "markdown",
   "id": "4b72baeb",
   "metadata": {},
   "source": [
    "## Alternating List "
   ]
  },
  {
   "cell_type": "markdown",
   "id": "16a97f7a",
   "metadata": {},
   "source": [
    "__Big Goal:__ Write a function that creates a length $n$ list of alternating $3$'s and $7$'s $[3,7,3,7 \\dots]$."
   ]
  },
  {
   "cell_type": "markdown",
   "id": "dd0a7c7e",
   "metadata": {},
   "source": [
    "## Constant List"
   ]
  },
  {
   "cell_type": "markdown",
   "id": "b7f8cc58",
   "metadata": {},
   "source": [
    "__Mini Goal:__ Write a function that takes as input a natural number $n$ and as output returns a length $n$ list $[3,3, \\dots, 3]$."
   ]
  },
  {
   "cell_type": "markdown",
   "id": "323f5170",
   "metadata": {},
   "source": [
    "We've already seen programming fundamentals in ML. Now we just need to learn the syntax for python."
   ]
  },
  {
   "cell_type": "code",
   "execution_count": 128,
   "id": "445f249d",
   "metadata": {},
   "outputs": [],
   "source": [
    "def f(n):\n",
    "    mylist = []\n",
    "    for i in range(n):\n",
    "        mylist.append(3)"
   ]
  },
  {
   "cell_type": "code",
   "execution_count": 129,
   "id": "bbb8cdd9",
   "metadata": {},
   "outputs": [],
   "source": [
    "f(3)"
   ]
  },
  {
   "cell_type": "markdown",
   "id": "8c717a33",
   "metadata": {},
   "source": [
    "Notice that we didn't actually return anything in our function."
   ]
  },
  {
   "cell_type": "code",
   "execution_count": 131,
   "id": "7453f581",
   "metadata": {},
   "outputs": [],
   "source": [
    "def f(n):\n",
    "    mylist = []\n",
    "    for i in range(n):\n",
    "        mylist.append(3)\n",
    "        return mylist"
   ]
  },
  {
   "cell_type": "code",
   "execution_count": 132,
   "id": "35748aa4",
   "metadata": {},
   "outputs": [
    {
     "data": {
      "text/plain": [
       "[3]"
      ]
     },
     "execution_count": 132,
     "metadata": {},
     "output_type": "execute_result"
    }
   ],
   "source": [
    "f(5)"
   ]
  },
  {
   "cell_type": "code",
   "execution_count": 133,
   "id": "2b7535c7",
   "metadata": {},
   "outputs": [
    {
     "data": {
      "text/plain": [
       "[3]"
      ]
     },
     "execution_count": 133,
     "metadata": {},
     "output_type": "execute_result"
    }
   ],
   "source": [
    "f(4)"
   ]
  },
  {
   "cell_type": "markdown",
   "id": "a0928d94",
   "metadata": {},
   "source": [
    "This is happening because `return` is inside of the for-loop."
   ]
  },
  {
   "cell_type": "code",
   "execution_count": 134,
   "id": "50009c32",
   "metadata": {},
   "outputs": [],
   "source": [
    "def f(n):\n",
    "    mylist = []\n",
    "    for i in range(n):\n",
    "        mylist.append(3)\n",
    "    return mylist"
   ]
  },
  {
   "cell_type": "code",
   "execution_count": 135,
   "id": "2eaf8f17",
   "metadata": {},
   "outputs": [
    {
     "data": {
      "text/plain": [
       "[3, 3, 3, 3, 3]"
      ]
     },
     "execution_count": 135,
     "metadata": {},
     "output_type": "execute_result"
    }
   ],
   "source": [
    "f(5)"
   ]
  },
  {
   "cell_type": "code",
   "execution_count": 136,
   "id": "af480896",
   "metadata": {},
   "outputs": [
    {
     "data": {
      "text/plain": [
       "[3, 3, 3, 3]"
      ]
     },
     "execution_count": 136,
     "metadata": {},
     "output_type": "execute_result"
    }
   ],
   "source": [
    "f(4)"
   ]
  },
  {
   "cell_type": "markdown",
   "id": "52199a03",
   "metadata": {},
   "source": [
    "Question from the chat about what range looks like."
   ]
  },
  {
   "cell_type": "code",
   "execution_count": 137,
   "id": "ffb7aba7",
   "metadata": {},
   "outputs": [
    {
     "data": {
      "text/plain": [
       "range(0, 100, 5)"
      ]
     },
     "execution_count": 137,
     "metadata": {},
     "output_type": "execute_result"
    }
   ],
   "source": [
    "range(0,100,5)"
   ]
  },
  {
   "cell_type": "code",
   "execution_count": 138,
   "id": "52bd31bc",
   "metadata": {},
   "outputs": [
    {
     "data": {
      "text/plain": [
       "[0, 5, 10, 15, 20, 25, 30, 35, 40, 45, 50, 55, 60, 65, 70, 75, 80, 85, 90, 95]"
      ]
     },
     "execution_count": 138,
     "metadata": {},
     "output_type": "execute_result"
    }
   ],
   "source": [
    "list(range(0,100,5))"
   ]
  }
 ],
 "metadata": {
  "kernelspec": {
   "display_name": "Python 3 (ipykernel)",
   "language": "python",
   "name": "python3"
  },
  "language_info": {
   "codemirror_mode": {
    "name": "ipython",
    "version": 3
   },
   "file_extension": ".py",
   "mimetype": "text/x-python",
   "name": "python",
   "nbconvert_exporter": "python",
   "pygments_lexer": "ipython3",
   "version": "3.9.13"
  }
 },
 "nbformat": 4,
 "nbformat_minor": 5
}

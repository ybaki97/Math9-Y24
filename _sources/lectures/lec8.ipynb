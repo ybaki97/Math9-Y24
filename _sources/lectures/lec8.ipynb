{
 "cells": [
  {
   "cell_type": "markdown",
   "id": "f8a1c4be",
   "metadata": {},
   "source": [
    "# Lecture 8: July 10th, 2024"
   ]
  },
  {
   "cell_type": "markdown",
   "id": "dc570ee4",
   "metadata": {},
   "source": [
    "## Getting Started with Jupyter Notebook"
   ]
  },
  {
   "cell_type": "markdown",
   "id": "ee6c370e",
   "metadata": {},
   "source": [
    "## Python Data Types"
   ]
  }
 ],
 "metadata": {
  "kernelspec": {
   "display_name": "Python 3 (ipykernel)",
   "language": "python",
   "name": "python3"
  },
  "language_info": {
   "codemirror_mode": {
    "name": "ipython",
    "version": 3
   },
   "file_extension": ".py",
   "mimetype": "text/x-python",
   "name": "python",
   "nbconvert_exporter": "python",
   "pygments_lexer": "ipython3",
   "version": "3.9.13"
  }
 },
 "nbformat": 4,
 "nbformat_minor": 5
}

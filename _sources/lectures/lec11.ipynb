{
 "cells": [
  {
   "cell_type": "markdown",
   "id": "4fd75942",
   "metadata": {},
   "source": [
    "# Lecture 11: July 17th, 2024 "
   ]
  },
  {
   "cell_type": "code",
   "execution_count": 17,
   "id": "eb2fba51",
   "metadata": {
    "scrolled": false
   },
   "outputs": [],
   "source": [
    "import numpy as np"
   ]
  },
  {
   "cell_type": "markdown",
   "id": "19cbb958",
   "metadata": {},
   "source": [
    "## An exact probability "
   ]
  },
  {
   "cell_type": "markdown",
   "id": "e72ddd7e",
   "metadata": {},
   "source": [
    "__Goal:__ Compute the exact probability of the question from last time. \n",
    "\n",
    "<blockquote>If you roll 4 distinct 6-sided dice, what is the probability that the largest value is 5?</blockquote>"
   ]
  },
  {
   "cell_type": "markdown",
   "id": "dc3a81da",
   "metadata": {},
   "source": [
    "I claim that we can compute an exact value. Notice that there are only 1296 total outcomes. We can definitely iterate through all of them."
   ]
  },
  {
   "cell_type": "code",
   "execution_count": 1,
   "id": "84f06383",
   "metadata": {
    "scrolled": false
   },
   "outputs": [
    {
     "data": {
      "text/plain": [
       "1296"
      ]
     },
     "execution_count": 1,
     "metadata": {},
     "output_type": "execute_result"
    }
   ],
   "source": [
    "6**4"
   ]
  },
  {
   "cell_type": "markdown",
   "id": "ee91c05f",
   "metadata": {},
   "source": [
    "The idea now is that we'll list out all of the possible outcomes, and count how many of them have 5 as the largest number. The first method is what you might think to do first, and then I'll show you a more elegant way."
   ]
  },
  {
   "cell_type": "code",
   "execution_count": 2,
   "id": "da79f337",
   "metadata": {
    "scrolled": false
   },
   "outputs": [
    {
     "name": "stdout",
     "output_type": "stream",
     "text": [
      "Help on class range in module builtins:\n",
      "\n",
      "class range(object)\n",
      " |  range(stop) -> range object\n",
      " |  range(start, stop[, step]) -> range object\n",
      " |  \n",
      " |  Return an object that produces a sequence of integers from start (inclusive)\n",
      " |  to stop (exclusive) by step.  range(i, j) produces i, i+1, i+2, ..., j-1.\n",
      " |  start defaults to 0, and stop is omitted!  range(4) produces 0, 1, 2, 3.\n",
      " |  These are exactly the valid indices for a list of 4 elements.\n",
      " |  When step is given, it specifies the increment (or decrement).\n",
      " |  \n",
      " |  Methods defined here:\n",
      " |  \n",
      " |  __bool__(self, /)\n",
      " |      True if self else False\n",
      " |  \n",
      " |  __contains__(self, key, /)\n",
      " |      Return key in self.\n",
      " |  \n",
      " |  __eq__(self, value, /)\n",
      " |      Return self==value.\n",
      " |  \n",
      " |  __ge__(self, value, /)\n",
      " |      Return self>=value.\n",
      " |  \n",
      " |  __getattribute__(self, name, /)\n",
      " |      Return getattr(self, name).\n",
      " |  \n",
      " |  __getitem__(self, key, /)\n",
      " |      Return self[key].\n",
      " |  \n",
      " |  __gt__(self, value, /)\n",
      " |      Return self>value.\n",
      " |  \n",
      " |  __hash__(self, /)\n",
      " |      Return hash(self).\n",
      " |  \n",
      " |  __iter__(self, /)\n",
      " |      Implement iter(self).\n",
      " |  \n",
      " |  __le__(self, value, /)\n",
      " |      Return self<=value.\n",
      " |  \n",
      " |  __len__(self, /)\n",
      " |      Return len(self).\n",
      " |  \n",
      " |  __lt__(self, value, /)\n",
      " |      Return self<value.\n",
      " |  \n",
      " |  __ne__(self, value, /)\n",
      " |      Return self!=value.\n",
      " |  \n",
      " |  __reduce__(...)\n",
      " |      Helper for pickle.\n",
      " |  \n",
      " |  __repr__(self, /)\n",
      " |      Return repr(self).\n",
      " |  \n",
      " |  __reversed__(...)\n",
      " |      Return a reverse iterator.\n",
      " |  \n",
      " |  count(...)\n",
      " |      rangeobject.count(value) -> integer -- return number of occurrences of value\n",
      " |  \n",
      " |  index(...)\n",
      " |      rangeobject.index(value) -> integer -- return index of value.\n",
      " |      Raise ValueError if the value is not present.\n",
      " |  \n",
      " |  ----------------------------------------------------------------------\n",
      " |  Static methods defined here:\n",
      " |  \n",
      " |  __new__(*args, **kwargs) from builtins.type\n",
      " |      Create and return a new object.  See help(type) for accurate signature.\n",
      " |  \n",
      " |  ----------------------------------------------------------------------\n",
      " |  Data descriptors defined here:\n",
      " |  \n",
      " |  start\n",
      " |  \n",
      " |  step\n",
      " |  \n",
      " |  stop\n",
      "\n"
     ]
    }
   ],
   "source": [
    "help(range)"
   ]
  },
  {
   "cell_type": "code",
   "execution_count": 3,
   "id": "72d63c26",
   "metadata": {
    "scrolled": false
   },
   "outputs": [],
   "source": [
    "all_dice = []\n",
    "\n",
    "for i in range(1,7):\n",
    "    for j in range(1,7):\n",
    "        for k in range(1,7):\n",
    "            for l in range(1,7):\n",
    "                all_dice.append((i,j,k,l))"
   ]
  },
  {
   "cell_type": "code",
   "execution_count": 4,
   "id": "9c795f08",
   "metadata": {
    "scrolled": true
   },
   "outputs": [
    {
     "data": {
      "text/plain": [
       "1296"
      ]
     },
     "execution_count": 4,
     "metadata": {},
     "output_type": "execute_result"
    }
   ],
   "source": [
    "len(all_dice)"
   ]
  },
  {
   "cell_type": "markdown",
   "id": "06a91677",
   "metadata": {},
   "source": [
    "Try to predict what this will look like before we run the code. It's good practice for iterating through nested for-loops."
   ]
  },
  {
   "cell_type": "code",
   "execution_count": 5,
   "id": "bc1a8ef0",
   "metadata": {
    "scrolled": true
   },
   "outputs": [
    {
     "data": {
      "text/plain": [
       "[(1, 1, 1, 1),\n",
       " (1, 1, 1, 2),\n",
       " (1, 1, 1, 3),\n",
       " (1, 1, 1, 4),\n",
       " (1, 1, 1, 5),\n",
       " (1, 1, 1, 6),\n",
       " (1, 1, 2, 1),\n",
       " (1, 1, 2, 2),\n",
       " (1, 1, 2, 3),\n",
       " (1, 1, 2, 4)]"
      ]
     },
     "execution_count": 5,
     "metadata": {},
     "output_type": "execute_result"
    }
   ],
   "source": [
    "all_dice[:10]"
   ]
  },
  {
   "cell_type": "markdown",
   "id": "52c4d29f",
   "metadata": {},
   "source": [
    "Some things that are not-so-great about this for-loop method:\n",
    "\n",
    "* Time efficiency \n",
    "* There's a lot of repetition. There's the concept of DRY (Don't Repeat Yourself) code. Notice that we've repeated ourselves a lot! \n",
    "    * Any time you see yourself writing the same line of code over and over again, there's usually a better way to do it."
   ]
  },
  {
   "cell_type": "code",
   "execution_count": 6,
   "id": "23da7fb5",
   "metadata": {
    "scrolled": true
   },
   "outputs": [],
   "source": [
    "from itertools import product"
   ]
  },
  {
   "cell_type": "code",
   "execution_count": 7,
   "id": "f7b70397",
   "metadata": {
    "scrolled": true
   },
   "outputs": [
    {
     "name": "stdout",
     "output_type": "stream",
     "text": [
      "Help on class product in module itertools:\n",
      "\n",
      "class product(builtins.object)\n",
      " |  product(*iterables, repeat=1) --> product object\n",
      " |  \n",
      " |  Cartesian product of input iterables.  Equivalent to nested for-loops.\n",
      " |  \n",
      " |  For example, product(A, B) returns the same as:  ((x,y) for x in A for y in B).\n",
      " |  The leftmost iterators are in the outermost for-loop, so the output tuples\n",
      " |  cycle in a manner similar to an odometer (with the rightmost element changing\n",
      " |  on every iteration).\n",
      " |  \n",
      " |  To compute the product of an iterable with itself, specify the number\n",
      " |  of repetitions with the optional repeat keyword argument. For example,\n",
      " |  product(A, repeat=4) means the same as product(A, A, A, A).\n",
      " |  \n",
      " |  product('ab', range(3)) --> ('a',0) ('a',1) ('a',2) ('b',0) ('b',1) ('b',2)\n",
      " |  product((0,1), (0,1), (0,1)) --> (0,0,0) (0,0,1) (0,1,0) (0,1,1) (1,0,0) ...\n",
      " |  \n",
      " |  Methods defined here:\n",
      " |  \n",
      " |  __getattribute__(self, name, /)\n",
      " |      Return getattr(self, name).\n",
      " |  \n",
      " |  __iter__(self, /)\n",
      " |      Implement iter(self).\n",
      " |  \n",
      " |  __next__(self, /)\n",
      " |      Implement next(self).\n",
      " |  \n",
      " |  __reduce__(...)\n",
      " |      Return state information for pickling.\n",
      " |  \n",
      " |  __setstate__(...)\n",
      " |      Set state information for unpickling.\n",
      " |  \n",
      " |  __sizeof__(...)\n",
      " |      Returns size in memory, in bytes.\n",
      " |  \n",
      " |  ----------------------------------------------------------------------\n",
      " |  Static methods defined here:\n",
      " |  \n",
      " |  __new__(*args, **kwargs) from builtins.type\n",
      " |      Create and return a new object.  See help(type) for accurate signature.\n",
      "\n"
     ]
    }
   ],
   "source": [
    "help(product)"
   ]
  },
  {
   "cell_type": "code",
   "execution_count": 9,
   "id": "3262aea3",
   "metadata": {
    "scrolled": false
   },
   "outputs": [
    {
     "data": {
      "text/plain": [
       "[(1, 1),\n",
       " (1, 2),\n",
       " (1, 3),\n",
       " (1, 4),\n",
       " (1, 5),\n",
       " (1, 6),\n",
       " (2, 1),\n",
       " (2, 2),\n",
       " (2, 3),\n",
       " (2, 4),\n",
       " (2, 5),\n",
       " (2, 6),\n",
       " (3, 1),\n",
       " (3, 2),\n",
       " (3, 3),\n",
       " (3, 4),\n",
       " (3, 5),\n",
       " (3, 6),\n",
       " (4, 1),\n",
       " (4, 2),\n",
       " (4, 3),\n",
       " (4, 4),\n",
       " (4, 5),\n",
       " (4, 6),\n",
       " (5, 1),\n",
       " (5, 2),\n",
       " (5, 3),\n",
       " (5, 4),\n",
       " (5, 5),\n",
       " (5, 6),\n",
       " (6, 1),\n",
       " (6, 2),\n",
       " (6, 3),\n",
       " (6, 4),\n",
       " (6, 5),\n",
       " (6, 6)]"
      ]
     },
     "execution_count": 9,
     "metadata": {},
     "output_type": "execute_result"
    }
   ],
   "source": [
    "#let's start with repeat=2 just to see what's going on\n",
    "list(product(range(1,7),repeat=2))"
   ]
  },
  {
   "cell_type": "code",
   "execution_count": 10,
   "id": "8721a106",
   "metadata": {
    "scrolled": false
   },
   "outputs": [],
   "source": [
    "temp_list = list(product(range(1,7),repeat=4))"
   ]
  },
  {
   "cell_type": "markdown",
   "id": "da7c08b2",
   "metadata": {},
   "source": [
    "Let's see a few more examples with `product` before we go in and compute the probability."
   ]
  },
  {
   "cell_type": "code",
   "execution_count": 11,
   "id": "a9d9cd56",
   "metadata": {
    "scrolled": false
   },
   "outputs": [
    {
     "data": {
      "text/plain": [
       "[('a', 5), ('a', 6), ('b', 5), ('b', 6), ('c', 5), ('c', 6)]"
      ]
     },
     "execution_count": 11,
     "metadata": {},
     "output_type": "execute_result"
    }
   ],
   "source": [
    "list(product([\"a\",\"b\",\"c\"],[5,6])) #cartesian product"
   ]
  },
  {
   "cell_type": "markdown",
   "id": "796b2edc",
   "metadata": {},
   "source": [
    "Notice the use of repeat in the following example."
   ]
  },
  {
   "cell_type": "code",
   "execution_count": 14,
   "id": "52d201a8",
   "metadata": {
    "scrolled": false
   },
   "outputs": [
    {
     "data": {
      "text/plain": [
       "[('a', 'a', 'a'),\n",
       " ('a', 'a', 'b'),\n",
       " ('a', 'a', 'c'),\n",
       " ('a', 'b', 'a'),\n",
       " ('a', 'b', 'b'),\n",
       " ('a', 'b', 'c'),\n",
       " ('a', 'c', 'a'),\n",
       " ('a', 'c', 'b'),\n",
       " ('a', 'c', 'c'),\n",
       " ('b', 'a', 'a'),\n",
       " ('b', 'a', 'b'),\n",
       " ('b', 'a', 'c'),\n",
       " ('b', 'b', 'a'),\n",
       " ('b', 'b', 'b'),\n",
       " ('b', 'b', 'c'),\n",
       " ('b', 'c', 'a'),\n",
       " ('b', 'c', 'b'),\n",
       " ('b', 'c', 'c'),\n",
       " ('c', 'a', 'a'),\n",
       " ('c', 'a', 'b'),\n",
       " ('c', 'a', 'c'),\n",
       " ('c', 'b', 'a'),\n",
       " ('c', 'b', 'b'),\n",
       " ('c', 'b', 'c'),\n",
       " ('c', 'c', 'a'),\n",
       " ('c', 'c', 'b'),\n",
       " ('c', 'c', 'c')]"
      ]
     },
     "execution_count": 14,
     "metadata": {},
     "output_type": "execute_result"
    }
   ],
   "source": [
    "list(product([\"a\",\"b\",\"c\"],[\"a\",\"b\",\"c\"],[\"a\",\"b\",\"c\"]))"
   ]
  },
  {
   "cell_type": "code",
   "execution_count": 13,
   "id": "2a566508",
   "metadata": {
    "scrolled": false
   },
   "outputs": [
    {
     "data": {
      "text/plain": [
       "[('a', 'a', 'a'),\n",
       " ('a', 'a', 'b'),\n",
       " ('a', 'a', 'c'),\n",
       " ('a', 'b', 'a'),\n",
       " ('a', 'b', 'b'),\n",
       " ('a', 'b', 'c'),\n",
       " ('a', 'c', 'a'),\n",
       " ('a', 'c', 'b'),\n",
       " ('a', 'c', 'c'),\n",
       " ('b', 'a', 'a'),\n",
       " ('b', 'a', 'b'),\n",
       " ('b', 'a', 'c'),\n",
       " ('b', 'b', 'a'),\n",
       " ('b', 'b', 'b'),\n",
       " ('b', 'b', 'c'),\n",
       " ('b', 'c', 'a'),\n",
       " ('b', 'c', 'b'),\n",
       " ('b', 'c', 'c'),\n",
       " ('c', 'a', 'a'),\n",
       " ('c', 'a', 'b'),\n",
       " ('c', 'a', 'c'),\n",
       " ('c', 'b', 'a'),\n",
       " ('c', 'b', 'b'),\n",
       " ('c', 'b', 'c'),\n",
       " ('c', 'c', 'a'),\n",
       " ('c', 'c', 'b'),\n",
       " ('c', 'c', 'c')]"
      ]
     },
     "execution_count": 13,
     "metadata": {},
     "output_type": "execute_result"
    }
   ],
   "source": [
    "list(product([\"a\",\"b\",\"c\"],repeat=3))"
   ]
  },
  {
   "cell_type": "code",
   "execution_count": 12,
   "id": "64e5b775",
   "metadata": {
    "scrolled": false
   },
   "outputs": [
    {
     "name": "stdout",
     "output_type": "stream",
     "text": [
      "a\n",
      "b\n",
      "c\n"
     ]
    }
   ],
   "source": [
    "for x in [\"a\",\"b\",\"c\"]:\n",
    "    print(x)"
   ]
  },
  {
   "cell_type": "code",
   "execution_count": 16,
   "id": "959dbdb9",
   "metadata": {
    "scrolled": false
   },
   "outputs": [
    {
     "data": {
      "text/plain": [
       "1296"
      ]
     },
     "execution_count": 16,
     "metadata": {},
     "output_type": "execute_result"
    }
   ],
   "source": [
    "len(temp_list)"
   ]
  },
  {
   "cell_type": "code",
   "execution_count": 18,
   "id": "50e76b5d",
   "metadata": {
    "scrolled": false
   },
   "outputs": [],
   "source": [
    "arr = np.array(temp_list)"
   ]
  },
  {
   "cell_type": "code",
   "execution_count": 20,
   "id": "d68e57b7",
   "metadata": {
    "scrolled": false
   },
   "outputs": [
    {
     "data": {
      "text/plain": [
       "array([[1, 1, 1, 1],\n",
       "       [1, 1, 1, 2],\n",
       "       [1, 1, 1, 3],\n",
       "       [1, 1, 1, 4],\n",
       "       [1, 1, 1, 5],\n",
       "       [1, 1, 1, 6],\n",
       "       [1, 1, 2, 1],\n",
       "       [1, 1, 2, 2],\n",
       "       [1, 1, 2, 3],\n",
       "       [1, 1, 2, 4]])"
      ]
     },
     "execution_count": 20,
     "metadata": {},
     "output_type": "execute_result"
    }
   ],
   "source": [
    "arr[:10]"
   ]
  },
  {
   "cell_type": "code",
   "execution_count": 19,
   "id": "474e3471",
   "metadata": {
    "scrolled": false
   },
   "outputs": [
    {
     "data": {
      "text/plain": [
       "(1296, 4)"
      ]
     },
     "execution_count": 19,
     "metadata": {},
     "output_type": "execute_result"
    }
   ],
   "source": [
    "arr.shape"
   ]
  },
  {
   "cell_type": "code",
   "execution_count": 24,
   "id": "30c8891c",
   "metadata": {
    "scrolled": false
   },
   "outputs": [
    {
     "data": {
      "text/plain": [
       "0.2847222222222222"
      ]
     },
     "execution_count": 24,
     "metadata": {},
     "output_type": "execute_result"
    }
   ],
   "source": [
    "#here is our exact probability\n",
    "(arr.max(axis = 1) == 5).mean()"
   ]
  },
  {
   "cell_type": "code",
   "execution_count": 25,
   "id": "aca8a5c6",
   "metadata": {
    "scrolled": false
   },
   "outputs": [
    {
     "data": {
      "text/plain": [
       "0.2847222222222223"
      ]
     },
     "execution_count": 25,
     "metadata": {},
     "output_type": "execute_result"
    }
   ],
   "source": [
    "#Mathematically\n",
    "(5/6)**4 - (4/6)**4"
   ]
  },
  {
   "cell_type": "markdown",
   "id": "0427a1f0",
   "metadata": {},
   "source": [
    "## `any` and `all` "
   ]
  },
  {
   "cell_type": "code",
   "execution_count": 26,
   "id": "96d20cfc",
   "metadata": {
    "scrolled": false
   },
   "outputs": [],
   "source": [
    "rng = np.random.default_rng()"
   ]
  },
  {
   "cell_type": "markdown",
   "id": "016e044c",
   "metadata": {},
   "source": [
    "* Make a 100 row, 4 column NumPy array of random real numbers between 0 and 1."
   ]
  },
  {
   "cell_type": "code",
   "execution_count": 31,
   "id": "048c79b0",
   "metadata": {
    "scrolled": false
   },
   "outputs": [
    {
     "data": {
      "text/plain": [
       "0.5785174345640893"
      ]
     },
     "execution_count": 31,
     "metadata": {},
     "output_type": "execute_result"
    }
   ],
   "source": [
    "rng.random()"
   ]
  },
  {
   "cell_type": "code",
   "execution_count": 33,
   "id": "bf983b6e",
   "metadata": {
    "scrolled": false
   },
   "outputs": [],
   "source": [
    "arr = rng.random(size=(100,4))"
   ]
  },
  {
   "cell_type": "code",
   "execution_count": 34,
   "id": "15633c77",
   "metadata": {
    "scrolled": false
   },
   "outputs": [
    {
     "data": {
      "text/plain": [
       "array([[0.40624337, 0.5378342 , 0.82133773, 0.8894171 ],\n",
       "       [0.74711459, 0.11780409, 0.1364746 , 0.55430406],\n",
       "       [0.98098738, 0.12213209, 0.99136173, 0.42695145],\n",
       "       [0.33435934, 0.11342574, 0.81749248, 0.00476634],\n",
       "       [0.92969382, 0.95581602, 0.86704815, 0.53561191]])"
      ]
     },
     "execution_count": 34,
     "metadata": {},
     "output_type": "execute_result"
    }
   ],
   "source": [
    "arr[:5]"
   ]
  },
  {
   "cell_type": "markdown",
   "id": "88eaaf63",
   "metadata": {},
   "source": [
    "* Find the subarray containing all rows in which at least one number is greater than 0.9"
   ]
  },
  {
   "cell_type": "markdown",
   "id": "7f5fdc90",
   "metadata": {},
   "source": [
    "Let's practice with the first 5 rows, and then we'll do the whole array."
   ]
  },
  {
   "cell_type": "code",
   "execution_count": 36,
   "id": "6d711ef1",
   "metadata": {
    "scrolled": false
   },
   "outputs": [
    {
     "data": {
      "text/plain": [
       "array([False, False,  True, False,  True])"
      ]
     },
     "execution_count": 36,
     "metadata": {},
     "output_type": "execute_result"
    }
   ],
   "source": [
    "(arr[:5] > 0.9).any(axis=1)"
   ]
  },
  {
   "cell_type": "code",
   "execution_count": 37,
   "id": "fe6d7bf0",
   "metadata": {
    "scrolled": false
   },
   "outputs": [
    {
     "data": {
      "text/plain": [
       "2"
      ]
     },
     "execution_count": 37,
     "metadata": {},
     "output_type": "execute_result"
    }
   ],
   "source": [
    "(arr[:5] > 0.9).any(axis=1).sum()"
   ]
  },
  {
   "cell_type": "markdown",
   "id": "1ec7f553",
   "metadata": {},
   "source": [
    "Here's an example of boolean indexing, where we keep only the rows where at least one element is larger than 0.9."
   ]
  },
  {
   "cell_type": "code",
   "execution_count": 38,
   "id": "8afadbb9",
   "metadata": {
    "scrolled": false
   },
   "outputs": [
    {
     "data": {
      "text/plain": [
       "array([[0.98098738, 0.12213209, 0.99136173, 0.42695145],\n",
       "       [0.92969382, 0.95581602, 0.86704815, 0.53561191]])"
      ]
     },
     "execution_count": 38,
     "metadata": {},
     "output_type": "execute_result"
    }
   ],
   "source": [
    "arr[:5][(arr[:5] > 0.9).any(axis=1)]"
   ]
  },
  {
   "cell_type": "markdown",
   "id": "b10d1238",
   "metadata": {},
   "source": [
    "Now for the whole array, and not just the first 5 rows."
   ]
  },
  {
   "cell_type": "code",
   "execution_count": 39,
   "id": "0cf400d4",
   "metadata": {
    "scrolled": false
   },
   "outputs": [
    {
     "data": {
      "text/plain": [
       "array([[0.98098738, 0.12213209, 0.99136173, 0.42695145],\n",
       "       [0.92969382, 0.95581602, 0.86704815, 0.53561191],\n",
       "       [0.26299191, 0.91725939, 0.7396239 , 0.35315734],\n",
       "       [0.76424767, 0.07296775, 0.98504967, 0.71837278],\n",
       "       [0.92948207, 0.85994845, 0.67447024, 0.2477325 ],\n",
       "       [0.30571581, 0.46302444, 0.94687297, 0.79040623],\n",
       "       [0.97422121, 0.8194787 , 0.05402564, 0.38577634],\n",
       "       [0.94444593, 0.79932293, 0.11396907, 0.32188097],\n",
       "       [0.90704845, 0.22689578, 0.77330896, 0.54458391],\n",
       "       [0.94224102, 0.9382032 , 0.46842465, 0.84812382],\n",
       "       [0.65333607, 0.95023806, 0.27546515, 0.84692087],\n",
       "       [0.53447862, 0.41772819, 0.5545759 , 0.97497601],\n",
       "       [0.25089317, 0.97460391, 0.39827117, 0.21373961],\n",
       "       [0.18454744, 0.28763993, 0.9997678 , 0.60633733],\n",
       "       [0.73136688, 0.90193453, 0.08807143, 0.39348309],\n",
       "       [0.90390872, 0.3967107 , 0.46807354, 0.35973876],\n",
       "       [0.17114071, 0.94207451, 0.35474207, 0.28944731],\n",
       "       [0.11979512, 0.83620929, 0.97832953, 0.31039504],\n",
       "       [0.06565898, 0.92039964, 0.78086794, 0.86566081],\n",
       "       [0.78120579, 0.68806187, 0.9453859 , 0.72279718],\n",
       "       [0.40864363, 0.33582883, 0.45874045, 0.94123781],\n",
       "       [0.9087027 , 0.85508252, 0.77528494, 0.02383943],\n",
       "       [0.99693606, 0.70852735, 0.62970216, 0.8635477 ],\n",
       "       [0.71836885, 0.72217486, 0.96768396, 0.14819863],\n",
       "       [0.278729  , 0.45281231, 0.23557044, 0.94360228],\n",
       "       [0.99618632, 0.02521935, 0.12914878, 0.84389857],\n",
       "       [0.03925872, 0.46621806, 0.9725838 , 0.66411799],\n",
       "       [0.68592529, 0.94711288, 0.58015281, 0.18903767],\n",
       "       [0.18816345, 0.92327326, 0.84275345, 0.95546132],\n",
       "       [0.33040792, 0.91801063, 0.05390134, 0.08489159],\n",
       "       [0.6695858 , 0.98069077, 0.93549026, 0.46700628],\n",
       "       [0.97985446, 0.95352633, 0.80391656, 0.96553042],\n",
       "       [0.90974653, 0.72576777, 0.50424015, 0.25095564],\n",
       "       [0.93888398, 0.16953372, 0.00651409, 0.32343748],\n",
       "       [0.20800854, 0.59230869, 0.9805027 , 0.79201075],\n",
       "       [0.91901794, 0.50896682, 0.08199818, 0.22041285],\n",
       "       [0.9632713 , 0.31499122, 0.45780189, 0.76050338],\n",
       "       [0.94564745, 0.85275182, 0.83786927, 0.19110434]])"
      ]
     },
     "execution_count": 39,
     "metadata": {},
     "output_type": "execute_result"
    }
   ],
   "source": [
    "arr[(arr > 0.9).any(axis=1)]"
   ]
  },
  {
   "cell_type": "markdown",
   "id": "31c725ff",
   "metadata": {},
   "source": [
    "* Find the subarray containing all rows in which no numbers are between 0.4 and 0.6."
   ]
  },
  {
   "cell_type": "code",
   "execution_count": 40,
   "id": "810ac1dd",
   "metadata": {
    "scrolled": true
   },
   "outputs": [
    {
     "data": {
      "text/plain": [
       "array([[0.40624337, 0.5378342 , 0.82133773, 0.8894171 ],\n",
       "       [0.74711459, 0.11780409, 0.1364746 , 0.55430406],\n",
       "       [0.98098738, 0.12213209, 0.99136173, 0.42695145],\n",
       "       [0.33435934, 0.11342574, 0.81749248, 0.00476634],\n",
       "       [0.92969382, 0.95581602, 0.86704815, 0.53561191]])"
      ]
     },
     "execution_count": 40,
     "metadata": {},
     "output_type": "execute_result"
    }
   ],
   "source": [
    "arr[:5]"
   ]
  },
  {
   "cell_type": "code",
   "execution_count": 46,
   "id": "ff51e3fd",
   "metadata": {},
   "outputs": [
    {
     "data": {
      "text/plain": [
       "array([[False, False,  True,  True],\n",
       "       [ True,  True,  True, False],\n",
       "       [ True,  True,  True, False],\n",
       "       [ True,  True,  True,  True],\n",
       "       [ True,  True,  True, False]])"
      ]
     },
     "execution_count": 46,
     "metadata": {},
     "output_type": "execute_result"
    }
   ],
   "source": [
    "((arr[:5] < 0.4)|(arr[:5] > 0.6))"
   ]
  },
  {
   "cell_type": "code",
   "execution_count": 42,
   "id": "9e58cf62",
   "metadata": {
    "scrolled": true
   },
   "outputs": [
    {
     "data": {
      "text/plain": [
       "array([False, False, False,  True, False])"
      ]
     },
     "execution_count": 42,
     "metadata": {},
     "output_type": "execute_result"
    }
   ],
   "source": [
    "((arr[:5] < 0.4)|(arr[:5] > 0.6)).all(axis=1)"
   ]
  },
  {
   "cell_type": "code",
   "execution_count": 44,
   "id": "93df0f2c",
   "metadata": {
    "scrolled": true
   },
   "outputs": [
    {
     "data": {
      "text/plain": [
       "(100,)"
      ]
     },
     "execution_count": 44,
     "metadata": {},
     "output_type": "execute_result"
    }
   ],
   "source": [
    "((arr < 0.4)|(arr > 0.6)).all(axis=1).shape"
   ]
  },
  {
   "cell_type": "markdown",
   "id": "763691d1",
   "metadata": {},
   "source": [
    "To get the full subarray"
   ]
  },
  {
   "cell_type": "code",
   "execution_count": 45,
   "id": "42ec685a",
   "metadata": {
    "scrolled": true
   },
   "outputs": [
    {
     "data": {
      "text/plain": [
       "array([[0.33435934, 0.11342574, 0.81749248, 0.00476634],\n",
       "       [0.26299191, 0.91725939, 0.7396239 , 0.35315734],\n",
       "       [0.76424767, 0.07296775, 0.98504967, 0.71837278],\n",
       "       [0.92948207, 0.85994845, 0.67447024, 0.2477325 ],\n",
       "       [0.14636106, 0.81629512, 0.31269615, 0.28734118],\n",
       "       [0.97422121, 0.8194787 , 0.05402564, 0.38577634],\n",
       "       [0.37546177, 0.75619981, 0.35022317, 0.30633374],\n",
       "       [0.70263436, 0.82449652, 0.78041626, 0.08655296],\n",
       "       [0.94444593, 0.79932293, 0.11396907, 0.32188097],\n",
       "       [0.04706312, 0.12133183, 0.78534269, 0.62352465],\n",
       "       [0.65333607, 0.95023806, 0.27546515, 0.84692087],\n",
       "       [0.25317025, 0.16095503, 0.73573737, 0.28610559],\n",
       "       [0.25089317, 0.97460391, 0.39827117, 0.21373961],\n",
       "       [0.84831992, 0.03557131, 0.16619586, 0.86691926],\n",
       "       [0.08338736, 0.07626593, 0.0066986 , 0.74342543],\n",
       "       [0.77255364, 0.26095486, 0.06480588, 0.29481606],\n",
       "       [0.01446364, 0.86841444, 0.17721023, 0.09872224],\n",
       "       [0.10063076, 0.72317332, 0.23567305, 0.89722789],\n",
       "       [0.71147292, 0.70301036, 0.35340532, 0.77677765],\n",
       "       [0.18454744, 0.28763993, 0.9997678 , 0.60633733],\n",
       "       [0.73136688, 0.90193453, 0.08807143, 0.39348309],\n",
       "       [0.72794064, 0.64269267, 0.30695019, 0.7392291 ],\n",
       "       [0.17114071, 0.94207451, 0.35474207, 0.28944731],\n",
       "       [0.02723963, 0.8335794 , 0.15066434, 0.80098856],\n",
       "       [0.11979512, 0.83620929, 0.97832953, 0.31039504],\n",
       "       [0.79616748, 0.65608575, 0.30978945, 0.72047441],\n",
       "       [0.06565898, 0.92039964, 0.78086794, 0.86566081],\n",
       "       [0.78120579, 0.68806187, 0.9453859 , 0.72279718],\n",
       "       [0.9087027 , 0.85508252, 0.77528494, 0.02383943],\n",
       "       [0.99693606, 0.70852735, 0.62970216, 0.8635477 ],\n",
       "       [0.71836885, 0.72217486, 0.96768396, 0.14819863],\n",
       "       [0.33647858, 0.06187885, 0.8265547 , 0.00750367],\n",
       "       [0.99618632, 0.02521935, 0.12914878, 0.84389857],\n",
       "       [0.29022926, 0.80590501, 0.09974048, 0.29029677],\n",
       "       [0.89612964, 0.72731702, 0.22387276, 0.39070982],\n",
       "       [0.07137737, 0.18184031, 0.0558611 , 0.00407228],\n",
       "       [0.18816345, 0.92327326, 0.84275345, 0.95546132],\n",
       "       [0.33040792, 0.91801063, 0.05390134, 0.08489159],\n",
       "       [0.12219065, 0.62837242, 0.3109609 , 0.11066622],\n",
       "       [0.97985446, 0.95352633, 0.80391656, 0.96553042],\n",
       "       [0.93888398, 0.16953372, 0.00651409, 0.32343748],\n",
       "       [0.10028073, 0.04760691, 0.7109468 , 0.6911321 ],\n",
       "       [0.94564745, 0.85275182, 0.83786927, 0.19110434],\n",
       "       [0.22496453, 0.74521008, 0.05565676, 0.28747531]])"
      ]
     },
     "execution_count": 45,
     "metadata": {},
     "output_type": "execute_result"
    }
   ],
   "source": [
    "arr[((arr < 0.4)|(arr > 0.6)).all(axis=1)]"
   ]
  },
  {
   "cell_type": "markdown",
   "id": "06237399",
   "metadata": {},
   "source": [
    "## Binary to Decimal: Version 1 "
   ]
  },
  {
   "cell_type": "markdown",
   "id": "acc54899",
   "metadata": {},
   "source": [
    "$$\n",
    "\\begin{pmatrix}\n",
    "1 & 0 & 1 & 0 \\\\\n",
    "0 & 1 & 0 & 0 \\\\\n",
    "1 & 1 & 1 & 1\n",
    "\\end{pmatrix} \\mapsto\n",
    "\\begin{pmatrix}\n",
    "10 \\\\\n",
    "4 \\\\\n",
    "15\n",
    "\\end{pmatrix}\n",
    "$$"
   ]
  },
  {
   "cell_type": "markdown",
   "id": "a908728b",
   "metadata": {},
   "source": [
    "__Goal:__ Write a function `to_bin` which takes as input an $m \\times n$ NumPy array of 0s and 1s, and as output returns the corresponding base 10 integers (we think of each row as representing the binary digits of an integer)."
   ]
  },
  {
   "cell_type": "markdown",
   "id": "e3ed1071",
   "metadata": {},
   "source": [
    "Let's talk a little bit about converting between binary and decimal. Jessica will cover more, but here are the basics."
   ]
  },
  {
   "cell_type": "markdown",
   "id": "5f3c510e",
   "metadata": {},
   "source": [
    "Someone give me a number between 100 and 1000: 170. \n",
    "* In decimal, we use the digits 0-9 and multiply with powers of 10."
   ]
  },
  {
   "cell_type": "markdown",
   "id": "cf93a757",
   "metadata": {},
   "source": [
    "$170 = 100 + 70 + 0 = 1 \\times 10^2 + 7 \\times 10^1 + 0 \\times 10^0$\n",
    "\n",
    "$543 = 5 \\times 10^2 + 4 \\times 10^1 + 3 \\times 10^0$"
   ]
  },
  {
   "cell_type": "markdown",
   "id": "e869350f",
   "metadata": {},
   "source": [
    "* In binary, we use digits 0-1 and multiply with powers of 2."
   ]
  },
  {
   "cell_type": "markdown",
   "id": "7b699ddd",
   "metadata": {},
   "source": [
    "$1010 = 1 \\times 2^3 + 0 \\times 2^2 + 1 \\times 2^1 + 0 \\times 2^0 = 8 + 2 = 10$ "
   ]
  },
  {
   "cell_type": "markdown",
   "id": "9c91d94f",
   "metadata": {},
   "source": [
    "Let's try to get all of our ideas together, and then write the function."
   ]
  },
  {
   "cell_type": "code",
   "execution_count": 47,
   "id": "ac30c509",
   "metadata": {},
   "outputs": [],
   "source": [
    "arr = rng.integers(2,size=(10,4))"
   ]
  },
  {
   "cell_type": "code",
   "execution_count": 48,
   "id": "ccc807ed",
   "metadata": {},
   "outputs": [
    {
     "data": {
      "text/plain": [
       "array([[0, 0, 1, 1],\n",
       "       [0, 1, 1, 0],\n",
       "       [1, 0, 0, 1],\n",
       "       [0, 0, 0, 1],\n",
       "       [0, 0, 0, 0],\n",
       "       [0, 0, 0, 0],\n",
       "       [1, 1, 0, 1],\n",
       "       [0, 0, 0, 1],\n",
       "       [1, 1, 0, 0],\n",
       "       [0, 1, 1, 1]])"
      ]
     },
     "execution_count": 48,
     "metadata": {},
     "output_type": "execute_result"
    }
   ],
   "source": [
    "arr"
   ]
  },
  {
   "cell_type": "code",
   "execution_count": 50,
   "id": "15ea079c",
   "metadata": {},
   "outputs": [],
   "source": [
    "#tuple unpacking\n",
    "m,n = arr.shape"
   ]
  },
  {
   "cell_type": "code",
   "execution_count": 54,
   "id": "f5f0c3c3",
   "metadata": {},
   "outputs": [
    {
     "data": {
      "text/plain": [
       "(10, 4)"
      ]
     },
     "execution_count": 54,
     "metadata": {},
     "output_type": "execute_result"
    }
   ],
   "source": [
    "arr.shape"
   ]
  },
  {
   "cell_type": "code",
   "execution_count": 52,
   "id": "c957e45b",
   "metadata": {},
   "outputs": [
    {
     "data": {
      "text/plain": [
       "10"
      ]
     },
     "execution_count": 52,
     "metadata": {},
     "output_type": "execute_result"
    }
   ],
   "source": [
    "m"
   ]
  },
  {
   "cell_type": "code",
   "execution_count": 53,
   "id": "1d446903",
   "metadata": {},
   "outputs": [
    {
     "data": {
      "text/plain": [
       "4"
      ]
     },
     "execution_count": 53,
     "metadata": {},
     "output_type": "execute_result"
    }
   ],
   "source": [
    "n"
   ]
  },
  {
   "cell_type": "markdown",
   "id": "aaa39681",
   "metadata": {},
   "source": [
    "These are the powers of 2 that I will be taking."
   ]
  },
  {
   "cell_type": "code",
   "execution_count": 55,
   "id": "dca1a503",
   "metadata": {},
   "outputs": [
    {
     "data": {
      "text/plain": [
       "array([3, 2, 1, 0])"
      ]
     },
     "execution_count": 55,
     "metadata": {},
     "output_type": "execute_result"
    }
   ],
   "source": [
    "np.arange(n-1,-1,-1)"
   ]
  },
  {
   "cell_type": "code",
   "execution_count": 56,
   "id": "7b2c5622",
   "metadata": {},
   "outputs": [
    {
     "data": {
      "text/plain": [
       "array([8, 4, 2, 1])"
      ]
     },
     "execution_count": 56,
     "metadata": {},
     "output_type": "execute_result"
    }
   ],
   "source": [
    "2**np.arange(n-1,-1,-1)"
   ]
  },
  {
   "cell_type": "code",
   "execution_count": 57,
   "id": "9d9c8344",
   "metadata": {},
   "outputs": [
    {
     "data": {
      "text/plain": [
       "array([[0, 0, 1, 1],\n",
       "       [0, 1, 1, 0],\n",
       "       [1, 0, 0, 1],\n",
       "       [0, 0, 0, 1],\n",
       "       [0, 0, 0, 0],\n",
       "       [0, 0, 0, 0],\n",
       "       [1, 1, 0, 1],\n",
       "       [0, 0, 0, 1],\n",
       "       [1, 1, 0, 0],\n",
       "       [0, 1, 1, 1]])"
      ]
     },
     "execution_count": 57,
     "metadata": {},
     "output_type": "execute_result"
    }
   ],
   "source": [
    "arr"
   ]
  },
  {
   "cell_type": "code",
   "execution_count": 58,
   "id": "b137094b",
   "metadata": {},
   "outputs": [
    {
     "data": {
      "text/plain": [
       "array([[0, 0, 2, 1],\n",
       "       [0, 4, 2, 0],\n",
       "       [8, 0, 0, 1],\n",
       "       [0, 0, 0, 1],\n",
       "       [0, 0, 0, 0],\n",
       "       [0, 0, 0, 0],\n",
       "       [8, 4, 0, 1],\n",
       "       [0, 0, 0, 1],\n",
       "       [8, 4, 0, 0],\n",
       "       [0, 4, 2, 1]])"
      ]
     },
     "execution_count": 58,
     "metadata": {},
     "output_type": "execute_result"
    }
   ],
   "source": [
    "arr*2**np.arange(n-1,-1,-1)"
   ]
  },
  {
   "cell_type": "code",
   "execution_count": 59,
   "id": "cbfedd2e",
   "metadata": {},
   "outputs": [
    {
     "data": {
      "text/plain": [
       "array([ 3,  6,  9,  1,  0,  0, 13,  1, 12,  7])"
      ]
     },
     "execution_count": 59,
     "metadata": {},
     "output_type": "execute_result"
    }
   ],
   "source": [
    "(arr*2**np.arange(n-1,-1,-1)).sum(axis=1)"
   ]
  },
  {
   "cell_type": "code",
   "execution_count": 60,
   "id": "7f907c77",
   "metadata": {},
   "outputs": [],
   "source": [
    "def to_bin(arr):\n",
    "    _,n = arr.shape\n",
    "    return (arr*2**np.arange(n-1,-1,-1)).sum(axis=1)"
   ]
  },
  {
   "cell_type": "code",
   "execution_count": 61,
   "id": "c45902c0",
   "metadata": {},
   "outputs": [
    {
     "data": {
      "text/plain": [
       "array([ 3,  6,  9,  1,  0,  0, 13,  1, 12,  7])"
      ]
     },
     "execution_count": 61,
     "metadata": {},
     "output_type": "execute_result"
    }
   ],
   "source": [
    "to_bin(arr)"
   ]
  },
  {
   "cell_type": "code",
   "execution_count": 62,
   "id": "0e7f850a",
   "metadata": {},
   "outputs": [
    {
     "data": {
      "text/plain": [
       "array([3, 2])"
      ]
     },
     "execution_count": 62,
     "metadata": {},
     "output_type": "execute_result"
    }
   ],
   "source": [
    "to_bin(np.array([[1,1],[1,0]]))"
   ]
  },
  {
   "cell_type": "markdown",
   "id": "f8bc838c",
   "metadata": {},
   "source": [
    "## Binary to Decimal: Version 2 "
   ]
  },
  {
   "cell_type": "markdown",
   "id": "63ac4615",
   "metadata": {},
   "source": [
    "We want to write a function that does the same thing as `to_bin` above, but now let's write it using a different idea."
   ]
  },
  {
   "cell_type": "code",
   "execution_count": 63,
   "id": "f54b94e2",
   "metadata": {},
   "outputs": [
    {
     "data": {
      "text/plain": [
       "array([[0, 0, 1, 1],\n",
       "       [0, 1, 1, 0],\n",
       "       [1, 0, 0, 1],\n",
       "       [0, 0, 0, 1],\n",
       "       [0, 0, 0, 0],\n",
       "       [0, 0, 0, 0],\n",
       "       [1, 1, 0, 1],\n",
       "       [0, 0, 0, 1],\n",
       "       [1, 1, 0, 0],\n",
       "       [0, 1, 1, 1]])"
      ]
     },
     "execution_count": 63,
     "metadata": {},
     "output_type": "execute_result"
    }
   ],
   "source": [
    "arr"
   ]
  },
  {
   "cell_type": "markdown",
   "id": "a1a3688e",
   "metadata": {},
   "source": [
    "Here's the idea for the new function."
   ]
  },
  {
   "cell_type": "code",
   "execution_count": 64,
   "id": "2ff7accf",
   "metadata": {},
   "outputs": [
    {
     "data": {
      "text/plain": [
       "1001"
      ]
     },
     "execution_count": 64,
     "metadata": {},
     "output_type": "execute_result"
    }
   ],
   "source": [
    "int(\"1001\")"
   ]
  },
  {
   "cell_type": "code",
   "execution_count": 65,
   "id": "9d734b9e",
   "metadata": {},
   "outputs": [
    {
     "data": {
      "text/plain": [
       "9"
      ]
     },
     "execution_count": 65,
     "metadata": {},
     "output_type": "execute_result"
    }
   ],
   "source": [
    "int(\"1001\",2)"
   ]
  },
  {
   "cell_type": "code",
   "execution_count": 66,
   "id": "4f643c82",
   "metadata": {},
   "outputs": [
    {
     "data": {
      "text/plain": [
       "1001"
      ]
     },
     "execution_count": 66,
     "metadata": {},
     "output_type": "execute_result"
    }
   ],
   "source": [
    "int(\"1001\",10)"
   ]
  },
  {
   "cell_type": "markdown",
   "id": "0bf4498c",
   "metadata": {},
   "source": [
    "Let's test this idea outside of a function, and then put it all together once we have it working."
   ]
  },
  {
   "cell_type": "code",
   "execution_count": 67,
   "id": "53ebcd40",
   "metadata": {},
   "outputs": [],
   "source": [
    "z = arr[0]"
   ]
  },
  {
   "cell_type": "code",
   "execution_count": 69,
   "id": "21a9dc6f",
   "metadata": {},
   "outputs": [
    {
     "data": {
      "text/plain": [
       "array([0, 0, 1, 1])"
      ]
     },
     "execution_count": 69,
     "metadata": {},
     "output_type": "execute_result"
    }
   ],
   "source": [
    "z"
   ]
  },
  {
   "cell_type": "code",
   "execution_count": 70,
   "id": "06cc958c",
   "metadata": {},
   "outputs": [
    {
     "data": {
      "text/plain": [
       "[0, 0, 1, 1]"
      ]
     },
     "execution_count": 70,
     "metadata": {},
     "output_type": "execute_result"
    }
   ],
   "source": [
    "[x for x in z]"
   ]
  },
  {
   "cell_type": "code",
   "execution_count": 71,
   "id": "19c3063c",
   "metadata": {},
   "outputs": [
    {
     "data": {
      "text/plain": [
       "['0', '0', '1', '1']"
      ]
     },
     "execution_count": 71,
     "metadata": {},
     "output_type": "execute_result"
    }
   ],
   "source": [
    "[str(x) for x in z]"
   ]
  },
  {
   "cell_type": "code",
   "execution_count": 72,
   "id": "acadfe8a",
   "metadata": {},
   "outputs": [
    {
     "data": {
      "text/plain": [
       "'0011'"
      ]
     },
     "execution_count": 72,
     "metadata": {},
     "output_type": "execute_result"
    }
   ],
   "source": [
    "''.join([str(x) for x in z])"
   ]
  },
  {
   "cell_type": "code",
   "execution_count": 90,
   "id": "d35eb915",
   "metadata": {},
   "outputs": [],
   "source": [
    "def helper(z):\n",
    "    temp = ''.join([str(x) for x in z])\n",
    "    return int(temp,2)"
   ]
  },
  {
   "cell_type": "code",
   "execution_count": 91,
   "id": "7f1d5b2a",
   "metadata": {},
   "outputs": [
    {
     "data": {
      "text/plain": [
       "3"
      ]
     },
     "execution_count": 91,
     "metadata": {},
     "output_type": "execute_result"
    }
   ],
   "source": [
    "helper(z)"
   ]
  },
  {
   "cell_type": "code",
   "execution_count": 92,
   "id": "78f4ae10",
   "metadata": {},
   "outputs": [
    {
     "data": {
      "text/plain": [
       "6"
      ]
     },
     "execution_count": 92,
     "metadata": {},
     "output_type": "execute_result"
    }
   ],
   "source": [
    "helper(arr[1])"
   ]
  },
  {
   "cell_type": "code",
   "execution_count": 94,
   "id": "15e5244a",
   "metadata": {},
   "outputs": [],
   "source": [
    "def to_bin2(A):\n",
    "    return np.apply_along_axis(helper, axis=1,arr=A)"
   ]
  },
  {
   "cell_type": "code",
   "execution_count": 95,
   "id": "04df26ab",
   "metadata": {},
   "outputs": [
    {
     "data": {
      "text/plain": [
       "array([ 3,  6,  9,  1,  0,  0, 13,  1, 12,  7])"
      ]
     },
     "execution_count": 95,
     "metadata": {},
     "output_type": "execute_result"
    }
   ],
   "source": [
    "to_bin2(arr)"
   ]
  },
  {
   "cell_type": "markdown",
   "id": "0fca5bab",
   "metadata": {},
   "source": [
    "## Raising Errors "
   ]
  },
  {
   "cell_type": "markdown",
   "id": "8c9d0d5d",
   "metadata": {},
   "source": [
    "__Goal:__ Edit the `to_bin` function so that it raises an error if the input is not a NumPy array and also if an entry is not 0 or 1."
   ]
  },
  {
   "cell_type": "code",
   "execution_count": 96,
   "id": "3245a3ca",
   "metadata": {},
   "outputs": [],
   "source": [
    "def to_bin(arr):\n",
    "    _,n = arr.shape\n",
    "    return (arr*2**np.arange(n-1,-1,-1)).sum(axis=1)"
   ]
  },
  {
   "cell_type": "code",
   "execution_count": 97,
   "id": "3c0b753b",
   "metadata": {},
   "outputs": [
    {
     "data": {
      "text/plain": [
       "array([[0, 0, 1, 1],\n",
       "       [0, 1, 1, 0],\n",
       "       [1, 0, 0, 1],\n",
       "       [0, 0, 0, 1],\n",
       "       [0, 0, 0, 0],\n",
       "       [0, 0, 0, 0],\n",
       "       [1, 1, 0, 1],\n",
       "       [0, 0, 0, 1],\n",
       "       [1, 1, 0, 0],\n",
       "       [0, 1, 1, 1]])"
      ]
     },
     "execution_count": 97,
     "metadata": {},
     "output_type": "execute_result"
    }
   ],
   "source": [
    "arr"
   ]
  },
  {
   "cell_type": "code",
   "execution_count": 98,
   "id": "682e1566",
   "metadata": {},
   "outputs": [
    {
     "data": {
      "text/plain": [
       "numpy.ndarray"
      ]
     },
     "execution_count": 98,
     "metadata": {},
     "output_type": "execute_result"
    }
   ],
   "source": [
    "type(arr)"
   ]
  },
  {
   "cell_type": "markdown",
   "id": "d4c29d5e",
   "metadata": {},
   "source": [
    "You might be tempted to check `type(arr) == np.ndarray`, but this is something you'll almost never see in practice."
   ]
  },
  {
   "cell_type": "markdown",
   "id": "55f7d914",
   "metadata": {},
   "source": [
    "Here's how we check instead:"
   ]
  },
  {
   "cell_type": "code",
   "execution_count": 99,
   "id": "2f8ddcf0",
   "metadata": {},
   "outputs": [
    {
     "data": {
      "text/plain": [
       "True"
      ]
     },
     "execution_count": 99,
     "metadata": {},
     "output_type": "execute_result"
    }
   ],
   "source": [
    "isinstance(arr,np.ndarray)"
   ]
  },
  {
   "cell_type": "code",
   "execution_count": 100,
   "id": "0baf5792",
   "metadata": {},
   "outputs": [
    {
     "data": {
      "text/plain": [
       "False"
      ]
     },
     "execution_count": 100,
     "metadata": {},
     "output_type": "execute_result"
    }
   ],
   "source": [
    "isinstance(list(arr),np.ndarray)"
   ]
  },
  {
   "cell_type": "code",
   "execution_count": 101,
   "id": "a0cf892e",
   "metadata": {},
   "outputs": [],
   "source": [
    "def to_bin(arr):\n",
    "    if not isinstance(arr,np.ndarray):\n",
    "        raise TypeError(\"Input should be a NumPy array.\")\n",
    "    _,n = arr.shape\n",
    "    return (arr*2**np.arange(n-1,-1,-1)).sum(axis=1)"
   ]
  },
  {
   "cell_type": "code",
   "execution_count": 102,
   "id": "3eb55e34",
   "metadata": {},
   "outputs": [
    {
     "ename": "TypeError",
     "evalue": "Input should be a NumPy array.",
     "output_type": "error",
     "traceback": [
      "\u001b[0;31m---------------------------------------------------------------------------\u001b[0m",
      "\u001b[0;31mTypeError\u001b[0m                                 Traceback (most recent call last)",
      "Input \u001b[0;32mIn [102]\u001b[0m, in \u001b[0;36m<cell line: 1>\u001b[0;34m()\u001b[0m\n\u001b[0;32m----> 1\u001b[0m \u001b[43mto_bin\u001b[49m\u001b[43m(\u001b[49m\u001b[38;5;124;43m\"\u001b[39;49m\u001b[38;5;124;43mHello\u001b[39;49m\u001b[38;5;124;43m\"\u001b[39;49m\u001b[43m)\u001b[49m\n",
      "Input \u001b[0;32mIn [101]\u001b[0m, in \u001b[0;36mto_bin\u001b[0;34m(arr)\u001b[0m\n\u001b[1;32m      1\u001b[0m \u001b[38;5;28;01mdef\u001b[39;00m \u001b[38;5;21mto_bin\u001b[39m(arr):\n\u001b[1;32m      2\u001b[0m     \u001b[38;5;28;01mif\u001b[39;00m \u001b[38;5;129;01mnot\u001b[39;00m \u001b[38;5;28misinstance\u001b[39m(arr,np\u001b[38;5;241m.\u001b[39mndarray):\n\u001b[0;32m----> 3\u001b[0m         \u001b[38;5;28;01mraise\u001b[39;00m \u001b[38;5;167;01mTypeError\u001b[39;00m(\u001b[38;5;124m\"\u001b[39m\u001b[38;5;124mInput should be a NumPy array.\u001b[39m\u001b[38;5;124m\"\u001b[39m)\n\u001b[1;32m      4\u001b[0m     _,n \u001b[38;5;241m=\u001b[39m arr\u001b[38;5;241m.\u001b[39mshape\n\u001b[1;32m      5\u001b[0m     \u001b[38;5;28;01mreturn\u001b[39;00m (arr\u001b[38;5;241m*\u001b[39m\u001b[38;5;241m2\u001b[39m\u001b[38;5;241m*\u001b[39m\u001b[38;5;241m*\u001b[39mnp\u001b[38;5;241m.\u001b[39marange(n\u001b[38;5;241m-\u001b[39m\u001b[38;5;241m1\u001b[39m,\u001b[38;5;241m-\u001b[39m\u001b[38;5;241m1\u001b[39m,\u001b[38;5;241m-\u001b[39m\u001b[38;5;241m1\u001b[39m))\u001b[38;5;241m.\u001b[39msum(axis\u001b[38;5;241m=\u001b[39m\u001b[38;5;241m1\u001b[39m)\n",
      "\u001b[0;31mTypeError\u001b[0m: Input should be a NumPy array."
     ]
    }
   ],
   "source": [
    "to_bin(\"Hello\")"
   ]
  },
  {
   "cell_type": "code",
   "execution_count": 103,
   "id": "11a4b16e",
   "metadata": {},
   "outputs": [
    {
     "data": {
      "text/plain": [
       "array([ 3,  6,  9,  1,  0,  0, 13,  1, 12,  7])"
      ]
     },
     "execution_count": 103,
     "metadata": {},
     "output_type": "execute_result"
    }
   ],
   "source": [
    "to_bin(arr)"
   ]
  },
  {
   "cell_type": "code",
   "execution_count": 104,
   "id": "1470279f",
   "metadata": {},
   "outputs": [
    {
     "ename": "TypeError",
     "evalue": "Input should be a NumPy array.",
     "output_type": "error",
     "traceback": [
      "\u001b[0;31m---------------------------------------------------------------------------\u001b[0m",
      "\u001b[0;31mTypeError\u001b[0m                                 Traceback (most recent call last)",
      "Input \u001b[0;32mIn [104]\u001b[0m, in \u001b[0;36m<cell line: 1>\u001b[0;34m()\u001b[0m\n\u001b[0;32m----> 1\u001b[0m \u001b[43mto_bin\u001b[49m\u001b[43m(\u001b[49m\u001b[43m[\u001b[49m\u001b[38;5;241;43m1\u001b[39;49m\u001b[43m,\u001b[49m\u001b[38;5;241;43m2\u001b[39;49m\u001b[43m,\u001b[49m\u001b[38;5;241;43m3\u001b[39;49m\u001b[43m]\u001b[49m\u001b[43m)\u001b[49m\n",
      "Input \u001b[0;32mIn [101]\u001b[0m, in \u001b[0;36mto_bin\u001b[0;34m(arr)\u001b[0m\n\u001b[1;32m      1\u001b[0m \u001b[38;5;28;01mdef\u001b[39;00m \u001b[38;5;21mto_bin\u001b[39m(arr):\n\u001b[1;32m      2\u001b[0m     \u001b[38;5;28;01mif\u001b[39;00m \u001b[38;5;129;01mnot\u001b[39;00m \u001b[38;5;28misinstance\u001b[39m(arr,np\u001b[38;5;241m.\u001b[39mndarray):\n\u001b[0;32m----> 3\u001b[0m         \u001b[38;5;28;01mraise\u001b[39;00m \u001b[38;5;167;01mTypeError\u001b[39;00m(\u001b[38;5;124m\"\u001b[39m\u001b[38;5;124mInput should be a NumPy array.\u001b[39m\u001b[38;5;124m\"\u001b[39m)\n\u001b[1;32m      4\u001b[0m     _,n \u001b[38;5;241m=\u001b[39m arr\u001b[38;5;241m.\u001b[39mshape\n\u001b[1;32m      5\u001b[0m     \u001b[38;5;28;01mreturn\u001b[39;00m (arr\u001b[38;5;241m*\u001b[39m\u001b[38;5;241m2\u001b[39m\u001b[38;5;241m*\u001b[39m\u001b[38;5;241m*\u001b[39mnp\u001b[38;5;241m.\u001b[39marange(n\u001b[38;5;241m-\u001b[39m\u001b[38;5;241m1\u001b[39m,\u001b[38;5;241m-\u001b[39m\u001b[38;5;241m1\u001b[39m,\u001b[38;5;241m-\u001b[39m\u001b[38;5;241m1\u001b[39m))\u001b[38;5;241m.\u001b[39msum(axis\u001b[38;5;241m=\u001b[39m\u001b[38;5;241m1\u001b[39m)\n",
      "\u001b[0;31mTypeError\u001b[0m: Input should be a NumPy array."
     ]
    }
   ],
   "source": [
    "to_bin([1,2,3])"
   ]
  },
  {
   "cell_type": "markdown",
   "id": "66221ed8",
   "metadata": {},
   "source": [
    "Now let's check if each entry is 0 or 1."
   ]
  },
  {
   "cell_type": "code",
   "execution_count": 105,
   "id": "95133a5a",
   "metadata": {},
   "outputs": [
    {
     "data": {
      "text/plain": [
       "array([[ True,  True, False, False],\n",
       "       [ True, False, False,  True],\n",
       "       [False,  True,  True, False],\n",
       "       [ True,  True,  True, False],\n",
       "       [ True,  True,  True,  True],\n",
       "       [ True,  True,  True,  True],\n",
       "       [False, False,  True, False],\n",
       "       [ True,  True,  True, False],\n",
       "       [False, False,  True,  True],\n",
       "       [ True, False, False, False]])"
      ]
     },
     "execution_count": 105,
     "metadata": {},
     "output_type": "execute_result"
    }
   ],
   "source": [
    "arr == 0"
   ]
  },
  {
   "cell_type": "code",
   "execution_count": 106,
   "id": "de000629",
   "metadata": {},
   "outputs": [
    {
     "data": {
      "text/plain": [
       "array([[False, False,  True,  True],\n",
       "       [False,  True,  True, False],\n",
       "       [ True, False, False,  True],\n",
       "       [False, False, False,  True],\n",
       "       [False, False, False, False],\n",
       "       [False, False, False, False],\n",
       "       [ True,  True, False,  True],\n",
       "       [False, False, False,  True],\n",
       "       [ True,  True, False, False],\n",
       "       [False,  True,  True,  True]])"
      ]
     },
     "execution_count": 106,
     "metadata": {},
     "output_type": "execute_result"
    }
   ],
   "source": [
    "arr == 1"
   ]
  },
  {
   "cell_type": "code",
   "execution_count": 109,
   "id": "d5ab546f",
   "metadata": {},
   "outputs": [
    {
     "data": {
      "text/plain": [
       "True"
      ]
     },
     "execution_count": 109,
     "metadata": {},
     "output_type": "execute_result"
    }
   ],
   "source": [
    "#Check if every entry is 0 or 1\n",
    "((arr == 0) | (arr == 1)).all()"
   ]
  },
  {
   "cell_type": "code",
   "execution_count": 110,
   "id": "7de2cb15",
   "metadata": {},
   "outputs": [],
   "source": [
    "def to_bin(arr):\n",
    "    if not isinstance(arr,np.ndarray):\n",
    "        raise TypeError(\"Input should be a NumPy array.\")\n",
    "    if not ((arr == 0) | (arr == 1)).all():\n",
    "        raise ValueError(\"All entries should be 0 or 1.\")\n",
    "    _,n = arr.shape\n",
    "    return (arr*2**np.arange(n-1,-1,-1)).sum(axis=1)"
   ]
  },
  {
   "cell_type": "markdown",
   "id": "fdb83a9f",
   "metadata": {},
   "source": [
    "Now, let's try to test our function. I'm going to make a subtle mistake below. I want to make an array that's not all 0s/1s."
   ]
  },
  {
   "cell_type": "code",
   "execution_count": 112,
   "id": "b970ecc4",
   "metadata": {},
   "outputs": [],
   "source": [
    "arr\n",
    "arr2 = arr"
   ]
  },
  {
   "cell_type": "code",
   "execution_count": 113,
   "id": "9695e6ea",
   "metadata": {},
   "outputs": [],
   "source": [
    "arr2[5,2] = 6"
   ]
  },
  {
   "cell_type": "code",
   "execution_count": 114,
   "id": "52d986d6",
   "metadata": {},
   "outputs": [
    {
     "data": {
      "text/plain": [
       "array([[0, 0, 1, 1],\n",
       "       [0, 1, 1, 0],\n",
       "       [1, 0, 0, 1],\n",
       "       [0, 0, 0, 1],\n",
       "       [0, 0, 0, 0],\n",
       "       [0, 0, 6, 0],\n",
       "       [1, 1, 0, 1],\n",
       "       [0, 0, 0, 1],\n",
       "       [1, 1, 0, 0],\n",
       "       [0, 1, 1, 1]])"
      ]
     },
     "execution_count": 114,
     "metadata": {},
     "output_type": "execute_result"
    }
   ],
   "source": [
    "arr2"
   ]
  },
  {
   "cell_type": "code",
   "execution_count": 115,
   "id": "644d2773",
   "metadata": {},
   "outputs": [
    {
     "ename": "ValueError",
     "evalue": "All entries should be 0 or 1.",
     "output_type": "error",
     "traceback": [
      "\u001b[0;31m---------------------------------------------------------------------------\u001b[0m",
      "\u001b[0;31mValueError\u001b[0m                                Traceback (most recent call last)",
      "Input \u001b[0;32mIn [115]\u001b[0m, in \u001b[0;36m<cell line: 1>\u001b[0;34m()\u001b[0m\n\u001b[0;32m----> 1\u001b[0m \u001b[43mto_bin\u001b[49m\u001b[43m(\u001b[49m\u001b[43marr2\u001b[49m\u001b[43m)\u001b[49m\n",
      "Input \u001b[0;32mIn [110]\u001b[0m, in \u001b[0;36mto_bin\u001b[0;34m(arr)\u001b[0m\n\u001b[1;32m      3\u001b[0m     \u001b[38;5;28;01mraise\u001b[39;00m \u001b[38;5;167;01mTypeError\u001b[39;00m(\u001b[38;5;124m\"\u001b[39m\u001b[38;5;124mInput should be a NumPy array.\u001b[39m\u001b[38;5;124m\"\u001b[39m)\n\u001b[1;32m      4\u001b[0m \u001b[38;5;28;01mif\u001b[39;00m \u001b[38;5;129;01mnot\u001b[39;00m ((arr \u001b[38;5;241m==\u001b[39m \u001b[38;5;241m0\u001b[39m) \u001b[38;5;241m|\u001b[39m (arr \u001b[38;5;241m==\u001b[39m \u001b[38;5;241m1\u001b[39m))\u001b[38;5;241m.\u001b[39mall():\n\u001b[0;32m----> 5\u001b[0m     \u001b[38;5;28;01mraise\u001b[39;00m \u001b[38;5;167;01mValueError\u001b[39;00m(\u001b[38;5;124m\"\u001b[39m\u001b[38;5;124mAll entries should be 0 or 1.\u001b[39m\u001b[38;5;124m\"\u001b[39m)\n\u001b[1;32m      6\u001b[0m _,n \u001b[38;5;241m=\u001b[39m arr\u001b[38;5;241m.\u001b[39mshape\n\u001b[1;32m      7\u001b[0m \u001b[38;5;28;01mreturn\u001b[39;00m (arr\u001b[38;5;241m*\u001b[39m\u001b[38;5;241m2\u001b[39m\u001b[38;5;241m*\u001b[39m\u001b[38;5;241m*\u001b[39mnp\u001b[38;5;241m.\u001b[39marange(n\u001b[38;5;241m-\u001b[39m\u001b[38;5;241m1\u001b[39m,\u001b[38;5;241m-\u001b[39m\u001b[38;5;241m1\u001b[39m,\u001b[38;5;241m-\u001b[39m\u001b[38;5;241m1\u001b[39m))\u001b[38;5;241m.\u001b[39msum(axis\u001b[38;5;241m=\u001b[39m\u001b[38;5;241m1\u001b[39m)\n",
      "\u001b[0;31mValueError\u001b[0m: All entries should be 0 or 1."
     ]
    }
   ],
   "source": [
    "to_bin(arr2)"
   ]
  },
  {
   "cell_type": "markdown",
   "id": "390384a3",
   "metadata": {},
   "source": [
    "This is good, the function is behaving exactly as we would expect. However, notice that the following also throws an error."
   ]
  },
  {
   "cell_type": "code",
   "execution_count": 116,
   "id": "50144dfb",
   "metadata": {},
   "outputs": [
    {
     "ename": "ValueError",
     "evalue": "All entries should be 0 or 1.",
     "output_type": "error",
     "traceback": [
      "\u001b[0;31m---------------------------------------------------------------------------\u001b[0m",
      "\u001b[0;31mValueError\u001b[0m                                Traceback (most recent call last)",
      "Input \u001b[0;32mIn [116]\u001b[0m, in \u001b[0;36m<cell line: 1>\u001b[0;34m()\u001b[0m\n\u001b[0;32m----> 1\u001b[0m \u001b[43mto_bin\u001b[49m\u001b[43m(\u001b[49m\u001b[43marr\u001b[49m\u001b[43m)\u001b[49m\n",
      "Input \u001b[0;32mIn [110]\u001b[0m, in \u001b[0;36mto_bin\u001b[0;34m(arr)\u001b[0m\n\u001b[1;32m      3\u001b[0m     \u001b[38;5;28;01mraise\u001b[39;00m \u001b[38;5;167;01mTypeError\u001b[39;00m(\u001b[38;5;124m\"\u001b[39m\u001b[38;5;124mInput should be a NumPy array.\u001b[39m\u001b[38;5;124m\"\u001b[39m)\n\u001b[1;32m      4\u001b[0m \u001b[38;5;28;01mif\u001b[39;00m \u001b[38;5;129;01mnot\u001b[39;00m ((arr \u001b[38;5;241m==\u001b[39m \u001b[38;5;241m0\u001b[39m) \u001b[38;5;241m|\u001b[39m (arr \u001b[38;5;241m==\u001b[39m \u001b[38;5;241m1\u001b[39m))\u001b[38;5;241m.\u001b[39mall():\n\u001b[0;32m----> 5\u001b[0m     \u001b[38;5;28;01mraise\u001b[39;00m \u001b[38;5;167;01mValueError\u001b[39;00m(\u001b[38;5;124m\"\u001b[39m\u001b[38;5;124mAll entries should be 0 or 1.\u001b[39m\u001b[38;5;124m\"\u001b[39m)\n\u001b[1;32m      6\u001b[0m _,n \u001b[38;5;241m=\u001b[39m arr\u001b[38;5;241m.\u001b[39mshape\n\u001b[1;32m      7\u001b[0m \u001b[38;5;28;01mreturn\u001b[39;00m (arr\u001b[38;5;241m*\u001b[39m\u001b[38;5;241m2\u001b[39m\u001b[38;5;241m*\u001b[39m\u001b[38;5;241m*\u001b[39mnp\u001b[38;5;241m.\u001b[39marange(n\u001b[38;5;241m-\u001b[39m\u001b[38;5;241m1\u001b[39m,\u001b[38;5;241m-\u001b[39m\u001b[38;5;241m1\u001b[39m,\u001b[38;5;241m-\u001b[39m\u001b[38;5;241m1\u001b[39m))\u001b[38;5;241m.\u001b[39msum(axis\u001b[38;5;241m=\u001b[39m\u001b[38;5;241m1\u001b[39m)\n",
      "\u001b[0;31mValueError\u001b[0m: All entries should be 0 or 1."
     ]
    }
   ],
   "source": [
    "to_bin(arr)"
   ]
  },
  {
   "cell_type": "markdown",
   "id": "9cecd8d3",
   "metadata": {},
   "source": [
    "The basic idea here is that `arr` and `arr2` point to the same object in memory. When one gets changed, so does the other. (Don't worry so much about why this happens, unless you're interested :))"
   ]
  },
  {
   "cell_type": "markdown",
   "id": "1284da61",
   "metadata": {},
   "source": [
    "__Upshot:__ If I want to change values, I need to make a copy."
   ]
  },
  {
   "cell_type": "code",
   "execution_count": 117,
   "id": "fc05a556",
   "metadata": {},
   "outputs": [],
   "source": [
    "arr3 = arr2.copy()"
   ]
  },
  {
   "cell_type": "code",
   "execution_count": 118,
   "id": "0a2d05d8",
   "metadata": {},
   "outputs": [],
   "source": [
    "arr3[6,1::2] = 99"
   ]
  },
  {
   "cell_type": "code",
   "execution_count": 119,
   "id": "4e8e9e23",
   "metadata": {},
   "outputs": [
    {
     "data": {
      "text/plain": [
       "array([[ 0,  0,  1,  1],\n",
       "       [ 0,  1,  1,  0],\n",
       "       [ 1,  0,  0,  1],\n",
       "       [ 0,  0,  0,  1],\n",
       "       [ 0,  0,  0,  0],\n",
       "       [ 0,  0,  6,  0],\n",
       "       [ 1, 99,  0, 99],\n",
       "       [ 0,  0,  0,  1],\n",
       "       [ 1,  1,  0,  0],\n",
       "       [ 0,  1,  1,  1]])"
      ]
     },
     "execution_count": 119,
     "metadata": {},
     "output_type": "execute_result"
    }
   ],
   "source": [
    "arr3"
   ]
  },
  {
   "cell_type": "code",
   "execution_count": 120,
   "id": "5497f490",
   "metadata": {},
   "outputs": [
    {
     "data": {
      "text/plain": [
       "array([[0, 0, 1, 1],\n",
       "       [0, 1, 1, 0],\n",
       "       [1, 0, 0, 1],\n",
       "       [0, 0, 0, 1],\n",
       "       [0, 0, 0, 0],\n",
       "       [0, 0, 6, 0],\n",
       "       [1, 1, 0, 1],\n",
       "       [0, 0, 0, 1],\n",
       "       [1, 1, 0, 0],\n",
       "       [0, 1, 1, 1]])"
      ]
     },
     "execution_count": 120,
     "metadata": {},
     "output_type": "execute_result"
    }
   ],
   "source": [
    "arr2"
   ]
  },
  {
   "cell_type": "markdown",
   "id": "753aaf26",
   "metadata": {},
   "source": [
    "***"
   ]
  },
  {
   "cell_type": "markdown",
   "id": "8f9c71a7",
   "metadata": {},
   "source": [
    "The next few portions of lecture will be about something called \"Pythonic Code\". This more or less refers to things that are unique-ish to Python."
   ]
  },
  {
   "cell_type": "markdown",
   "id": "4c01dadc",
   "metadata": {},
   "source": [
    "## List Comprehension – Pythonic Code 1 "
   ]
  },
  {
   "cell_type": "markdown",
   "id": "4beafea1",
   "metadata": {},
   "source": [
    "__Words of Advice:__ If you're ever confused about how to write something with list comprehension, think about how you'd write it with a for-loop, and then convert it.\n",
    "\n",
    "__Benefit:__ Code written with list comprehension is usually more readable than for-loops, but don't expect it to run any faster."
   ]
  },
  {
   "cell_type": "markdown",
   "id": "6ecb393e",
   "metadata": {},
   "source": [
    "* Length 8 list of all 7s."
   ]
  },
  {
   "cell_type": "markdown",
   "id": "ff04ad48",
   "metadata": {},
   "source": [
    "Let's think about how we'd do this with for-loops."
   ]
  },
  {
   "cell_type": "code",
   "execution_count": 122,
   "id": "1a862483",
   "metadata": {},
   "outputs": [
    {
     "data": {
      "text/plain": [
       "[7, 7, 7, 7, 7, 7, 7, 7]"
      ]
     },
     "execution_count": 122,
     "metadata": {},
     "output_type": "execute_result"
    }
   ],
   "source": [
    "mylist = []\n",
    "for i in range(8):\n",
    "    mylist.append(7)\n",
    "mylist"
   ]
  },
  {
   "cell_type": "code",
   "execution_count": 123,
   "id": "c81d67d5",
   "metadata": {},
   "outputs": [
    {
     "data": {
      "text/plain": [
       "[7, 7, 7, 7, 7, 7, 7, 7]"
      ]
     },
     "execution_count": 123,
     "metadata": {},
     "output_type": "execute_result"
    }
   ],
   "source": [
    "[7 for _ in range(8)]"
   ]
  },
  {
   "cell_type": "markdown",
   "id": "741485db",
   "metadata": {},
   "source": [
    "* Let `mylist = [-1,4,2,3,-10,2,4]`. Square each element in `mylist`."
   ]
  },
  {
   "cell_type": "code",
   "execution_count": 124,
   "id": "e79b7c0a",
   "metadata": {},
   "outputs": [],
   "source": [
    "mylist = [-1,4,2,3,-10,2,4]"
   ]
  },
  {
   "cell_type": "code",
   "execution_count": 127,
   "id": "745630a6",
   "metadata": {},
   "outputs": [
    {
     "data": {
      "text/plain": [
       "[-1, 4, 2, 3, -10, 2, 4]"
      ]
     },
     "execution_count": 127,
     "metadata": {},
     "output_type": "execute_result"
    }
   ],
   "source": [
    "[x for x in mylist]"
   ]
  },
  {
   "cell_type": "code",
   "execution_count": 128,
   "id": "206c13af",
   "metadata": {},
   "outputs": [
    {
     "data": {
      "text/plain": [
       "[1, 16, 4, 9, 100, 4, 16]"
      ]
     },
     "execution_count": 128,
     "metadata": {},
     "output_type": "execute_result"
    }
   ],
   "source": [
    "[x**2 for x in mylist]"
   ]
  },
  {
   "cell_type": "markdown",
   "id": "3ce69658",
   "metadata": {},
   "source": [
    "* Get the sublist of `mylist` containing only even numbers."
   ]
  },
  {
   "cell_type": "code",
   "execution_count": 129,
   "id": "215619a3",
   "metadata": {},
   "outputs": [
    {
     "data": {
      "text/plain": [
       "[4, 2, -10, 2, 4]"
      ]
     },
     "execution_count": 129,
     "metadata": {},
     "output_type": "execute_result"
    }
   ],
   "source": [
    "[x for x in mylist if x%2 == 0]"
   ]
  },
  {
   "cell_type": "markdown",
   "id": "aaf96405",
   "metadata": {},
   "source": [
    "* Replace each negative number in `mylist` with zero."
   ]
  },
  {
   "cell_type": "markdown",
   "id": "e92ddae8",
   "metadata": {},
   "source": [
    "Notice now the syntax difference!"
   ]
  },
  {
   "cell_type": "code",
   "execution_count": 131,
   "id": "f25e4312",
   "metadata": {},
   "outputs": [
    {
     "data": {
      "text/plain": [
       "[-1, 4, 2, 3, -10, 2, 4]"
      ]
     },
     "execution_count": 131,
     "metadata": {},
     "output_type": "execute_result"
    }
   ],
   "source": [
    "mylist"
   ]
  },
  {
   "cell_type": "code",
   "execution_count": 130,
   "id": "7944140f",
   "metadata": {},
   "outputs": [
    {
     "data": {
      "text/plain": [
       "[0, 4, 2, 3, 0, 2, 4]"
      ]
     },
     "execution_count": 130,
     "metadata": {},
     "output_type": "execute_result"
    }
   ],
   "source": [
    "[x if x >= 0 else 0 for x in mylist]"
   ]
  },
  {
   "cell_type": "code",
   "execution_count": 132,
   "id": "613b3c28",
   "metadata": {},
   "outputs": [
    {
     "data": {
      "text/plain": [
       "[0, 4, 2, 3, 0, 2, 4]"
      ]
     },
     "execution_count": 132,
     "metadata": {},
     "output_type": "execute_result"
    }
   ],
   "source": [
    "[0 if x < 0 else x for x in mylist]"
   ]
  },
  {
   "cell_type": "markdown",
   "id": "81fb7372",
   "metadata": {},
   "source": [
    "* Make the length 8 list of lists `[[0,1,2],[0,1,2],...,[0,1,2]]`."
   ]
  },
  {
   "cell_type": "code",
   "execution_count": 133,
   "id": "959abfe3",
   "metadata": {},
   "outputs": [
    {
     "data": {
      "text/plain": [
       "[[0, 1, 2],\n",
       " [0, 1, 2],\n",
       " [0, 1, 2],\n",
       " [0, 1, 2],\n",
       " [0, 1, 2],\n",
       " [0, 1, 2],\n",
       " [0, 1, 2],\n",
       " [0, 1, 2]]"
      ]
     },
     "execution_count": 133,
     "metadata": {},
     "output_type": "execute_result"
    }
   ],
   "source": [
    "[[0,1,2] for _ in range(8)]"
   ]
  },
  {
   "cell_type": "code",
   "execution_count": 134,
   "id": "89d6652d",
   "metadata": {},
   "outputs": [
    {
     "data": {
      "text/plain": [
       "8"
      ]
     },
     "execution_count": 134,
     "metadata": {},
     "output_type": "execute_result"
    }
   ],
   "source": [
    "len([[0,1,2] for _ in range(8)])"
   ]
  },
  {
   "cell_type": "markdown",
   "id": "f3792402",
   "metadata": {},
   "source": [
    "* Make the length 24 list `[0,1,2,0,1,2,0,1,2...]`"
   ]
  },
  {
   "cell_type": "markdown",
   "id": "d0c971f0",
   "metadata": {},
   "source": [
    "Let's try this one with a for-loop first, and then see how we could do it with list comprehension."
   ]
  },
  {
   "cell_type": "code",
   "execution_count": 137,
   "id": "764f22ac",
   "metadata": {},
   "outputs": [
    {
     "data": {
      "text/plain": [
       "[0, 1, 2, 0, 1, 2, 0, 1, 2, 0, 1, 2, 0, 1, 2, 0, 1, 2, 0, 1, 2, 0, 1, 2]"
      ]
     },
     "execution_count": 137,
     "metadata": {},
     "output_type": "execute_result"
    }
   ],
   "source": [
    "mylist2 = []\n",
    "for i in range(8):\n",
    "    for j in range(3):\n",
    "        mylist2.append(j)\n",
    "mylist2"
   ]
  },
  {
   "cell_type": "code",
   "execution_count": 138,
   "id": "85d28dc7",
   "metadata": {},
   "outputs": [
    {
     "data": {
      "text/plain": [
       "24"
      ]
     },
     "execution_count": 138,
     "metadata": {},
     "output_type": "execute_result"
    }
   ],
   "source": [
    "len(mylist2)"
   ]
  },
  {
   "cell_type": "code",
   "execution_count": 139,
   "id": "15ba27e8",
   "metadata": {},
   "outputs": [
    {
     "data": {
      "text/plain": [
       "[0, 1, 2, 0, 1, 2, 0, 1, 2, 0, 1, 2, 0, 1, 2, 0, 1, 2, 0, 1, 2, 0, 1, 2]"
      ]
     },
     "execution_count": 139,
     "metadata": {},
     "output_type": "execute_result"
    }
   ],
   "source": [
    "[j for i in range(8) for j in range(3)]"
   ]
  },
  {
   "cell_type": "markdown",
   "id": "a47a9374",
   "metadata": {},
   "source": [
    "* Capitalize each word in the catalogue description of Math 9:\n",
    "\n",
    "\n",
    "Introduction to computers and programming using Matlab and Python. Representation of numbers and precision, input/output, functions, custom data types, testing/debugging, reading exceptions, plotting data, numerical differentiation, basics of algorithms. Analysis of random processes using computer simulations."
   ]
  },
  {
   "cell_type": "code",
   "execution_count": 141,
   "id": "e90e6fff",
   "metadata": {},
   "outputs": [],
   "source": [
    "s = '''Introduction to computers and programming using Matlab and Python. Representation of numbers and precision, input/output, functions, custom data types, testing/debugging, reading exceptions, plotting data, numerical differentiation, basics of algorithms. Analysis of random processes using computer simulations.'''"
   ]
  },
  {
   "cell_type": "code",
   "execution_count": 143,
   "id": "7a7a1def",
   "metadata": {},
   "outputs": [],
   "source": [
    "#Notice this goes character by character\n",
    "#[c for c in s]"
   ]
  },
  {
   "cell_type": "code",
   "execution_count": 145,
   "id": "a3bf0d72",
   "metadata": {},
   "outputs": [],
   "source": [
    "#This splits the string s at the spaces\n",
    "wordlist = s.split()"
   ]
  },
  {
   "cell_type": "code",
   "execution_count": 148,
   "id": "c974a5ec",
   "metadata": {},
   "outputs": [],
   "source": [
    "caplist = [c.capitalize() for c in wordlist]"
   ]
  },
  {
   "cell_type": "markdown",
   "id": "820b16f7",
   "metadata": {},
   "source": [
    "This is a list of capitalized words, the last thing to do is put it back together."
   ]
  },
  {
   "cell_type": "code",
   "execution_count": 151,
   "id": "b8f53f67",
   "metadata": {},
   "outputs": [],
   "source": [
    "s2 = ' '.join(caplist)"
   ]
  },
  {
   "cell_type": "code",
   "execution_count": 152,
   "id": "a4eaec49",
   "metadata": {},
   "outputs": [
    {
     "data": {
      "text/plain": [
       "'Introduction To Computers And Programming Using Matlab And Python. Representation Of Numbers And Precision, Input/output, Functions, Custom Data Types, Testing/debugging, Reading Exceptions, Plotting Data, Numerical Differentiation, Basics Of Algorithms. Analysis Of Random Processes Using Computer Simulations.'"
      ]
     },
     "execution_count": 152,
     "metadata": {},
     "output_type": "execute_result"
    }
   ],
   "source": [
    "s2"
   ]
  },
  {
   "cell_type": "code",
   "execution_count": 153,
   "id": "ba359f0a",
   "metadata": {},
   "outputs": [
    {
     "data": {
      "text/plain": [
       "str"
      ]
     },
     "execution_count": 153,
     "metadata": {},
     "output_type": "execute_result"
    }
   ],
   "source": [
    "type(s2)"
   ]
  },
  {
   "cell_type": "markdown",
   "id": "226c1feb",
   "metadata": {},
   "source": [
    "***"
   ]
  },
  {
   "cell_type": "markdown",
   "id": "f428011d",
   "metadata": {},
   "source": [
    "We'll get to this material starting on Friday."
   ]
  },
  {
   "cell_type": "markdown",
   "id": "e393bbd2",
   "metadata": {},
   "source": [
    "## f-strings – Pythonic Code 2 "
   ]
  },
  {
   "cell_type": "code",
   "execution_count": 1,
   "id": "857c9358",
   "metadata": {
    "scrolled": false
   },
   "outputs": [],
   "source": [
    "name = \"Yasmeen\"\n",
    "n = 13"
   ]
  },
  {
   "cell_type": "markdown",
   "id": "e49443ac",
   "metadata": {},
   "source": [
    "## lambda functions – Pythonic Code 3 "
   ]
  },
  {
   "cell_type": "markdown",
   "id": "be70615d",
   "metadata": {},
   "source": [
    "* Write a function `cap` that takes as input a string `s`, and as output returns the same string capitalized."
   ]
  },
  {
   "cell_type": "markdown",
   "id": "125c921f",
   "metadata": {},
   "source": [
    "* Write a function `plus` that takes two inputs and adds them together."
   ]
  },
  {
   "cell_type": "markdown",
   "id": "3f20beb2",
   "metadata": {},
   "source": [
    "* Make a $20 \\times 3$ NumPy array of random letters, then concatenate each row of three letters into a single length-3 string using `np.apply_along_axis`."
   ]
  },
  {
   "cell_type": "markdown",
   "id": "2cf582e6",
   "metadata": {},
   "source": [
    "* Let `tuplist` be the following list of tuples. Sort the list so that the numbers are increasing.\n",
    "\n",
    "`[(\"A\",50),(\"B\",70),(\"C\",100),(\"D\",45)]`"
   ]
  }
 ],
 "metadata": {
  "kernelspec": {
   "display_name": "Python 3 (ipykernel)",
   "language": "python",
   "name": "python3"
  },
  "language_info": {
   "codemirror_mode": {
    "name": "ipython",
    "version": 3
   },
   "file_extension": ".py",
   "mimetype": "text/x-python",
   "name": "python",
   "nbconvert_exporter": "python",
   "pygments_lexer": "ipython3",
   "version": "3.9.13"
  }
 },
 "nbformat": 4,
 "nbformat_minor": 5
}

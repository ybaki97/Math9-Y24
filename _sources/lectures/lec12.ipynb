{
 "cells": [
  {
   "cell_type": "markdown",
   "id": "8bc2d2d4",
   "metadata": {},
   "source": [
    "# Lecture 12: July 19th, 2024"
   ]
  },
  {
   "cell_type": "markdown",
   "id": "c324e892",
   "metadata": {},
   "source": [
    "__Today:__\n",
    "* Finish \"Pythonic Code\", Newton's Method\n",
    "* Jessica will cover two more Matplotlib topics today. You should watch the final video (\"Adjusting the Appearance\") on your own! We will not be covering Matplotlib in lecture, but we will see some of it used today.\n",
    "* Yasmeen will extend homework deadlines to Wednesday."
   ]
  },
  {
   "cell_type": "markdown",
   "id": "e393bbd2",
   "metadata": {},
   "source": [
    "## f-strings – Pythonic Code 2 "
   ]
  },
  {
   "cell_type": "code",
   "execution_count": 1,
   "id": "3e807508",
   "metadata": {
    "scrolled": false
   },
   "outputs": [],
   "source": [
    "name = \"Yasmeen\"\n",
    "n = 13 "
   ]
  },
  {
   "cell_type": "markdown",
   "id": "a4e4be95",
   "metadata": {},
   "source": [
    "Event though I have `name` and `n` defined, if I try the following, they're just interpreted as strings."
   ]
  },
  {
   "cell_type": "code",
   "execution_count": 2,
   "id": "8f11c1fa",
   "metadata": {},
   "outputs": [
    {
     "data": {
      "text/plain": [
       "'Hello, name, nice to meet you n times.'"
      ]
     },
     "execution_count": 2,
     "metadata": {},
     "output_type": "execute_result"
    }
   ],
   "source": [
    "\"Hello, name, nice to meet you n times.\""
   ]
  },
  {
   "cell_type": "markdown",
   "id": "d23e7839",
   "metadata": {},
   "source": [
    "If I did want to use the variables, there are a few ways we can do that. I'm first going to show you some not-so-elegant ways."
   ]
  },
  {
   "cell_type": "code",
   "execution_count": 3,
   "id": "bc5feeb5",
   "metadata": {},
   "outputs": [
    {
     "name": "stdout",
     "output_type": "stream",
     "text": [
      "Hello, Yasmeen nice to meet you 13 times.\n"
     ]
    }
   ],
   "source": [
    "print(\"Hello,\",name,\"nice to meet you\",n,\"times.\")"
   ]
  },
  {
   "cell_type": "markdown",
   "id": "c38e1f11",
   "metadata": {},
   "source": [
    "This is pretty cumbersome. If I had a longer sentence, or more variables, this is not really something I'd want to do."
   ]
  },
  {
   "cell_type": "markdown",
   "id": "2a5f20f1",
   "metadata": {},
   "source": [
    "Notice there is a small mistake here:"
   ]
  },
  {
   "cell_type": "code",
   "execution_count": 4,
   "id": "5ad2a52f",
   "metadata": {},
   "outputs": [
    {
     "ename": "TypeError",
     "evalue": "can only concatenate str (not \"int\") to str",
     "output_type": "error",
     "traceback": [
      "\u001b[0;31m---------------------------------------------------------------------------\u001b[0m",
      "\u001b[0;31mTypeError\u001b[0m                                 Traceback (most recent call last)",
      "Input \u001b[0;32mIn [4]\u001b[0m, in \u001b[0;36m<cell line: 1>\u001b[0;34m()\u001b[0m\n\u001b[0;32m----> 1\u001b[0m \u001b[38;5;28mprint\u001b[39m(\u001b[38;5;124;43m\"\u001b[39;49m\u001b[38;5;124;43mHello \u001b[39;49m\u001b[38;5;124;43m\"\u001b[39;49m\u001b[43m \u001b[49m\u001b[38;5;241;43m+\u001b[39;49m\u001b[43m \u001b[49m\u001b[43mname\u001b[49m\u001b[43m \u001b[49m\u001b[38;5;241;43m+\u001b[39;49m\u001b[43m \u001b[49m\u001b[38;5;124;43m\"\u001b[39;49m\u001b[38;5;124;43m nice to mee you \u001b[39;49m\u001b[38;5;124;43m\"\u001b[39;49m\u001b[43m \u001b[49m\u001b[38;5;241;43m+\u001b[39;49m\u001b[43m \u001b[49m\u001b[43mn\u001b[49m \u001b[38;5;241m+\u001b[39m \u001b[38;5;124m\"\u001b[39m\u001b[38;5;124mtimes.\u001b[39m\u001b[38;5;124m\"\u001b[39m)\n",
      "\u001b[0;31mTypeError\u001b[0m: can only concatenate str (not \"int\") to str"
     ]
    }
   ],
   "source": [
    "print(\"Hello \" + name + \" nice to mee you \" + n + \"times.\")"
   ]
  },
  {
   "cell_type": "markdown",
   "id": "d567e30a",
   "metadata": {},
   "source": [
    "The issue is that `n` is an integer. Luckily, there's an easy fix for this."
   ]
  },
  {
   "cell_type": "code",
   "execution_count": 5,
   "id": "80af19f3",
   "metadata": {},
   "outputs": [
    {
     "name": "stdout",
     "output_type": "stream",
     "text": [
      "Hello, Yasmeen nice to mee you 13 times.\n"
     ]
    }
   ],
   "source": [
    "print(\"Hello, \" + name + \" nice to mee you \" + str(n) + \" times.\")"
   ]
  },
  {
   "cell_type": "markdown",
   "id": "07fa0da1",
   "metadata": {},
   "source": [
    "### Older way to format strings"
   ]
  },
  {
   "cell_type": "code",
   "execution_count": 6,
   "id": "48f6c59d",
   "metadata": {},
   "outputs": [
    {
     "data": {
      "text/plain": [
       "'Hello, Yasmeen, nice to meet you 13 times'"
      ]
     },
     "execution_count": 6,
     "metadata": {},
     "output_type": "execute_result"
    }
   ],
   "source": [
    "\"Hello, {}, nice to meet you {} times\".format(name,n)"
   ]
  },
  {
   "cell_type": "markdown",
   "id": "a14a241b",
   "metadata": {},
   "source": [
    "Q: What's not-so-great about this method?\n",
    "\n",
    "A: Need to keep in mind all of your variables for long string, _and_ the order that they appear in."
   ]
  },
  {
   "cell_type": "markdown",
   "id": "c3a662be",
   "metadata": {},
   "source": [
    "### Newer way to format strings"
   ]
  },
  {
   "cell_type": "markdown",
   "id": "03080be2",
   "metadata": {},
   "source": [
    "This is what we call an \"f-string\""
   ]
  },
  {
   "cell_type": "code",
   "execution_count": 7,
   "id": "48fc055a",
   "metadata": {},
   "outputs": [
    {
     "data": {
      "text/plain": [
       "'Hello, Yasmeen, nice to meet you 13 times.'"
      ]
     },
     "execution_count": 7,
     "metadata": {},
     "output_type": "execute_result"
    }
   ],
   "source": [
    "f\"Hello, {name}, nice to meet you {n} times.\""
   ]
  },
  {
   "cell_type": "markdown",
   "id": "2c7a4647",
   "metadata": {},
   "source": [
    "Here are some other ways we can format strings. These examples are not super important, they're just meant to show you an example of what's out there."
   ]
  },
  {
   "cell_type": "code",
   "execution_count": 8,
   "id": "ea562085",
   "metadata": {},
   "outputs": [
    {
     "data": {
      "text/plain": [
       "3486784401"
      ]
     },
     "execution_count": 8,
     "metadata": {},
     "output_type": "execute_result"
    }
   ],
   "source": [
    "m = 3**20\n",
    "m"
   ]
  },
  {
   "cell_type": "code",
   "execution_count": 9,
   "id": "ecd91de8",
   "metadata": {},
   "outputs": [
    {
     "data": {
      "text/plain": [
       "'3486784401'"
      ]
     },
     "execution_count": 9,
     "metadata": {},
     "output_type": "execute_result"
    }
   ],
   "source": [
    "f\"{m}\""
   ]
  },
  {
   "cell_type": "code",
   "execution_count": 10,
   "id": "3da0432c",
   "metadata": {},
   "outputs": [
    {
     "data": {
      "text/plain": [
       "'3.486784e+09'"
      ]
     },
     "execution_count": 10,
     "metadata": {},
     "output_type": "execute_result"
    }
   ],
   "source": [
    "f\"{m:e}\" #sci. notation"
   ]
  },
  {
   "cell_type": "code",
   "execution_count": 11,
   "id": "d01e7e40",
   "metadata": {},
   "outputs": [
    {
     "data": {
      "text/plain": [
       "'3486784401.0000'"
      ]
     },
     "execution_count": 11,
     "metadata": {},
     "output_type": "execute_result"
    }
   ],
   "source": [
    "#4 decimal places, float\n",
    "f\"{m:.4f}\""
   ]
  },
  {
   "cell_type": "code",
   "execution_count": 12,
   "id": "59660c17",
   "metadata": {},
   "outputs": [
    {
     "data": {
      "text/plain": [
       "2.8679719907924413e-10"
      ]
     },
     "execution_count": 12,
     "metadata": {},
     "output_type": "execute_result"
    }
   ],
   "source": [
    "1/m"
   ]
  },
  {
   "cell_type": "code",
   "execution_count": 13,
   "id": "a1deb31f",
   "metadata": {},
   "outputs": [
    {
     "data": {
      "text/plain": [
       "'0.0000'"
      ]
     },
     "execution_count": 13,
     "metadata": {},
     "output_type": "execute_result"
    }
   ],
   "source": [
    "f\"{1/m:.4f}\""
   ]
  },
  {
   "cell_type": "code",
   "execution_count": 14,
   "id": "ccb8e917",
   "metadata": {},
   "outputs": [
    {
     "data": {
      "text/plain": [
       "'0.000000000286797'"
      ]
     },
     "execution_count": 14,
     "metadata": {},
     "output_type": "execute_result"
    }
   ],
   "source": [
    "f\"{1/m:.15f}\""
   ]
  },
  {
   "cell_type": "code",
   "execution_count": 15,
   "id": "3b8d0fc3",
   "metadata": {},
   "outputs": [],
   "source": [
    "z = 17"
   ]
  },
  {
   "cell_type": "code",
   "execution_count": 16,
   "id": "505dd803",
   "metadata": {},
   "outputs": [
    {
     "data": {
      "text/plain": [
       "'10001'"
      ]
     },
     "execution_count": 16,
     "metadata": {},
     "output_type": "execute_result"
    }
   ],
   "source": [
    "f\"{z:b}\" #b for binary"
   ]
  },
  {
   "cell_type": "markdown",
   "id": "e49443ac",
   "metadata": {},
   "source": [
    "## lambda functions – Pythonic Code 3 "
   ]
  },
  {
   "cell_type": "markdown",
   "id": "b1b77788",
   "metadata": {},
   "source": [
    "A few comments before we get started:\n",
    "\n",
    "* These should make you think of function handles from MATLAB.\n",
    "* Sometimes lambda functions are called nameless/anonymous functions – in practice, you don't usually name these functions, but we'll be naming them in lecture for teaching purposes.\n",
    "* Lambda functions can have _any_ number of arguments, but the code must take up a single line.\n",
    "* Similar to function handles, they are often used as inputs to other functions, or maybe used just once in the code."
   ]
  },
  {
   "cell_type": "markdown",
   "id": "69b2ac3a",
   "metadata": {},
   "source": [
    "***"
   ]
  },
  {
   "cell_type": "markdown",
   "id": "be70615d",
   "metadata": {},
   "source": [
    "* Write a function `cap` that takes as input a string `s`, and as output returns the same string capitalized."
   ]
  },
  {
   "cell_type": "markdown",
   "id": "e431c3b3",
   "metadata": {},
   "source": [
    "Let's first try this by writing a regular function. Notice it takes a single line."
   ]
  },
  {
   "cell_type": "code",
   "execution_count": 17,
   "id": "3cc5e7df",
   "metadata": {},
   "outputs": [],
   "source": [
    "def cap(s):\n",
    "    return s.capitalize()"
   ]
  },
  {
   "cell_type": "code",
   "execution_count": 18,
   "id": "9fcd9e33",
   "metadata": {},
   "outputs": [
    {
     "data": {
      "text/plain": [
       "'Hello'"
      ]
     },
     "execution_count": 18,
     "metadata": {},
     "output_type": "execute_result"
    }
   ],
   "source": [
    "cap(\"hello\")"
   ]
  },
  {
   "cell_type": "code",
   "execution_count": 19,
   "id": "9313b2d9",
   "metadata": {},
   "outputs": [
    {
     "data": {
      "text/plain": [
       "'Picasso'"
      ]
     },
     "execution_count": 19,
     "metadata": {},
     "output_type": "execute_result"
    }
   ],
   "source": [
    "cap(\"picasso\")"
   ]
  },
  {
   "cell_type": "markdown",
   "id": "3ebf8bfb",
   "metadata": {},
   "source": [
    "Let's now try to write this same function with a lambda function."
   ]
  },
  {
   "cell_type": "code",
   "execution_count": 20,
   "id": "2e18dc39",
   "metadata": {},
   "outputs": [],
   "source": [
    "cap = lambda s: s.capitalize()"
   ]
  },
  {
   "cell_type": "code",
   "execution_count": 21,
   "id": "f6acecff",
   "metadata": {},
   "outputs": [
    {
     "data": {
      "text/plain": [
       "'Sammy'"
      ]
     },
     "execution_count": 21,
     "metadata": {},
     "output_type": "execute_result"
    }
   ],
   "source": [
    "cap(\"sammy\")"
   ]
  },
  {
   "cell_type": "code",
   "execution_count": 22,
   "id": "2a69d94f",
   "metadata": {},
   "outputs": [
    {
     "data": {
      "text/plain": [
       "'Bandit'"
      ]
     },
     "execution_count": 22,
     "metadata": {},
     "output_type": "execute_result"
    }
   ],
   "source": [
    "cap(\"bandit\")"
   ]
  },
  {
   "cell_type": "markdown",
   "id": "125c921f",
   "metadata": {},
   "source": [
    "* Write a function `plus` that takes two inputs and adds them together."
   ]
  },
  {
   "cell_type": "markdown",
   "id": "f4aadf72",
   "metadata": {},
   "source": [
    "We don't really need a function to do this, but it's just for practice with multiple arguments."
   ]
  },
  {
   "cell_type": "code",
   "execution_count": 23,
   "id": "f7edca93",
   "metadata": {},
   "outputs": [],
   "source": [
    "plus = lambda x,y: x+y"
   ]
  },
  {
   "cell_type": "code",
   "execution_count": 24,
   "id": "5dfee0d4",
   "metadata": {},
   "outputs": [
    {
     "data": {
      "text/plain": [
       "8"
      ]
     },
     "execution_count": 24,
     "metadata": {},
     "output_type": "execute_result"
    }
   ],
   "source": [
    "plus(5,3)"
   ]
  },
  {
   "cell_type": "code",
   "execution_count": 25,
   "id": "573fc74c",
   "metadata": {},
   "outputs": [
    {
     "data": {
      "text/plain": [
       "'hello, world'"
      ]
     },
     "execution_count": 25,
     "metadata": {},
     "output_type": "execute_result"
    }
   ],
   "source": [
    "plus(\"hello, \", \"world\")"
   ]
  },
  {
   "cell_type": "markdown",
   "id": "3f20beb2",
   "metadata": {},
   "source": [
    "* Make a $20 \\times 3$ NumPy array of random letters, then concatenate each row of three letters into a single length-3 string using `np.apply_along_axis`."
   ]
  },
  {
   "cell_type": "code",
   "execution_count": 26,
   "id": "ae152cea",
   "metadata": {},
   "outputs": [],
   "source": [
    "import numpy as np\n",
    "import string #comes with Python"
   ]
  },
  {
   "cell_type": "code",
   "execution_count": 27,
   "id": "4a7ad19c",
   "metadata": {},
   "outputs": [],
   "source": [
    "rng = np.random.default_rng()"
   ]
  },
  {
   "cell_type": "code",
   "execution_count": 28,
   "id": "6b6db4b5",
   "metadata": {},
   "outputs": [
    {
     "data": {
      "text/plain": [
       "['Formatter',\n",
       " 'Template',\n",
       " '_ChainMap',\n",
       " '__all__',\n",
       " '__builtins__',\n",
       " '__cached__',\n",
       " '__doc__',\n",
       " '__file__',\n",
       " '__loader__',\n",
       " '__name__',\n",
       " '__package__',\n",
       " '__spec__',\n",
       " '_re',\n",
       " '_sentinel_dict',\n",
       " '_string',\n",
       " 'ascii_letters',\n",
       " 'ascii_lowercase',\n",
       " 'ascii_uppercase',\n",
       " 'capwords',\n",
       " 'digits',\n",
       " 'hexdigits',\n",
       " 'octdigits',\n",
       " 'printable',\n",
       " 'punctuation',\n",
       " 'whitespace']"
      ]
     },
     "execution_count": 28,
     "metadata": {},
     "output_type": "execute_result"
    }
   ],
   "source": [
    "dir(string)"
   ]
  },
  {
   "cell_type": "code",
   "execution_count": 29,
   "id": "cec365f4",
   "metadata": {},
   "outputs": [],
   "source": [
    "#dir(np)\n",
    "#commented out because so large"
   ]
  },
  {
   "cell_type": "code",
   "execution_count": 30,
   "id": "3f1d584e",
   "metadata": {},
   "outputs": [
    {
     "data": {
      "text/plain": [
       "'abcdefghijklmnopqrstuvwxyzABCDEFGHIJKLMNOPQRSTUVWXYZ'"
      ]
     },
     "execution_count": 30,
     "metadata": {},
     "output_type": "execute_result"
    }
   ],
   "source": [
    "letters = string.ascii_letters\n",
    "letters"
   ]
  },
  {
   "cell_type": "code",
   "execution_count": 31,
   "id": "b0092f1d",
   "metadata": {},
   "outputs": [
    {
     "data": {
      "text/plain": [
       "str"
      ]
     },
     "execution_count": 31,
     "metadata": {},
     "output_type": "execute_result"
    }
   ],
   "source": [
    "type(letters)"
   ]
  },
  {
   "cell_type": "markdown",
   "id": "4d9f84bb",
   "metadata": {},
   "source": [
    "The following code is close, but will throw an error. See if you can spot it."
   ]
  },
  {
   "cell_type": "code",
   "execution_count": 32,
   "id": "0aaeb590",
   "metadata": {},
   "outputs": [
    {
     "ename": "ValueError",
     "evalue": "a must be a sequence or an integer, not <class 'str'>",
     "output_type": "error",
     "traceback": [
      "\u001b[0;31m---------------------------------------------------------------------------\u001b[0m",
      "\u001b[0;31mTypeError\u001b[0m                                 Traceback (most recent call last)",
      "File \u001b[0;32m_generator.pyx:712\u001b[0m, in \u001b[0;36mnumpy.random._generator.Generator.choice\u001b[0;34m()\u001b[0m\n",
      "\u001b[0;31mTypeError\u001b[0m: 'str' object cannot be interpreted as an integer",
      "\nThe above exception was the direct cause of the following exception:\n",
      "\u001b[0;31mValueError\u001b[0m                                Traceback (most recent call last)",
      "Input \u001b[0;32mIn [32]\u001b[0m, in \u001b[0;36m<cell line: 1>\u001b[0;34m()\u001b[0m\n\u001b[0;32m----> 1\u001b[0m \u001b[43mrng\u001b[49m\u001b[38;5;241;43m.\u001b[39;49m\u001b[43mchoice\u001b[49m\u001b[43m(\u001b[49m\u001b[43mletters\u001b[49m\u001b[43m,\u001b[49m\u001b[43msize\u001b[49m\u001b[38;5;241;43m=\u001b[39;49m\u001b[43m(\u001b[49m\u001b[38;5;241;43m20\u001b[39;49m\u001b[43m,\u001b[49m\u001b[38;5;241;43m3\u001b[39;49m\u001b[43m)\u001b[49m\u001b[43m)\u001b[49m\n",
      "File \u001b[0;32m_generator.pyx:714\u001b[0m, in \u001b[0;36mnumpy.random._generator.Generator.choice\u001b[0;34m()\u001b[0m\n",
      "\u001b[0;31mValueError\u001b[0m: a must be a sequence or an integer, not <class 'str'>"
     ]
    }
   ],
   "source": [
    "rng.choice(letters,size=(20,3))"
   ]
  },
  {
   "cell_type": "markdown",
   "id": "aeb04af6",
   "metadata": {},
   "source": [
    "The issue here is that `letters` is a string. We can easily fix this by converting it to a list."
   ]
  },
  {
   "cell_type": "code",
   "execution_count": 33,
   "id": "2adcf794",
   "metadata": {},
   "outputs": [
    {
     "data": {
      "text/plain": [
       "array([['P', 'f', 'R'],\n",
       "       ['u', 'F', 'W'],\n",
       "       ['F', 'p', 'V'],\n",
       "       ['h', 'Z', 'K'],\n",
       "       ['x', 'T', 'k'],\n",
       "       ['d', 'A', 'T'],\n",
       "       ['g', 'b', 'X'],\n",
       "       ['q', 'L', 'U'],\n",
       "       ['C', 'C', 'B'],\n",
       "       ['a', 'l', 'y'],\n",
       "       ['w', 'l', 'V'],\n",
       "       ['G', 'm', 'P'],\n",
       "       ['k', 'n', 'P'],\n",
       "       ['E', 'g', 'Z'],\n",
       "       ['I', 'G', 'R'],\n",
       "       ['Y', 'v', 'f'],\n",
       "       ['e', 'n', 'j'],\n",
       "       ['H', 'k', 'k'],\n",
       "       ['W', 'b', 'g'],\n",
       "       ['s', 'h', 'u']], dtype='<U1')"
      ]
     },
     "execution_count": 33,
     "metadata": {},
     "output_type": "execute_result"
    }
   ],
   "source": [
    "arr = rng.choice(list(letters),size=(20,3))\n",
    "arr"
   ]
  },
  {
   "cell_type": "markdown",
   "id": "e6e0d5bc",
   "metadata": {},
   "source": [
    "Here's the basic idea of how we'll merge the columns."
   ]
  },
  {
   "cell_type": "code",
   "execution_count": 34,
   "id": "60d27f64",
   "metadata": {},
   "outputs": [
    {
     "data": {
      "text/plain": [
       "array(['P', 'f', 'R'], dtype='<U1')"
      ]
     },
     "execution_count": 34,
     "metadata": {},
     "output_type": "execute_result"
    }
   ],
   "source": [
    "arr[0]"
   ]
  },
  {
   "cell_type": "code",
   "execution_count": 35,
   "id": "bd9f1708",
   "metadata": {},
   "outputs": [
    {
     "data": {
      "text/plain": [
       "'PfR'"
      ]
     },
     "execution_count": 35,
     "metadata": {},
     "output_type": "execute_result"
    }
   ],
   "source": [
    "\"\".join(arr[0])"
   ]
  },
  {
   "cell_type": "markdown",
   "id": "6a5626bf",
   "metadata": {},
   "source": [
    "Now, we need to apply this idea to every row of `arr`."
   ]
  },
  {
   "cell_type": "code",
   "execution_count": 36,
   "id": "4448e061",
   "metadata": {},
   "outputs": [
    {
     "data": {
      "text/plain": [
       "array(['PfR', 'uFW', 'FpV', 'hZK', 'xTk', 'dAT', 'gbX', 'qLU', 'CCB',\n",
       "       'aly', 'wlV', 'GmP', 'knP', 'EgZ', 'IGR', 'Yvf', 'enj', 'Hkk',\n",
       "       'Wbg', 'shu'], dtype='<U3')"
      ]
     },
     "execution_count": 36,
     "metadata": {},
     "output_type": "execute_result"
    }
   ],
   "source": [
    "np.apply_along_axis(lambda row: \"\".join(row),axis=1,arr=arr)"
   ]
  },
  {
   "cell_type": "markdown",
   "id": "2cf582e6",
   "metadata": {},
   "source": [
    "* Let `tuplist` be the following list of tuples. Sort the list so that the numbers are increasing.\n",
    "\n",
    "`[(\"A\",50),(\"B\",70),(\"C\",100),(\"D\",45)]`"
   ]
  },
  {
   "cell_type": "code",
   "execution_count": 37,
   "id": "b1f32043",
   "metadata": {},
   "outputs": [],
   "source": [
    "tuplist = [(\"A\",50),(\"B\",70),(\"C\",100),(\"D\",45)]"
   ]
  },
  {
   "cell_type": "code",
   "execution_count": 38,
   "id": "cc0912f7",
   "metadata": {},
   "outputs": [
    {
     "name": "stdout",
     "output_type": "stream",
     "text": [
      "Help on built-in function sorted in module builtins:\n",
      "\n",
      "sorted(iterable, /, *, key=None, reverse=False)\n",
      "    Return a new list containing all items from the iterable in ascending order.\n",
      "    \n",
      "    A custom key function can be supplied to customize the sort order, and the\n",
      "    reverse flag can be set to request the result in descending order.\n",
      "\n"
     ]
    }
   ],
   "source": [
    "help(sorted)"
   ]
  },
  {
   "cell_type": "markdown",
   "id": "367e75e4",
   "metadata": {},
   "source": [
    "The symbols `/,*` mean that I have to specify the keywords."
   ]
  },
  {
   "cell_type": "code",
   "execution_count": 39,
   "id": "4f10430d",
   "metadata": {},
   "outputs": [
    {
     "data": {
      "text/plain": [
       "[('A', 50), ('B', 70), ('C', 100), ('D', 45)]"
      ]
     },
     "execution_count": 39,
     "metadata": {},
     "output_type": "execute_result"
    }
   ],
   "source": [
    "#nothing happens\n",
    "sorted(tuplist)"
   ]
  },
  {
   "cell_type": "code",
   "execution_count": 40,
   "id": "a2382c6d",
   "metadata": {},
   "outputs": [
    {
     "data": {
      "text/plain": [
       "50"
      ]
     },
     "execution_count": 40,
     "metadata": {},
     "output_type": "execute_result"
    }
   ],
   "source": [
    "tuplist[0][1]"
   ]
  },
  {
   "cell_type": "code",
   "execution_count": 41,
   "id": "8f6fbee4",
   "metadata": {},
   "outputs": [
    {
     "data": {
      "text/plain": [
       "70"
      ]
     },
     "execution_count": 41,
     "metadata": {},
     "output_type": "execute_result"
    }
   ],
   "source": [
    "tuplist[1][1]"
   ]
  },
  {
   "cell_type": "markdown",
   "id": "c5b55bbb",
   "metadata": {},
   "source": [
    "I need to specify how I'd actually like to order `tuplist`"
   ]
  },
  {
   "cell_type": "code",
   "execution_count": 42,
   "id": "e4f6c4ba",
   "metadata": {},
   "outputs": [
    {
     "data": {
      "text/plain": [
       "[('D', 45), ('A', 50), ('B', 70), ('C', 100)]"
      ]
     },
     "execution_count": 42,
     "metadata": {},
     "output_type": "execute_result"
    }
   ],
   "source": [
    "sorted(tuplist, key=lambda tup: tup[1])"
   ]
  },
  {
   "cell_type": "markdown",
   "id": "33a33a6d",
   "metadata": {},
   "source": [
    "What if I wanted to go in decreasing order?"
   ]
  },
  {
   "cell_type": "code",
   "execution_count": 43,
   "id": "c9473012",
   "metadata": {},
   "outputs": [
    {
     "data": {
      "text/plain": [
       "[('C', 100), ('B', 70), ('A', 50), ('D', 45)]"
      ]
     },
     "execution_count": 43,
     "metadata": {},
     "output_type": "execute_result"
    }
   ],
   "source": [
    "sorted(tuplist, key=lambda tup: tup[1], reverse=True)"
   ]
  },
  {
   "cell_type": "markdown",
   "id": "91439e6f",
   "metadata": {},
   "source": [
    "How could I sort by letters instead?"
   ]
  },
  {
   "cell_type": "code",
   "execution_count": 44,
   "id": "66b079c6",
   "metadata": {},
   "outputs": [
    {
     "data": {
      "text/plain": [
       "[('A', 50), ('B', 70), ('C', 100), ('D', 45)]"
      ]
     },
     "execution_count": 44,
     "metadata": {},
     "output_type": "execute_result"
    }
   ],
   "source": [
    "sorted(tuplist, key=lambda tup: tup[0])"
   ]
  },
  {
   "cell_type": "code",
   "execution_count": 45,
   "id": "f656aae4",
   "metadata": {},
   "outputs": [
    {
     "data": {
      "text/plain": [
       "[('D', 45), ('C', 100), ('B', 70), ('A', 50)]"
      ]
     },
     "execution_count": 45,
     "metadata": {},
     "output_type": "execute_result"
    }
   ],
   "source": [
    "sorted(tuplist, key=lambda tup: tup[0],reverse=True)"
   ]
  },
  {
   "cell_type": "markdown",
   "id": "48d6308d",
   "metadata": {},
   "source": [
    "## Formatting a NumPy Array"
   ]
  },
  {
   "cell_type": "markdown",
   "id": "37abd0f2",
   "metadata": {},
   "source": [
    "We will use lambda functions and f-strings to format a NumPy array."
   ]
  },
  {
   "cell_type": "code",
   "execution_count": 46,
   "id": "9d5d7dbe",
   "metadata": {},
   "outputs": [],
   "source": [
    "import numpy as np\n",
    "rng = np.random.default_rng(seed=1)\n",
    "arr = rng.normal(size = 100)"
   ]
  },
  {
   "cell_type": "markdown",
   "id": "aa45907d",
   "metadata": {},
   "source": [
    "Maybe I don't like the exponential notation. Let's change that first."
   ]
  },
  {
   "cell_type": "code",
   "execution_count": 47,
   "id": "5e3a4d2b",
   "metadata": {},
   "outputs": [
    {
     "name": "stdout",
     "output_type": "stream",
     "text": [
      "Help on function set_printoptions in module numpy:\n",
      "\n",
      "set_printoptions(precision=None, threshold=None, edgeitems=None, linewidth=None, suppress=None, nanstr=None, infstr=None, formatter=None, sign=None, floatmode=None, *, legacy=None)\n",
      "    Set printing options.\n",
      "    \n",
      "    These options determine the way floating point numbers, arrays and\n",
      "    other NumPy objects are displayed.\n",
      "    \n",
      "    Parameters\n",
      "    ----------\n",
      "    precision : int or None, optional\n",
      "        Number of digits of precision for floating point output (default 8).\n",
      "        May be None if `floatmode` is not `fixed`, to print as many digits as\n",
      "        necessary to uniquely specify the value.\n",
      "    threshold : int, optional\n",
      "        Total number of array elements which trigger summarization\n",
      "        rather than full repr (default 1000).\n",
      "        To always use the full repr without summarization, pass `sys.maxsize`.\n",
      "    edgeitems : int, optional\n",
      "        Number of array items in summary at beginning and end of\n",
      "        each dimension (default 3).\n",
      "    linewidth : int, optional\n",
      "        The number of characters per line for the purpose of inserting\n",
      "        line breaks (default 75).\n",
      "    suppress : bool, optional\n",
      "        If True, always print floating point numbers using fixed point\n",
      "        notation, in which case numbers equal to zero in the current precision\n",
      "        will print as zero.  If False, then scientific notation is used when\n",
      "        absolute value of the smallest number is < 1e-4 or the ratio of the\n",
      "        maximum absolute value to the minimum is > 1e3. The default is False.\n",
      "    nanstr : str, optional\n",
      "        String representation of floating point not-a-number (default nan).\n",
      "    infstr : str, optional\n",
      "        String representation of floating point infinity (default inf).\n",
      "    sign : string, either '-', '+', or ' ', optional\n",
      "        Controls printing of the sign of floating-point types. If '+', always\n",
      "        print the sign of positive values. If ' ', always prints a space\n",
      "        (whitespace character) in the sign position of positive values.  If\n",
      "        '-', omit the sign character of positive values. (default '-')\n",
      "    formatter : dict of callables, optional\n",
      "        If not None, the keys should indicate the type(s) that the respective\n",
      "        formatting function applies to.  Callables should return a string.\n",
      "        Types that are not specified (by their corresponding keys) are handled\n",
      "        by the default formatters.  Individual types for which a formatter\n",
      "        can be set are:\n",
      "    \n",
      "        - 'bool'\n",
      "        - 'int'\n",
      "        - 'timedelta' : a `numpy.timedelta64`\n",
      "        - 'datetime' : a `numpy.datetime64`\n",
      "        - 'float'\n",
      "        - 'longfloat' : 128-bit floats\n",
      "        - 'complexfloat'\n",
      "        - 'longcomplexfloat' : composed of two 128-bit floats\n",
      "        - 'numpystr' : types `numpy.string_` and `numpy.unicode_`\n",
      "        - 'object' : `np.object_` arrays\n",
      "    \n",
      "        Other keys that can be used to set a group of types at once are:\n",
      "    \n",
      "        - 'all' : sets all types\n",
      "        - 'int_kind' : sets 'int'\n",
      "        - 'float_kind' : sets 'float' and 'longfloat'\n",
      "        - 'complex_kind' : sets 'complexfloat' and 'longcomplexfloat'\n",
      "        - 'str_kind' : sets 'numpystr'\n",
      "    floatmode : str, optional\n",
      "        Controls the interpretation of the `precision` option for\n",
      "        floating-point types. Can take the following values\n",
      "        (default maxprec_equal):\n",
      "    \n",
      "        * 'fixed': Always print exactly `precision` fractional digits,\n",
      "                even if this would print more or fewer digits than\n",
      "                necessary to specify the value uniquely.\n",
      "        * 'unique': Print the minimum number of fractional digits necessary\n",
      "                to represent each value uniquely. Different elements may\n",
      "                have a different number of digits. The value of the\n",
      "                `precision` option is ignored.\n",
      "        * 'maxprec': Print at most `precision` fractional digits, but if\n",
      "                an element can be uniquely represented with fewer digits\n",
      "                only print it with that many.\n",
      "        * 'maxprec_equal': Print at most `precision` fractional digits,\n",
      "                but if every element in the array can be uniquely\n",
      "                represented with an equal number of fewer digits, use that\n",
      "                many digits for all elements.\n",
      "    legacy : string or `False`, optional\n",
      "        If set to the string `'1.13'` enables 1.13 legacy printing mode. This\n",
      "        approximates numpy 1.13 print output by including a space in the sign\n",
      "        position of floats and different behavior for 0d arrays. This also\n",
      "        enables 1.21 legacy printing mode (described below).\n",
      "    \n",
      "        If set to the string `'1.21'` enables 1.21 legacy printing mode. This\n",
      "        approximates numpy 1.21 print output of complex structured dtypes\n",
      "        by not inserting spaces after commas that separate fields and after\n",
      "        colons.\n",
      "    \n",
      "        If set to `False`, disables legacy mode.\n",
      "    \n",
      "        Unrecognized strings will be ignored with a warning for forward\n",
      "        compatibility.\n",
      "    \n",
      "        .. versionadded:: 1.14.0\n",
      "        .. versionchanged:: 1.22.0\n",
      "    \n",
      "    See Also\n",
      "    --------\n",
      "    get_printoptions, printoptions, set_string_function, array2string\n",
      "    \n",
      "    Notes\n",
      "    -----\n",
      "    `formatter` is always reset with a call to `set_printoptions`.\n",
      "    \n",
      "    Use `printoptions` as a context manager to set the values temporarily.\n",
      "    \n",
      "    Examples\n",
      "    --------\n",
      "    Floating point precision can be set:\n",
      "    \n",
      "    >>> np.set_printoptions(precision=4)\n",
      "    >>> np.array([1.123456789])\n",
      "    [1.1235]\n",
      "    \n",
      "    Long arrays can be summarised:\n",
      "    \n",
      "    >>> np.set_printoptions(threshold=5)\n",
      "    >>> np.arange(10)\n",
      "    array([0, 1, 2, ..., 7, 8, 9])\n",
      "    \n",
      "    Small results can be suppressed:\n",
      "    \n",
      "    >>> eps = np.finfo(float).eps\n",
      "    >>> x = np.arange(4.)\n",
      "    >>> x**2 - (x + eps)**2\n",
      "    array([-4.9304e-32, -4.4409e-16,  0.0000e+00,  0.0000e+00])\n",
      "    >>> np.set_printoptions(suppress=True)\n",
      "    >>> x**2 - (x + eps)**2\n",
      "    array([-0., -0.,  0.,  0.])\n",
      "    \n",
      "    A custom formatter can be used to display array elements as desired:\n",
      "    \n",
      "    >>> np.set_printoptions(formatter={'all':lambda x: 'int: '+str(-x)})\n",
      "    >>> x = np.arange(3)\n",
      "    >>> x\n",
      "    array([int: 0, int: -1, int: -2])\n",
      "    >>> np.set_printoptions()  # formatter gets reset\n",
      "    >>> x\n",
      "    array([0, 1, 2])\n",
      "    \n",
      "    To put back the default options, you can use:\n",
      "    \n",
      "    >>> np.set_printoptions(edgeitems=3, infstr='inf',\n",
      "    ... linewidth=75, nanstr='nan', precision=8,\n",
      "    ... suppress=False, threshold=1000, formatter=None)\n",
      "    \n",
      "    Also to temporarily override options, use `printoptions` as a context manager:\n",
      "    \n",
      "    >>> with np.printoptions(precision=2, suppress=True, threshold=5):\n",
      "    ...     np.linspace(0, 10, 10)\n",
      "    array([ 0.  ,  1.11,  2.22, ...,  7.78,  8.89, 10.  ])\n",
      "\n"
     ]
    }
   ],
   "source": [
    "help(np.set_printoptions)"
   ]
  },
  {
   "cell_type": "code",
   "execution_count": 48,
   "id": "ce28cd13",
   "metadata": {},
   "outputs": [],
   "source": [
    "np.set_printoptions(formatter={'float':lambda x:f\"{x:.4f}\"})"
   ]
  },
  {
   "cell_type": "code",
   "execution_count": 49,
   "id": "0519db2e",
   "metadata": {},
   "outputs": [
    {
     "data": {
      "text/plain": [
       "array([0.3456, 0.8216, 0.3304, -1.3032, 0.9054, 0.4464, -0.5370, 0.5811,\n",
       "       0.3646, 0.2941, 0.0284, 0.5467, -0.7365, -0.1629, -0.4821, 0.5988,\n",
       "       0.0397, -0.2925, -0.7819, -0.2572, 0.0081, -0.2756, 1.2941, 1.0067,\n",
       "       -2.7112, -1.8890, -0.1748, -0.4222, 0.2136, 0.2173, 2.1178,\n",
       "       -1.1120, -0.3776, 2.0428, 0.6467, 0.6631, -0.5140, -1.6481, 0.1675,\n",
       "       0.1090, -1.2274, -0.6832, -0.0720, -0.9448, -0.0983, 0.0955,\n",
       "       0.0356, -0.5063, 0.5937, 0.8912, 0.3208, -0.8182, 0.7317, -0.5014,\n",
       "       0.8792, -1.0718, 0.9145, -0.0201, -1.2487, -0.3139, 0.0541, 0.2728,\n",
       "       -0.9822, -1.1074, 0.1996, -0.4667, 0.2355, 0.7595, -1.6488, 0.2544,\n",
       "       1.2246, -0.2975, -0.8108, 0.7522, 0.2534, 0.8959, -0.3452, -1.4818,\n",
       "       -0.1100, -0.4458, 0.7753, 0.1936, -1.6308, -1.1952, 0.8838, 0.6798,\n",
       "       -0.6402, -0.0010, 0.4456, 0.4684, 0.8762, 0.2565, -0.0948, -0.2588,\n",
       "       1.0557, -2.2509, -0.1387, 0.0330, -1.4253, 0.3328])"
      ]
     },
     "execution_count": 49,
     "metadata": {},
     "output_type": "execute_result"
    }
   ],
   "source": [
    "arr"
   ]
  },
  {
   "cell_type": "markdown",
   "id": "eba7d3e7",
   "metadata": {},
   "source": [
    "Maybe now I want the columns to be lined up a little bit more nicely."
   ]
  },
  {
   "cell_type": "code",
   "execution_count": 50,
   "id": "8dab1b4e",
   "metadata": {},
   "outputs": [],
   "source": [
    "np.set_printoptions(formatter={'float':lambda x:f\"{x:+.4f}\"})"
   ]
  },
  {
   "cell_type": "code",
   "execution_count": 51,
   "id": "b1a99faf",
   "metadata": {},
   "outputs": [
    {
     "data": {
      "text/plain": [
       "array([+0.3456, +0.8216, +0.3304, -1.3032, +0.9054, +0.4464, -0.5370,\n",
       "       +0.5811, +0.3646, +0.2941, +0.0284, +0.5467, -0.7365, -0.1629,\n",
       "       -0.4821, +0.5988, +0.0397, -0.2925, -0.7819, -0.2572, +0.0081,\n",
       "       -0.2756, +1.2941, +1.0067, -2.7112, -1.8890, -0.1748, -0.4222,\n",
       "       +0.2136, +0.2173, +2.1178, -1.1120, -0.3776, +2.0428, +0.6467,\n",
       "       +0.6631, -0.5140, -1.6481, +0.1675, +0.1090, -1.2274, -0.6832,\n",
       "       -0.0720, -0.9448, -0.0983, +0.0955, +0.0356, -0.5063, +0.5937,\n",
       "       +0.8912, +0.3208, -0.8182, +0.7317, -0.5014, +0.8792, -1.0718,\n",
       "       +0.9145, -0.0201, -1.2487, -0.3139, +0.0541, +0.2728, -0.9822,\n",
       "       -1.1074, +0.1996, -0.4667, +0.2355, +0.7595, -1.6488, +0.2544,\n",
       "       +1.2246, -0.2975, -0.8108, +0.7522, +0.2534, +0.8959, -0.3452,\n",
       "       -1.4818, -0.1100, -0.4458, +0.7753, +0.1936, -1.6308, -1.1952,\n",
       "       +0.8838, +0.6798, -0.6402, -0.0010, +0.4456, +0.4684, +0.8762,\n",
       "       +0.2565, -0.0948, -0.2588, +1.0557, -2.2509, -0.1387, +0.0330,\n",
       "       -1.4253, +0.3328])"
      ]
     },
     "execution_count": 51,
     "metadata": {},
     "output_type": "execute_result"
    }
   ],
   "source": [
    "arr"
   ]
  },
  {
   "cell_type": "markdown",
   "id": "aa8ab56b",
   "metadata": {},
   "source": [
    "Maybe it looks a little cluttered with the plus signs, we could use a space instead."
   ]
  },
  {
   "cell_type": "code",
   "execution_count": 52,
   "id": "1dffe3db",
   "metadata": {},
   "outputs": [],
   "source": [
    "np.set_printoptions(formatter={'float':lambda x:f\"{x: .4f}\"})"
   ]
  },
  {
   "cell_type": "code",
   "execution_count": 53,
   "id": "5771b71a",
   "metadata": {},
   "outputs": [
    {
     "data": {
      "text/plain": [
       "array([ 0.3456,  0.8216,  0.3304, -1.3032,  0.9054,  0.4464, -0.5370,\n",
       "        0.5811,  0.3646,  0.2941,  0.0284,  0.5467, -0.7365, -0.1629,\n",
       "       -0.4821,  0.5988,  0.0397, -0.2925, -0.7819, -0.2572,  0.0081,\n",
       "       -0.2756,  1.2941,  1.0067, -2.7112, -1.8890, -0.1748, -0.4222,\n",
       "        0.2136,  0.2173,  2.1178, -1.1120, -0.3776,  2.0428,  0.6467,\n",
       "        0.6631, -0.5140, -1.6481,  0.1675,  0.1090, -1.2274, -0.6832,\n",
       "       -0.0720, -0.9448, -0.0983,  0.0955,  0.0356, -0.5063,  0.5937,\n",
       "        0.8912,  0.3208, -0.8182,  0.7317, -0.5014,  0.8792, -1.0718,\n",
       "        0.9145, -0.0201, -1.2487, -0.3139,  0.0541,  0.2728, -0.9822,\n",
       "       -1.1074,  0.1996, -0.4667,  0.2355,  0.7595, -1.6488,  0.2544,\n",
       "        1.2246, -0.2975, -0.8108,  0.7522,  0.2534,  0.8959, -0.3452,\n",
       "       -1.4818, -0.1100, -0.4458,  0.7753,  0.1936, -1.6308, -1.1952,\n",
       "        0.8838,  0.6798, -0.6402, -0.0010,  0.4456,  0.4684,  0.8762,\n",
       "        0.2565, -0.0948, -0.2588,  1.0557, -2.2509, -0.1387,  0.0330,\n",
       "       -1.4253,  0.3328])"
      ]
     },
     "execution_count": 53,
     "metadata": {},
     "output_type": "execute_result"
    }
   ],
   "source": [
    "arr"
   ]
  },
  {
   "cell_type": "markdown",
   "id": "56827fa4",
   "metadata": {},
   "source": [
    "## Mathematical Introduction to Newton's Method"
   ]
  },
  {
   "cell_type": "markdown",
   "id": "45df2ab7",
   "metadata": {},
   "source": [
    "![](../images/26.jpg)\n",
    "![](../images/27.jpg)"
   ]
  },
  {
   "cell_type": "markdown",
   "id": "395ffcce",
   "metadata": {},
   "source": [
    "Link to Desmos examples:\n",
    "\n",
    "* <a href=\"https://www.desmos.com/calculator/oxn8f5bn8e\"> $f(x)=x^3-2$ example </a>\n",
    "* <a href=\"https://www.desmos.com/calculator/iimbderdld\"> $f(x) = x^3-2x+2$ example </a>"
   ]
  },
  {
   "cell_type": "markdown",
   "id": "f8d690e1",
   "metadata": {},
   "source": [
    "## Applying at a good point"
   ]
  },
  {
   "cell_type": "markdown",
   "id": "a3eb63f3",
   "metadata": {},
   "source": [
    "Let $f(x) = x^3 - 2x + 2$. Starting at $x_0 = -1.5$, apply Newton's method three times to estimate a root of $f$."
   ]
  },
  {
   "cell_type": "code",
   "execution_count": 54,
   "id": "2d7f75a5",
   "metadata": {},
   "outputs": [],
   "source": [
    "import matplotlib.pyplot as plt"
   ]
  },
  {
   "cell_type": "code",
   "execution_count": 55,
   "id": "df1572e7",
   "metadata": {},
   "outputs": [],
   "source": [
    "f = lambda x: x**3-2*x+2"
   ]
  },
  {
   "cell_type": "markdown",
   "id": "6193b2e1",
   "metadata": {},
   "source": [
    "There are sophisticated ways of getting derivatives in python, but for this class we'll just code it by hand."
   ]
  },
  {
   "cell_type": "code",
   "execution_count": 56,
   "id": "a179a62d",
   "metadata": {},
   "outputs": [],
   "source": [
    "df = lambda x: 3*x**2-2"
   ]
  },
  {
   "cell_type": "markdown",
   "id": "d732f983",
   "metadata": {},
   "source": [
    "Remember: If my guess is $(x_0,f(x_0))$, the next point is given by $x_0 - \\frac{f(x_0)}{f'(x_0)}$."
   ]
  },
  {
   "cell_type": "code",
   "execution_count": 57,
   "id": "789f53d1",
   "metadata": {},
   "outputs": [],
   "source": [
    "newt = lambda z: z - f(z)/df(z)"
   ]
  },
  {
   "cell_type": "code",
   "execution_count": 58,
   "id": "29fd2675",
   "metadata": {},
   "outputs": [],
   "source": [
    "z = -1.5\n",
    "reps = 3\n",
    "arr = np.zeros(reps+1)\n",
    "arr[0] = z\n",
    "\n",
    "for i in range(reps):\n",
    "    arr[i+1] = newt(arr[i])"
   ]
  },
  {
   "cell_type": "code",
   "execution_count": 59,
   "id": "c49b68e1",
   "metadata": {},
   "outputs": [
    {
     "data": {
      "text/plain": [
       "array([-1.5000, -1.8421, -1.7728, -1.7693])"
      ]
     },
     "execution_count": 59,
     "metadata": {},
     "output_type": "execute_result"
    }
   ],
   "source": [
    "arr"
   ]
  },
  {
   "cell_type": "code",
   "execution_count": 60,
   "id": "cf82d76d",
   "metadata": {},
   "outputs": [
    {
     "data": {
      "text/plain": [
       "array([ 1.6250, -0.5667, -0.0262, -0.0001])"
      ]
     },
     "execution_count": 60,
     "metadata": {},
     "output_type": "execute_result"
    }
   ],
   "source": [
    "f(arr)"
   ]
  },
  {
   "cell_type": "markdown",
   "id": "413ac8c5",
   "metadata": {},
   "source": [
    "Notice we did a pretty good job, since `f` of our last point is close to zero."
   ]
  },
  {
   "cell_type": "code",
   "execution_count": 61,
   "id": "ae097d2f",
   "metadata": {},
   "outputs": [
    {
     "data": {
      "text/plain": [
       "-1.7728264273412229"
      ]
     },
     "execution_count": 61,
     "metadata": {},
     "output_type": "execute_result"
    }
   ],
   "source": [
    "newt(-1.8421)"
   ]
  },
  {
   "cell_type": "code",
   "execution_count": 62,
   "id": "1a47e02d",
   "metadata": {},
   "outputs": [],
   "source": [
    "plt.style.use('seaborn-darkgrid')"
   ]
  },
  {
   "cell_type": "code",
   "execution_count": 63,
   "id": "73ae4360",
   "metadata": {},
   "outputs": [
    {
     "data": {
      "image/png": "[encoded data removed]",
      "text/plain": [
       "<Figure size 640x480 with 1 Axes>"
      ]
     },
     "metadata": {},
     "output_type": "display_data"
    }
   ],
   "source": [
    "fig,ax = plt.subplots()\n",
    "x = np.linspace(-2,2,1000)\n",
    "ax.plot(x,f(x));"
   ]
  },
  {
   "cell_type": "markdown",
   "id": "7ae3782b",
   "metadata": {},
   "source": [
    "## Applying at a worse point"
   ]
  },
  {
   "cell_type": "markdown",
   "id": "0fa71e76",
   "metadata": {},
   "source": [
    "Let $f(x) = x^3 - 2x + 2$. Starting at $x_0 = -0.5$, apply Newton's method three times to estimate a root of $f$."
   ]
  },
  {
   "cell_type": "code",
   "execution_count": 64,
   "id": "f820b5e6",
   "metadata": {},
   "outputs": [],
   "source": [
    "z = -0.5\n",
    "reps = 3\n",
    "arr = np.zeros(reps+1)\n",
    "arr[0] = z\n",
    "\n",
    "for i in range(reps):\n",
    "    arr[i+1] = newt(arr[i])"
   ]
  },
  {
   "cell_type": "code",
   "execution_count": 65,
   "id": "c5595aee",
   "metadata": {},
   "outputs": [
    {
     "data": {
      "text/plain": [
       "array([-0.5000,  1.8000,  1.2518,  0.7120])"
      ]
     },
     "execution_count": 65,
     "metadata": {},
     "output_type": "execute_result"
    }
   ],
   "source": [
    "arr"
   ]
  },
  {
   "cell_type": "code",
   "execution_count": 66,
   "id": "19dbb093",
   "metadata": {},
   "outputs": [
    {
     "data": {
      "text/plain": [
       "0.9369290496425093"
      ]
     },
     "execution_count": 66,
     "metadata": {},
     "output_type": "execute_result"
    }
   ],
   "source": [
    "f(arr[-1])"
   ]
  },
  {
   "cell_type": "markdown",
   "id": "3f3dc798",
   "metadata": {},
   "source": [
    "Notice, this is a much worse estimate than what we got before when we started at $x_0 = -1.5$."
   ]
  },
  {
   "cell_type": "markdown",
   "id": "79bb713e",
   "metadata": {},
   "source": [
    "Recall: The equation of the tangent line to $f(x)$ at $x_0$ is \n",
    "$$\n",
    "y-f(x_0) = f'(x_0)(x - x_0).\n",
    "$$\n",
    "This gives\n",
    "$$\n",
    "y = f'(x_0)(x-x_0) + f(x_0).\n",
    "$$"
   ]
  },
  {
   "cell_type": "code",
   "execution_count": 67,
   "id": "05517f00",
   "metadata": {},
   "outputs": [],
   "source": [
    "def tang(x0):\n",
    "    return lambda x: df(x0)*(x-x0)+f(x0)"
   ]
  },
  {
   "cell_type": "code",
   "execution_count": 68,
   "id": "f4782e5e",
   "metadata": {},
   "outputs": [
    {
     "data": {
      "text/plain": [
       "<function __main__.tang.<locals>.<lambda>(x)>"
      ]
     },
     "execution_count": 68,
     "metadata": {},
     "output_type": "execute_result"
    }
   ],
   "source": [
    "tang(arr[0])"
   ]
  },
  {
   "cell_type": "code",
   "execution_count": 69,
   "id": "914865ed",
   "metadata": {},
   "outputs": [
    {
     "data": {
      "image/png": "[encoded data removed]",
      "text/plain": [
       "<Figure size 640x480 with 1 Axes>"
      ]
     },
     "metadata": {},
     "output_type": "display_data"
    }
   ],
   "source": [
    "fig,ax = plt.subplots()\n",
    "x = np.linspace(-2,2,1000)\n",
    "ax.plot(x,f(x));\n",
    "for i in range(reps):\n",
    "    ax.plot(x,tang(arr[i])(x));\n",
    "    ax.plot(arr[i+1],0,'ko')\n",
    "ax.set(xlim=(-1,2),ylim=(-2,4));"
   ]
  },
  {
   "cell_type": "markdown",
   "id": "ce8be2c7",
   "metadata": {},
   "source": [
    "You can change the `reps` to 10, and notice that we don't converge to a zero."
   ]
  },
  {
   "cell_type": "markdown",
   "id": "668ee315",
   "metadata": {},
   "source": [
    "Let's now look at the same plot, but for when we start at a good point: $x_0 = -1.5$."
   ]
  },
  {
   "cell_type": "code",
   "execution_count": 70,
   "id": "0e442e69",
   "metadata": {},
   "outputs": [],
   "source": [
    "z = -1.5\n",
    "reps = 10\n",
    "arr = np.zeros(reps+1)\n",
    "arr[0] = z\n",
    "\n",
    "for i in range(reps):\n",
    "    arr[i+1] = newt(arr[i])"
   ]
  },
  {
   "cell_type": "code",
   "execution_count": 71,
   "id": "c10af7a2",
   "metadata": {},
   "outputs": [
    {
     "data": {
      "image/png": "[encoded data removed]",
      "text/plain": [
       "<Figure size 640x480 with 1 Axes>"
      ]
     },
     "metadata": {},
     "output_type": "display_data"
    }
   ],
   "source": [
    "fig,ax = plt.subplots()\n",
    "x = np.linspace(-2,2,1000)\n",
    "ax.plot(x,f(x));\n",
    "for i in range(reps):\n",
    "    ax.plot(x,tang(arr[i])(x));\n",
    "    ax.plot(arr[i+1],0,'ko')\n",
    "ax.set(xlim=(-3,3),ylim=(-5,5));"
   ]
  },
  {
   "cell_type": "markdown",
   "id": "e87b7432",
   "metadata": {},
   "source": [
    "Remember when we tried this function with a start of $z=0$ in Desmos. Let's try it here."
   ]
  },
  {
   "cell_type": "code",
   "execution_count": 72,
   "id": "e98e2a42",
   "metadata": {},
   "outputs": [],
   "source": [
    "z = 0\n",
    "reps = 10\n",
    "arr = np.zeros(reps+1)\n",
    "arr[0] = z\n",
    "\n",
    "for i in range(reps):\n",
    "    arr[i+1] = newt(arr[i])"
   ]
  },
  {
   "cell_type": "code",
   "execution_count": 73,
   "id": "e958544b",
   "metadata": {},
   "outputs": [
    {
     "data": {
      "image/png": "[encoded data removed]",
      "text/plain": [
       "<Figure size 640x480 with 1 Axes>"
      ]
     },
     "metadata": {},
     "output_type": "display_data"
    }
   ],
   "source": [
    "fig,ax = plt.subplots()\n",
    "x = np.linspace(-2,2,1000)\n",
    "ax.plot(x,f(x));\n",
    "for i in range(reps):\n",
    "    ax.plot(x,tang(arr[i])(x));\n",
    "    ax.plot(arr[i+1],0,'ko')\n",
    "ax.set(xlim=(-3,3),ylim=(-5,5));"
   ]
  },
  {
   "cell_type": "code",
   "execution_count": 74,
   "id": "9934ef44",
   "metadata": {},
   "outputs": [
    {
     "data": {
      "text/plain": [
       "array([ 0.0000,  1.0000,  0.0000,  1.0000,  0.0000,  1.0000,  0.0000,\n",
       "        1.0000,  0.0000,  1.0000,  0.0000])"
      ]
     },
     "execution_count": 74,
     "metadata": {},
     "output_type": "execute_result"
    }
   ],
   "source": [
    "arr"
   ]
  },
  {
   "cell_type": "markdown",
   "id": "298a9d44",
   "metadata": {},
   "source": [
    "Request from chat:"
   ]
  },
  {
   "cell_type": "code",
   "execution_count": 75,
   "id": "e98134d3",
   "metadata": {},
   "outputs": [],
   "source": [
    "f = lambda x: (x-2)**4\n",
    "df = lambda x: 4*(x-2)**3"
   ]
  },
  {
   "cell_type": "code",
   "execution_count": 76,
   "id": "cd88f9f6",
   "metadata": {},
   "outputs": [
    {
     "name": "stderr",
     "output_type": "stream",
     "text": [
      "/var/folders/ct/dspwzk2n6kb19j3s9g3ldtc80000gn/T/ipykernel_33413/326974613.py:1: RuntimeWarning: invalid value encountered in double_scalars\n",
      "  newt = lambda z: z - f(z)/df(z)\n"
     ]
    }
   ],
   "source": [
    "z = 2\n",
    "reps = 10\n",
    "arr = np.zeros(reps+1)\n",
    "arr[0] = z\n",
    "\n",
    "for i in range(reps):\n",
    "    arr[i+1] = newt(arr[i])"
   ]
  },
  {
   "cell_type": "markdown",
   "id": "8e15eb7f",
   "metadata": {},
   "source": [
    "Notice! We get division by zero errors, since `df` is zero at `z=2`."
   ]
  },
  {
   "cell_type": "code",
   "execution_count": 77,
   "id": "ec106d79",
   "metadata": {},
   "outputs": [],
   "source": [
    "z = 1.5\n",
    "reps = 10\n",
    "arr = np.zeros(reps+1)\n",
    "arr[0] = z\n",
    "\n",
    "for i in range(reps):\n",
    "    arr[i+1] = newt(arr[i])"
   ]
  },
  {
   "cell_type": "code",
   "execution_count": 78,
   "id": "0125d011",
   "metadata": {},
   "outputs": [
    {
     "data": {
      "image/png": "[encoded data removed]",
      "text/plain": [
       "<Figure size 640x480 with 1 Axes>"
      ]
     },
     "metadata": {},
     "output_type": "display_data"
    }
   ],
   "source": [
    "fig,ax = plt.subplots()\n",
    "x = np.linspace(-2,2,1000)\n",
    "ax.plot(x,f(x));\n",
    "for i in range(reps):\n",
    "    ax.plot(x,tang(arr[i])(x));\n",
    "    ax.plot(arr[i+1],0,'ko')\n",
    "ax.set(xlim=(-3,3),ylim=(-1,1));"
   ]
  },
  {
   "cell_type": "code",
   "execution_count": 79,
   "id": "fb4cc691",
   "metadata": {},
   "outputs": [
    {
     "data": {
      "text/plain": [
       "array([ 1.5000,  1.6250,  1.7188,  1.7891,  1.8418,  1.8813,  1.9110,\n",
       "        1.9333,  1.9499,  1.9625,  1.9718])"
      ]
     },
     "execution_count": 79,
     "metadata": {},
     "output_type": "execute_result"
    }
   ],
   "source": [
    "arr"
   ]
  },
  {
   "cell_type": "code",
   "execution_count": 80,
   "id": "b2d7156d",
   "metadata": {},
   "outputs": [
    {
     "data": {
      "text/plain": [
       "array([ 0.0625,  0.0198,  0.0063,  0.0020,  0.0006,  0.0002,  0.0001,\n",
       "        0.0000,  0.0000,  0.0000,  0.0000])"
      ]
     },
     "execution_count": 80,
     "metadata": {},
     "output_type": "execute_result"
    }
   ],
   "source": [
    "f(arr)"
   ]
  },
  {
   "cell_type": "markdown",
   "id": "70efd80c",
   "metadata": {},
   "source": [
    "***"
   ]
  },
  {
   "cell_type": "markdown",
   "id": "6f0df9aa",
   "metadata": {},
   "source": [
    "We'll get to this on Monday!"
   ]
  },
  {
   "cell_type": "markdown",
   "id": "ff305d64",
   "metadata": {},
   "source": [
    "## Analyzing Newton's Method"
   ]
  },
  {
   "cell_type": "markdown",
   "id": "77473636",
   "metadata": {},
   "source": [
    "Let $f(x) = x^3 - 2x + 2$. For each value of $z$ in `np.linspace(-2,2,1000)`, apply Newton's method 7 times, and call the result $z_7$. For how many of these 100 values do we have $-0.001 < f(z_7) < 0.001$?"
   ]
  }
 ],
 "metadata": {
  "kernelspec": {
   "display_name": "Python 3 (ipykernel)",
   "language": "python",
   "name": "python3"
  },
  "language_info": {
   "codemirror_mode": {
    "name": "ipython",
    "version": 3
   },
   "file_extension": ".py",
   "mimetype": "text/x-python",
   "name": "python",
   "nbconvert_exporter": "python",
   "pygments_lexer": "ipython3",
   "version": "3.9.13"
  }
 },
 "nbformat": 4,
 "nbformat_minor": 5
}

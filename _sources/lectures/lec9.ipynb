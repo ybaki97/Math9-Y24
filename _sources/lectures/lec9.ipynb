{
 "cells": [
  {
   "cell_type": "markdown",
   "id": "79fe75a4",
   "metadata": {},
   "source": [
    "# Lecture 9: July 12th, 2024"
   ]
  },
  {
   "cell_type": "markdown",
   "id": "b9a5ce49",
   "metadata": {},
   "source": [
    "__Reminders and Announcements:__\n",
    "\n",
    "* Complete your MATLAB outcomes if you haven't already.\n",
    "* Jessica will cover some new material in discussion today: \"Timing a Computation\" and \"Counting in NumPy\"."
   ]
  },
  {
   "cell_type": "markdown",
   "id": "99138ef2",
   "metadata": {},
   "source": [
    "## Alternating List\n",
    "__Big Goal:__ Write a function that creates a length $n$ list of alternating $3$'s and $7$'s $[3,7,3,7 \\dots]$."
   ]
  },
  {
   "cell_type": "markdown",
   "id": "dd0a7c7e",
   "metadata": {},
   "source": [
    "## Constant List"
   ]
  },
  {
   "cell_type": "markdown",
   "id": "b7f8cc58",
   "metadata": {},
   "source": [
    "__Mini Goal:__ Write a function that takes as input a natural number $n$ and as output returns a length $n$ list $[3,3, \\dots, 3]$."
   ]
  },
  {
   "cell_type": "markdown",
   "id": "54603cc7",
   "metadata": {},
   "source": [
    "Below is the function that we wrote last lecture. We started today by talking a little bit about how the variable `n` defined in `constant(n)` is what's called a _local variable_. Outside of the function, `n` is not defined. We saw some examples of this by printing `n` at various places throughout the cell."
   ]
  },
  {
   "cell_type": "code",
   "execution_count": 17,
   "id": "1fb4ba4e",
   "metadata": {
    "scrolled": false
   },
   "outputs": [],
   "source": [
    "def constant(n):\n",
    "    mylist = []\n",
    "    for i in range(n):\n",
    "        mylist.append(3)\n",
    "    #print(n)\n",
    "    return mylist\n",
    "#print(n)"
   ]
  },
  {
   "cell_type": "code",
   "execution_count": 3,
   "id": "ab76ad1a",
   "metadata": {
    "scrolled": false
   },
   "outputs": [
    {
     "data": {
      "text/plain": [
       "[3, 3, 3, 3, 3, 3]"
      ]
     },
     "execution_count": 3,
     "metadata": {},
     "output_type": "execute_result"
    }
   ],
   "source": [
    "constant(6)"
   ]
  },
  {
   "cell_type": "markdown",
   "id": "05345d35",
   "metadata": {},
   "source": [
    "Notice that `n` is a locally defined variable. If we try to call it below we get an error."
   ]
  },
  {
   "cell_type": "code",
   "execution_count": 4,
   "id": "916c3229",
   "metadata": {
    "scrolled": false
   },
   "outputs": [
    {
     "ename": "NameError",
     "evalue": "name 'n' is not defined",
     "output_type": "error",
     "traceback": [
      "\u001b[0;31m---------------------------------------------------------------------------\u001b[0m",
      "\u001b[0;31mNameError\u001b[0m                                 Traceback (most recent call last)",
      "Input \u001b[0;32mIn [4]\u001b[0m, in \u001b[0;36m<cell line: 1>\u001b[0;34m()\u001b[0m\n\u001b[0;32m----> 1\u001b[0m \u001b[43mn\u001b[49m\n",
      "\u001b[0;31mNameError\u001b[0m: name 'n' is not defined"
     ]
    }
   ],
   "source": [
    "n"
   ]
  },
  {
   "cell_type": "markdown",
   "id": "a7559772",
   "metadata": {},
   "source": [
    "Defining `n` separately does not impact `constant(4)`."
   ]
  },
  {
   "cell_type": "code",
   "execution_count": 5,
   "id": "469b8d26",
   "metadata": {
    "scrolled": false
   },
   "outputs": [],
   "source": [
    "n = 100"
   ]
  },
  {
   "cell_type": "code",
   "execution_count": 14,
   "id": "0e1e3816",
   "metadata": {
    "scrolled": false
   },
   "outputs": [
    {
     "name": "stdout",
     "output_type": "stream",
     "text": [
      "4\n"
     ]
    },
    {
     "data": {
      "text/plain": [
       "[3, 3, 3, 3]"
      ]
     },
     "execution_count": 14,
     "metadata": {},
     "output_type": "execute_result"
    }
   ],
   "source": [
    "constant(4)"
   ]
  },
  {
   "cell_type": "markdown",
   "id": "b6e716d8",
   "metadata": {},
   "source": [
    "## Alternating List – Part 2 "
   ]
  },
  {
   "cell_type": "code",
   "execution_count": 28,
   "id": "bd95606c",
   "metadata": {
    "scrolled": false
   },
   "outputs": [],
   "source": [
    "def alt1(n):\n",
    "    mylist = constant(n)\n",
    "    #with this method, we don't check \n",
    "    #whether an index is even or odd\n",
    "    for i in range(1,n,2):\n",
    "        mylist[i] = 7\n",
    "    return mylist"
   ]
  },
  {
   "cell_type": "code",
   "execution_count": 18,
   "id": "b2fafa62",
   "metadata": {
    "scrolled": false
   },
   "outputs": [
    {
     "data": {
      "text/plain": [
       "[3, 3, 3, 3, 3]"
      ]
     },
     "execution_count": 18,
     "metadata": {},
     "output_type": "execute_result"
    }
   ],
   "source": [
    "alt1(5)"
   ]
  },
  {
   "cell_type": "markdown",
   "id": "f88d6700",
   "metadata": {},
   "source": [
    "It's typically not a good idea to copy-paste blocks of code. Notice that we call `constant(n)` instead of pasting the code for it. \n",
    "* If I need to make a change to a part of the code, it's best to only have to change it in one place. \n",
    "* This is the main reason why we encourage you not to copy-paste. Think about it: if there's a mistake somewhere and you copy-paste it, you've now introduced even more mistakes."
   ]
  },
  {
   "cell_type": "code",
   "execution_count": 23,
   "id": "1cf36ede",
   "metadata": {
    "scrolled": false
   },
   "outputs": [
    {
     "data": {
      "text/plain": [
       "[3, 7, 3, 7]"
      ]
     },
     "execution_count": 23,
     "metadata": {},
     "output_type": "execute_result"
    }
   ],
   "source": [
    "alt1(4)"
   ]
  },
  {
   "cell_type": "code",
   "execution_count": 24,
   "id": "ae73fa9a",
   "metadata": {
    "scrolled": false
   },
   "outputs": [
    {
     "data": {
      "text/plain": [
       "[3, 7, 3, 7, 3]"
      ]
     },
     "execution_count": 24,
     "metadata": {},
     "output_type": "execute_result"
    }
   ],
   "source": [
    "alt1(5)"
   ]
  },
  {
   "cell_type": "markdown",
   "id": "7b36da0e",
   "metadata": {},
   "source": [
    "__Question from the chat:__ how do we know when to use `()` versus `[]`. <br>\n",
    "__Answer:__ this is one of those things that you'll just have to get used to with time, but there are a few general rules.\n",
    "* In Python, `[]` are typically used for indexing, and making lists.\n",
    "* `()` are typically used with functions, or to make tuples."
   ]
  },
  {
   "cell_type": "markdown",
   "id": "4fcac64a",
   "metadata": {},
   "source": [
    "## Alternating List – Part 3 "
   ]
  },
  {
   "cell_type": "markdown",
   "id": "7ec2c30d",
   "metadata": {},
   "source": [
    "### Checking if the index is even or odd "
   ]
  },
  {
   "cell_type": "code",
   "execution_count": 45,
   "id": "1d6f4adb",
   "metadata": {
    "scrolled": false
   },
   "outputs": [],
   "source": [
    "#this example shows how to use elif statements\n",
    "#the most elegant way to do this is just with if-else\n",
    "def alt2(n):\n",
    "    mylist = []\n",
    "    for i in range(n):\n",
    "        #if i is even, append 3\n",
    "        #else, append 7\n",
    "        if i%2 == 0:\n",
    "            mylist.append(3)\n",
    "        elif i%2 == 1:\n",
    "            mylist.append(7)\n",
    "        elif i%2 == 17: #never will happen\n",
    "            disp(\"Something is wrong!\")\n",
    "    return mylist"
   ]
  },
  {
   "cell_type": "markdown",
   "id": "6b90b6f5",
   "metadata": {},
   "source": [
    "We can check whether an index is even or odd by looking at its remainder when we divide by 2."
   ]
  },
  {
   "cell_type": "code",
   "execution_count": 29,
   "id": "18ec737f",
   "metadata": {
    "scrolled": false
   },
   "outputs": [
    {
     "data": {
      "text/plain": [
       "0"
      ]
     },
     "execution_count": 29,
     "metadata": {},
     "output_type": "execute_result"
    }
   ],
   "source": [
    "6%2 #remainder of 6 divided by 2"
   ]
  },
  {
   "cell_type": "code",
   "execution_count": 30,
   "id": "358d22b1",
   "metadata": {
    "scrolled": false
   },
   "outputs": [
    {
     "data": {
      "text/plain": [
       "1"
      ]
     },
     "execution_count": 30,
     "metadata": {},
     "output_type": "execute_result"
    }
   ],
   "source": [
    "7%2"
   ]
  },
  {
   "cell_type": "code",
   "execution_count": 31,
   "id": "88939f2e",
   "metadata": {
    "scrolled": false
   },
   "outputs": [
    {
     "data": {
      "text/plain": [
       "3"
      ]
     },
     "execution_count": 31,
     "metadata": {},
     "output_type": "execute_result"
    }
   ],
   "source": [
    "7%4 #remainder of 7 divided by 4"
   ]
  },
  {
   "cell_type": "code",
   "execution_count": 46,
   "id": "c34dd0bf",
   "metadata": {
    "scrolled": false
   },
   "outputs": [
    {
     "data": {
      "text/plain": [
       "[3, 7, 3, 7, 3]"
      ]
     },
     "execution_count": 46,
     "metadata": {},
     "output_type": "execute_result"
    }
   ],
   "source": [
    "alt2(5)"
   ]
  },
  {
   "cell_type": "code",
   "execution_count": 47,
   "id": "8ef49f40",
   "metadata": {
    "scrolled": false
   },
   "outputs": [
    {
     "data": {
      "text/plain": [
       "[3, 7, 3, 7, 3, 7, 3, 7, 3, 7]"
      ]
     },
     "execution_count": 47,
     "metadata": {},
     "output_type": "execute_result"
    }
   ],
   "source": [
    "alt2(10)"
   ]
  },
  {
   "cell_type": "markdown",
   "id": "79326063",
   "metadata": {},
   "source": [
    "We might think that the `alt1` function is shorter (takes fewer lines of code) than `alt2`, but don't forget that we call `constant` in `alt1` which contributes about three extra lines of code."
   ]
  },
  {
   "cell_type": "markdown",
   "id": "6abc599b",
   "metadata": {},
   "source": [
    "## Alternating List – Part 4\n",
    "### Using NumPy "
   ]
  },
  {
   "cell_type": "markdown",
   "id": "4f309ee7",
   "metadata": {},
   "source": [
    "* NumPy is one of the most famous Python libraries. It stands for Numerical Python, and should remind you of MATLAB.\n",
    "* It does need to be installed, though. So let us know if you're having any trouble with it."
   ]
  },
  {
   "cell_type": "code",
   "execution_count": 48,
   "id": "30c285c8",
   "metadata": {
    "scrolled": false
   },
   "outputs": [],
   "source": [
    "import numpy as np"
   ]
  },
  {
   "cell_type": "markdown",
   "id": "214838b7",
   "metadata": {},
   "source": [
    "* `import numpy`, as you would expect, tells Python to import NumPy.\n",
    "* `as np` means instead of me calling it NumPy, I'm going to call it `np`. \n",
    "* Note: `np` is a standard naming convention. Avoid using any other name for it.\n"
   ]
  },
  {
   "cell_type": "markdown",
   "id": "0a9061e1",
   "metadata": {},
   "source": [
    "The first function we see should be very familiar."
   ]
  },
  {
   "cell_type": "code",
   "execution_count": 49,
   "id": "ad8fbcbe",
   "metadata": {
    "scrolled": false
   },
   "outputs": [
    {
     "data": {
      "text/plain": [
       "array([[0., 0., 0., 0., 0.],\n",
       "       [0., 0., 0., 0., 0.],\n",
       "       [0., 0., 0., 0., 0.]])"
      ]
     },
     "execution_count": 49,
     "metadata": {},
     "output_type": "execute_result"
    }
   ],
   "source": [
    "np.zeros((3,5))"
   ]
  },
  {
   "cell_type": "code",
   "execution_count": 51,
   "id": "88045a23",
   "metadata": {
    "scrolled": false
   },
   "outputs": [
    {
     "data": {
      "text/plain": [
       "numpy.ndarray"
      ]
     },
     "execution_count": 51,
     "metadata": {},
     "output_type": "execute_result"
    }
   ],
   "source": [
    "A = np.zeros((3,5))\n",
    "type(A)"
   ]
  },
  {
   "cell_type": "markdown",
   "id": "4c19ce78",
   "metadata": {},
   "source": [
    "Notice this is a little different from MATLAB, where we would instead expect a $7 \\times 7$ matrix"
   ]
  },
  {
   "cell_type": "code",
   "execution_count": 52,
   "id": "4c9e5acf",
   "metadata": {
    "scrolled": false
   },
   "outputs": [
    {
     "data": {
      "text/plain": [
       "array([0., 0., 0., 0., 0., 0., 0.])"
      ]
     },
     "execution_count": 52,
     "metadata": {},
     "output_type": "execute_result"
    }
   ],
   "source": [
    "np.zeros(7)"
   ]
  },
  {
   "cell_type": "code",
   "execution_count": 54,
   "id": "daa66303",
   "metadata": {
    "scrolled": false
   },
   "outputs": [
    {
     "data": {
      "text/plain": [
       "(7,)"
      ]
     },
     "execution_count": 54,
     "metadata": {},
     "output_type": "execute_result"
    }
   ],
   "source": [
    "np.zeros(7).shape"
   ]
  },
  {
   "cell_type": "code",
   "execution_count": 56,
   "id": "25786537",
   "metadata": {
    "scrolled": false
   },
   "outputs": [
    {
     "data": {
      "text/plain": [
       "numpy.float64"
      ]
     },
     "execution_count": 56,
     "metadata": {},
     "output_type": "execute_result"
    }
   ],
   "source": [
    "#Getting index 0 element of array\n",
    "type(np.zeros(7)[0])"
   ]
  },
  {
   "cell_type": "markdown",
   "id": "ee8fe3b7",
   "metadata": {},
   "source": [
    "Maybe we want our array to have integers instead. Let's call help to see how to change the data type."
   ]
  },
  {
   "cell_type": "code",
   "execution_count": 57,
   "id": "f4e9f321",
   "metadata": {
    "scrolled": false
   },
   "outputs": [
    {
     "name": "stdout",
     "output_type": "stream",
     "text": [
      "Help on built-in function zeros in module numpy:\n",
      "\n",
      "zeros(...)\n",
      "    zeros(shape, dtype=float, order='C', *, like=None)\n",
      "    \n",
      "    Return a new array of given shape and type, filled with zeros.\n",
      "    \n",
      "    Parameters\n",
      "    ----------\n",
      "    shape : int or tuple of ints\n",
      "        Shape of the new array, e.g., ``(2, 3)`` or ``2``.\n",
      "    dtype : data-type, optional\n",
      "        The desired data-type for the array, e.g., `numpy.int8`.  Default is\n",
      "        `numpy.float64`.\n",
      "    order : {'C', 'F'}, optional, default: 'C'\n",
      "        Whether to store multi-dimensional data in row-major\n",
      "        (C-style) or column-major (Fortran-style) order in\n",
      "        memory.\n",
      "    like : array_like, optional\n",
      "        Reference object to allow the creation of arrays which are not\n",
      "        NumPy arrays. If an array-like passed in as ``like`` supports\n",
      "        the ``__array_function__`` protocol, the result will be defined\n",
      "        by it. In this case, it ensures the creation of an array object\n",
      "        compatible with that passed in via this argument.\n",
      "    \n",
      "        .. versionadded:: 1.20.0\n",
      "    \n",
      "    Returns\n",
      "    -------\n",
      "    out : ndarray\n",
      "        Array of zeros with the given shape, dtype, and order.\n",
      "    \n",
      "    See Also\n",
      "    --------\n",
      "    zeros_like : Return an array of zeros with shape and type of input.\n",
      "    empty : Return a new uninitialized array.\n",
      "    ones : Return a new array setting values to one.\n",
      "    full : Return a new array of given shape filled with value.\n",
      "    \n",
      "    Examples\n",
      "    --------\n",
      "    >>> np.zeros(5)\n",
      "    array([ 0.,  0.,  0.,  0.,  0.])\n",
      "    \n",
      "    >>> np.zeros((5,), dtype=int)\n",
      "    array([0, 0, 0, 0, 0])\n",
      "    \n",
      "    >>> np.zeros((2, 1))\n",
      "    array([[ 0.],\n",
      "           [ 0.]])\n",
      "    \n",
      "    >>> s = (2,2)\n",
      "    >>> np.zeros(s)\n",
      "    array([[ 0.,  0.],\n",
      "           [ 0.,  0.]])\n",
      "    \n",
      "    >>> np.zeros((2,), dtype=[('x', 'i4'), ('y', 'i4')]) # custom dtype\n",
      "    array([(0, 0), (0, 0)],\n",
      "          dtype=[('x', '<i4'), ('y', '<i4')])\n",
      "\n"
     ]
    }
   ],
   "source": [
    "help(np.zeros)"
   ]
  },
  {
   "cell_type": "code",
   "execution_count": 58,
   "id": "4b8336f9",
   "metadata": {
    "scrolled": false
   },
   "outputs": [
    {
     "data": {
      "text/plain": [
       "array([0, 0, 0, 0, 0, 0, 0])"
      ]
     },
     "execution_count": 58,
     "metadata": {},
     "output_type": "execute_result"
    }
   ],
   "source": [
    "np.zeros(7, dtype=np.int64)"
   ]
  },
  {
   "cell_type": "code",
   "execution_count": 59,
   "id": "db4683a4",
   "metadata": {
    "scrolled": false
   },
   "outputs": [
    {
     "data": {
      "text/plain": [
       "array([0, 0, 0, 0, 0, 0, 0])"
      ]
     },
     "execution_count": 59,
     "metadata": {},
     "output_type": "execute_result"
    }
   ],
   "source": [
    "#technically, I don't need to specify dtype\n",
    "np.zeros(7,np.int64)"
   ]
  },
  {
   "cell_type": "code",
   "execution_count": 60,
   "id": "02331653",
   "metadata": {
    "scrolled": false
   },
   "outputs": [],
   "source": [
    "def alt3(n):\n",
    "    A = np.zeros(n,dtype=np.int64)+3\n",
    "    return A"
   ]
  },
  {
   "cell_type": "code",
   "execution_count": 61,
   "id": "b3ca59d0",
   "metadata": {
    "scrolled": false
   },
   "outputs": [
    {
     "data": {
      "text/plain": [
       "array([3, 3, 3, 3])"
      ]
     },
     "execution_count": 61,
     "metadata": {},
     "output_type": "execute_result"
    }
   ],
   "source": [
    "alt3(4)"
   ]
  },
  {
   "cell_type": "code",
   "execution_count": 62,
   "id": "1cc4e205",
   "metadata": {
    "scrolled": false
   },
   "outputs": [
    {
     "data": {
      "text/plain": [
       "array([3, 3, 3, 3, 3])"
      ]
     },
     "execution_count": 62,
     "metadata": {},
     "output_type": "execute_result"
    }
   ],
   "source": [
    "alt3(5)"
   ]
  },
  {
   "cell_type": "markdown",
   "id": "e11f0a74",
   "metadata": {},
   "source": [
    "Here's something a little bit special with NumPy. We're used to it from MATLAB, but it won't work in \"base\" Python. "
   ]
  },
  {
   "cell_type": "code",
   "execution_count": 63,
   "id": "1d6da81c",
   "metadata": {
    "scrolled": false
   },
   "outputs": [
    {
     "data": {
      "text/plain": [
       "array([6, 6, 6, 6, 6])"
      ]
     },
     "execution_count": 63,
     "metadata": {},
     "output_type": "execute_result"
    }
   ],
   "source": [
    "alt3(5) + 3"
   ]
  },
  {
   "cell_type": "markdown",
   "id": "1dbabf70",
   "metadata": {},
   "source": [
    "Notice the following causes an error:"
   ]
  },
  {
   "cell_type": "code",
   "execution_count": 64,
   "id": "b932ac65",
   "metadata": {
    "scrolled": false
   },
   "outputs": [
    {
     "ename": "TypeError",
     "evalue": "can only concatenate list (not \"int\") to list",
     "output_type": "error",
     "traceback": [
      "\u001b[0;31m---------------------------------------------------------------------------\u001b[0m",
      "\u001b[0;31mTypeError\u001b[0m                                 Traceback (most recent call last)",
      "Input \u001b[0;32mIn [64]\u001b[0m, in \u001b[0;36m<cell line: 2>\u001b[0;34m()\u001b[0m\n\u001b[1;32m      1\u001b[0m mylist \u001b[38;5;241m=\u001b[39m [\u001b[38;5;241m0\u001b[39m,\u001b[38;5;241m0\u001b[39m,\u001b[38;5;241m0\u001b[39m]\n\u001b[0;32m----> 2\u001b[0m \u001b[43mmylist\u001b[49m\u001b[38;5;241;43m+\u001b[39;49m\u001b[38;5;241;43m3\u001b[39;49m\n",
      "\u001b[0;31mTypeError\u001b[0m: can only concatenate list (not \"int\") to list"
     ]
    }
   ],
   "source": [
    "mylist = [0,0,0]\n",
    "mylist+3"
   ]
  },
  {
   "cell_type": "code",
   "execution_count": 65,
   "id": "ad8d5de2",
   "metadata": {
    "scrolled": false
   },
   "outputs": [],
   "source": [
    "def alt3(n):\n",
    "    A = np.zeros(n,dtype=np.int64)+3\n",
    "    A[1::2] = 7\n",
    "    return A"
   ]
  },
  {
   "cell_type": "code",
   "execution_count": 66,
   "id": "f47bb12f",
   "metadata": {
    "scrolled": false
   },
   "outputs": [
    {
     "data": {
      "text/plain": [
       "array([3, 7, 3, 7, 3])"
      ]
     },
     "execution_count": 66,
     "metadata": {},
     "output_type": "execute_result"
    }
   ],
   "source": [
    "alt3(5)"
   ]
  },
  {
   "cell_type": "code",
   "execution_count": 67,
   "id": "b06f5ce0",
   "metadata": {
    "scrolled": false
   },
   "outputs": [
    {
     "data": {
      "text/plain": [
       "array([3, 7, 3, 7, 3, 7, 3, 7, 3, 7])"
      ]
     },
     "execution_count": 67,
     "metadata": {},
     "output_type": "execute_result"
    }
   ],
   "source": [
    "alt3(10)"
   ]
  },
  {
   "cell_type": "markdown",
   "id": "9b685264",
   "metadata": {},
   "source": [
    "We might be surprised that the following doesn't work with lists."
   ]
  },
  {
   "cell_type": "code",
   "execution_count": 68,
   "id": "580fe0da",
   "metadata": {
    "scrolled": false
   },
   "outputs": [],
   "source": [
    "mylist = [3,1,4,1,5,9]"
   ]
  },
  {
   "cell_type": "markdown",
   "id": "5612b379",
   "metadata": {},
   "source": [
    "We can still slice lists:"
   ]
  },
  {
   "cell_type": "code",
   "execution_count": 70,
   "id": "74fba537",
   "metadata": {
    "scrolled": false
   },
   "outputs": [
    {
     "data": {
      "text/plain": [
       "[3, 4, 5]"
      ]
     },
     "execution_count": 70,
     "metadata": {},
     "output_type": "execute_result"
    }
   ],
   "source": [
    "mylist[::2]"
   ]
  },
  {
   "cell_type": "markdown",
   "id": "9e82e61c",
   "metadata": {},
   "source": [
    "but Python doesn't know what we mean by the following:"
   ]
  },
  {
   "cell_type": "code",
   "execution_count": 71,
   "id": "e1e46cf4",
   "metadata": {
    "scrolled": false
   },
   "outputs": [
    {
     "ename": "TypeError",
     "evalue": "must assign iterable to extended slice",
     "output_type": "error",
     "traceback": [
      "\u001b[0;31m---------------------------------------------------------------------------\u001b[0m",
      "\u001b[0;31mTypeError\u001b[0m                                 Traceback (most recent call last)",
      "Input \u001b[0;32mIn [71]\u001b[0m, in \u001b[0;36m<cell line: 1>\u001b[0;34m()\u001b[0m\n\u001b[0;32m----> 1\u001b[0m mylist[::\u001b[38;5;241m2\u001b[39m] \u001b[38;5;241m=\u001b[39m \u001b[38;5;241m-\u001b[39m\u001b[38;5;241m17\u001b[39m\n",
      "\u001b[0;31mTypeError\u001b[0m: must assign iterable to extended slice"
     ]
    }
   ],
   "source": [
    "mylist[::2] = -17"
   ]
  },
  {
   "cell_type": "markdown",
   "id": "6425ddf6",
   "metadata": {},
   "source": [
    "Because the slice has length 3, I need to pass a length 3 list of what values I'd like to assign."
   ]
  },
  {
   "cell_type": "code",
   "execution_count": 72,
   "id": "da89a9a2",
   "metadata": {
    "scrolled": false
   },
   "outputs": [],
   "source": [
    "mylist[::2] = [-17,-17,-17]"
   ]
  },
  {
   "cell_type": "code",
   "execution_count": 73,
   "id": "26f87d86",
   "metadata": {
    "scrolled": false
   },
   "outputs": [
    {
     "data": {
      "text/plain": [
       "[-17, 1, -17, 1, -17, 9]"
      ]
     },
     "execution_count": 73,
     "metadata": {},
     "output_type": "execute_result"
    }
   ],
   "source": [
    "mylist"
   ]
  },
  {
   "cell_type": "code",
   "execution_count": 74,
   "id": "6366ba0a",
   "metadata": {
    "scrolled": false
   },
   "outputs": [
    {
     "ename": "ValueError",
     "evalue": "attempt to assign sequence of size 2 to extended slice of size 3",
     "output_type": "error",
     "traceback": [
      "\u001b[0;31m---------------------------------------------------------------------------\u001b[0m",
      "\u001b[0;31mValueError\u001b[0m                                Traceback (most recent call last)",
      "Input \u001b[0;32mIn [74]\u001b[0m, in \u001b[0;36m<cell line: 1>\u001b[0;34m()\u001b[0m\n\u001b[0;32m----> 1\u001b[0m mylist[::\u001b[38;5;241m2\u001b[39m] \u001b[38;5;241m=\u001b[39m [\u001b[38;5;241m-\u001b[39m\u001b[38;5;241m18\u001b[39m,\u001b[38;5;241m-\u001b[39m\u001b[38;5;241m18\u001b[39m]\n",
      "\u001b[0;31mValueError\u001b[0m: attempt to assign sequence of size 2 to extended slice of size 3"
     ]
    }
   ],
   "source": [
    "mylist[::2] = [-18,-18]"
   ]
  },
  {
   "cell_type": "markdown",
   "id": "73348187",
   "metadata": {},
   "source": [
    "## Alternating List – Part 5\n",
    "### Timing Strats"
   ]
  },
  {
   "cell_type": "markdown",
   "id": "3ea0f3d3",
   "metadata": {},
   "source": [
    "The point of this section is to show you that NumPy is _very_ fast."
   ]
  },
  {
   "cell_type": "code",
   "execution_count": 95,
   "id": "8722b0b7",
   "metadata": {
    "scrolled": false
   },
   "outputs": [],
   "source": [
    "def alt3(n):\n",
    "    A = np.zeros(n,dtype=np.int64)+3\n",
    "    A[1::2] = 7\n",
    "    return A"
   ]
  },
  {
   "cell_type": "markdown",
   "id": "6ec95ab2",
   "metadata": {},
   "source": [
    "Let's try to write a function that mimics `alt3`, but doesn't use NumPy."
   ]
  },
  {
   "cell_type": "code",
   "execution_count": 75,
   "id": "85ce8814",
   "metadata": {
    "scrolled": false
   },
   "outputs": [],
   "source": [
    "def alt4(n):\n",
    "    mylist = []\n",
    "    for i in range(n):\n",
    "        mylist.append(3)\n",
    "    for i in range(1,n,2):\n",
    "        mylist[i] = 7\n",
    "    return mylist"
   ]
  },
  {
   "cell_type": "code",
   "execution_count": 76,
   "id": "2d8fcee1",
   "metadata": {
    "scrolled": false
   },
   "outputs": [
    {
     "data": {
      "text/plain": [
       "[3, 7, 3, 7, 3, 7, 3, 7, 3, 7]"
      ]
     },
     "execution_count": 76,
     "metadata": {},
     "output_type": "execute_result"
    }
   ],
   "source": [
    "alt4(10)"
   ]
  },
  {
   "cell_type": "code",
   "execution_count": 77,
   "id": "608e3d80",
   "metadata": {
    "scrolled": false
   },
   "outputs": [
    {
     "data": {
      "text/plain": [
       "[3, 7, 3, 7, 3, 7, 3, 7, 3, 7, 3]"
      ]
     },
     "execution_count": 77,
     "metadata": {},
     "output_type": "execute_result"
    }
   ],
   "source": [
    "alt4(11)"
   ]
  },
  {
   "cell_type": "markdown",
   "id": "d8d213f9",
   "metadata": {},
   "source": [
    "We've already seen examples with Jupyter magics and timing:"
   ]
  },
  {
   "cell_type": "code",
   "execution_count": 78,
   "id": "54b5d945",
   "metadata": {
    "scrolled": false
   },
   "outputs": [
    {
     "name": "stdout",
     "output_type": "stream",
     "text": [
      "2.76 µs ± 907 ns per loop (mean ± std. dev. of 7 runs, 100,000 loops each)\n"
     ]
    }
   ],
   "source": [
    "%%timeit\n",
    "alt4(10)"
   ]
  },
  {
   "cell_type": "markdown",
   "id": "9e0ceea3",
   "metadata": {},
   "source": [
    "What if I only really care about the first number?"
   ]
  },
  {
   "cell_type": "code",
   "execution_count": 79,
   "id": "b5d98602",
   "metadata": {
    "scrolled": false
   },
   "outputs": [],
   "source": [
    "import time"
   ]
  },
  {
   "cell_type": "markdown",
   "id": "1e509726",
   "metadata": {},
   "source": [
    "This returns the amount of time that's passed since the beginning of \"computer time\" (Unix time): January 1st, 1970. "
   ]
  },
  {
   "cell_type": "code",
   "execution_count": 80,
   "id": "f70742fb",
   "metadata": {
    "scrolled": false
   },
   "outputs": [
    {
     "data": {
      "text/plain": [
       "1720803551.305769"
      ]
     },
     "execution_count": 80,
     "metadata": {},
     "output_type": "execute_result"
    }
   ],
   "source": [
    "time.time()"
   ]
  },
  {
   "cell_type": "markdown",
   "id": "47b1cb14",
   "metadata": {},
   "source": [
    "Notice that if I call it again, some time has passed."
   ]
  },
  {
   "cell_type": "code",
   "execution_count": 81,
   "id": "526a7b5d",
   "metadata": {
    "scrolled": false
   },
   "outputs": [
    {
     "data": {
      "text/plain": [
       "1720803594.866464"
      ]
     },
     "execution_count": 81,
     "metadata": {},
     "output_type": "execute_result"
    }
   ],
   "source": [
    "time.time() "
   ]
  },
  {
   "cell_type": "markdown",
   "id": "0e5958be",
   "metadata": {},
   "source": [
    "Using this concept, we can time how long it takes to run `alt4(10**3)`."
   ]
  },
  {
   "cell_type": "code",
   "execution_count": 82,
   "id": "1e5741f1",
   "metadata": {
    "scrolled": false
   },
   "outputs": [
    {
     "name": "stdout",
     "output_type": "stream",
     "text": [
      "0.0010256767272949219\n"
     ]
    }
   ],
   "source": [
    "start = time.time()\n",
    "alt4(10**3)\n",
    "end = time.time()\n",
    "t = end - start\n",
    "print(t)"
   ]
  },
  {
   "cell_type": "markdown",
   "id": "76efa301",
   "metadata": {},
   "source": [
    "I want to find the first $n$ such that `alt4(n)` takes more than 5 seconds to run. To do this, we'll introduce while loops in Python."
   ]
  },
  {
   "cell_type": "code",
   "execution_count": 85,
   "id": "be1372df",
   "metadata": {
    "scrolled": false
   },
   "outputs": [
    {
     "name": "stdout",
     "output_type": "stream",
     "text": [
      "52428800\n"
     ]
    }
   ],
   "source": [
    "n = 100\n",
    "t = 0\n",
    "while t < 5:\n",
    "    n = n*2\n",
    "    start = time.time()\n",
    "    alt4(n)\n",
    "    end = time.time()\n",
    "    t = end - start\n",
    "print(n)"
   ]
  },
  {
   "cell_type": "markdown",
   "id": "983e3a38",
   "metadata": {},
   "source": [
    "__Question:__ Think about why we call `n = n*2` at the start of the loop, and not at the end."
   ]
  },
  {
   "cell_type": "markdown",
   "id": "f4a456db",
   "metadata": {},
   "source": [
    "Notice that if I reduce `n` by half, it takes less than 5 seconds to run."
   ]
  },
  {
   "cell_type": "code",
   "execution_count": 91,
   "id": "a8b8e60b",
   "metadata": {
    "scrolled": false
   },
   "outputs": [],
   "source": [
    "start = time.time()\n",
    "alt4(int(n/2))\n",
    "end = time.time()\n",
    "t = end-start"
   ]
  },
  {
   "cell_type": "code",
   "execution_count": 92,
   "id": "ec1eecef",
   "metadata": {
    "scrolled": false
   },
   "outputs": [
    {
     "data": {
      "text/plain": [
       "4.063894033432007"
      ]
     },
     "execution_count": 92,
     "metadata": {},
     "output_type": "execute_result"
    }
   ],
   "source": [
    "t"
   ]
  },
  {
   "cell_type": "markdown",
   "id": "6b092d32",
   "metadata": {},
   "source": [
    "Let's not compare this to the time it takes for `alt3(n)`."
   ]
  },
  {
   "cell_type": "code",
   "execution_count": 93,
   "id": "f13e72b7",
   "metadata": {
    "scrolled": false
   },
   "outputs": [
    {
     "data": {
      "text/plain": [
       "52428800"
      ]
     },
     "execution_count": 93,
     "metadata": {},
     "output_type": "execute_result"
    }
   ],
   "source": [
    "n"
   ]
  },
  {
   "cell_type": "code",
   "execution_count": 96,
   "id": "bf652e32",
   "metadata": {
    "scrolled": false
   },
   "outputs": [
    {
     "name": "stdout",
     "output_type": "stream",
     "text": [
      "0.5635237693786621\n"
     ]
    }
   ],
   "source": [
    "start = time.time()\n",
    "alt3(n)\n",
    "end = time.time()\n",
    "t = end-start\n",
    "print(t)"
   ]
  },
  {
   "cell_type": "markdown",
   "id": "12baf4ae",
   "metadata": {},
   "source": [
    "You should stop and appreciate just how fast NumPy is!"
   ]
  },
  {
   "cell_type": "markdown",
   "id": "9f036d81",
   "metadata": {},
   "source": [
    "Here, we use the NumPy version, but convert the output to a list."
   ]
  },
  {
   "cell_type": "code",
   "execution_count": 97,
   "id": "5de72a4c",
   "metadata": {
    "scrolled": false
   },
   "outputs": [],
   "source": [
    "def alt3_list(n):\n",
    "    A = np.zeros(n,dtype=np.int64)+3\n",
    "    A[1::2] = 7\n",
    "    return list(A)"
   ]
  },
  {
   "cell_type": "code",
   "execution_count": 98,
   "id": "a47558d1",
   "metadata": {
    "scrolled": false
   },
   "outputs": [
    {
     "name": "stdout",
     "output_type": "stream",
     "text": [
      "6.5183188915252686\n"
     ]
    }
   ],
   "source": [
    "start = time.time()\n",
    "alt3_list(n)\n",
    "end = time.time()\n",
    "t = end-start\n",
    "print(t)"
   ]
  },
  {
   "cell_type": "markdown",
   "id": "8740c0f1",
   "metadata": {},
   "source": [
    "Notice that converting to a list has slowed us down significantly."
   ]
  },
  {
   "cell_type": "markdown",
   "id": "19df79b5",
   "metadata": {},
   "source": [
    "Next, we instead use a for-loop to change the odd indices. We'll see that this also slows us down quite a bit."
   ]
  },
  {
   "cell_type": "code",
   "execution_count": 99,
   "id": "30675a9a",
   "metadata": {
    "scrolled": false
   },
   "outputs": [],
   "source": [
    "def alt3_for(n):\n",
    "    A = np.zeros(n,dtype=np.int64)+3\n",
    "    for i in range(1,n,2):\n",
    "        A[i] = 7\n",
    "    return A"
   ]
  },
  {
   "cell_type": "code",
   "execution_count": 100,
   "id": "6ace0410",
   "metadata": {
    "scrolled": false
   },
   "outputs": [
    {
     "name": "stdout",
     "output_type": "stream",
     "text": [
      "5.239586114883423\n"
     ]
    }
   ],
   "source": [
    "start = time.time()\n",
    "alt3_for(n)\n",
    "end = time.time()\n",
    "t = end-start\n",
    "print(t)"
   ]
  },
  {
   "cell_type": "markdown",
   "id": "604121e2",
   "metadata": {},
   "source": [
    "__Takeaways:__ for-loops and lists are very slow, while NumPy is fast :)"
   ]
  },
  {
   "cell_type": "markdown",
   "id": "bf224f7c",
   "metadata": {},
   "source": [
    "***"
   ]
  },
  {
   "cell_type": "markdown",
   "id": "4b946b3d",
   "metadata": {},
   "source": [
    "_This is the start of Python Unit 2._\n",
    "It is all about NumPy!"
   ]
  },
  {
   "cell_type": "markdown",
   "id": "545593bd",
   "metadata": {},
   "source": [
    "## Regular Arrays"
   ]
  },
  {
   "cell_type": "markdown",
   "id": "7589aac3",
   "metadata": {},
   "source": [
    "__Goal:__ Make NumPy arrays that follow certain patterns."
   ]
  },
  {
   "cell_type": "code",
   "execution_count": 101,
   "id": "b4cc4393",
   "metadata": {
    "scrolled": false
   },
   "outputs": [],
   "source": [
    "import numpy as np"
   ]
  },
  {
   "cell_type": "markdown",
   "id": "9dbc3aae",
   "metadata": {},
   "source": [
    "* $[0, \\dots, 0]$ (length 13)"
   ]
  },
  {
   "cell_type": "code",
   "execution_count": 104,
   "id": "19ac3d02",
   "metadata": {
    "scrolled": false
   },
   "outputs": [
    {
     "data": {
      "text/plain": [
       "array([0, 0, 0, 0, 0, 0, 0, 0, 0, 0, 0, 0, 0])"
      ]
     },
     "execution_count": 104,
     "metadata": {},
     "output_type": "execute_result"
    }
   ],
   "source": [
    "#we've already seen this!\n",
    "np.zeros(13,dtype=np.int64)"
   ]
  },
  {
   "cell_type": "code",
   "execution_count": 105,
   "id": "af1fd251",
   "metadata": {
    "scrolled": false
   },
   "outputs": [
    {
     "data": {
      "text/plain": [
       "[0, 0, 0, 0, 0, 0, 0, 0, 0, 0, 0, 0, 0]"
      ]
     },
     "execution_count": 105,
     "metadata": {},
     "output_type": "execute_result"
    }
   ],
   "source": [
    "#this is called list comprehension, it's not specific to NumPy\n",
    "#we'll get more practice with it in unit 3\n",
    "[0 for _ in range(13)]"
   ]
  },
  {
   "cell_type": "markdown",
   "id": "ca2f2df5",
   "metadata": {},
   "source": [
    "Some kind of cool examples, but not super important."
   ]
  },
  {
   "cell_type": "code",
   "execution_count": 106,
   "id": "8e3c9b14",
   "metadata": {
    "scrolled": false
   },
   "outputs": [
    {
     "data": {
      "text/plain": [
       "[0, 0]"
      ]
     },
     "execution_count": 106,
     "metadata": {},
     "output_type": "execute_result"
    }
   ],
   "source": [
    "[0] + [0]"
   ]
  },
  {
   "cell_type": "code",
   "execution_count": 107,
   "id": "3f5bd39c",
   "metadata": {
    "scrolled": false
   },
   "outputs": [
    {
     "data": {
      "text/plain": [
       "[0, 0, 0, 0, 0, 0, 0, 0, 0, 0, 0, 0, 0]"
      ]
     },
     "execution_count": 107,
     "metadata": {},
     "output_type": "execute_result"
    }
   ],
   "source": [
    "[0]*13"
   ]
  },
  {
   "cell_type": "markdown",
   "id": "244f00d0",
   "metadata": {},
   "source": [
    "* A $3 \\times 5$ matrix of all 7s."
   ]
  },
  {
   "cell_type": "markdown",
   "id": "bba303c3",
   "metadata": {},
   "source": [
    "I'll start by making a small, but common, mistake."
   ]
  },
  {
   "cell_type": "code",
   "execution_count": 108,
   "id": "66a7aec5",
   "metadata": {
    "scrolled": false
   },
   "outputs": [
    {
     "ename": "TypeError",
     "evalue": "Cannot interpret '5' as a data type",
     "output_type": "error",
     "traceback": [
      "\u001b[0;31m---------------------------------------------------------------------------\u001b[0m",
      "\u001b[0;31mTypeError\u001b[0m                                 Traceback (most recent call last)",
      "Input \u001b[0;32mIn [108]\u001b[0m, in \u001b[0;36m<cell line: 1>\u001b[0;34m()\u001b[0m\n\u001b[0;32m----> 1\u001b[0m \u001b[43mnp\u001b[49m\u001b[38;5;241;43m.\u001b[39;49m\u001b[43mzeros\u001b[49m\u001b[43m(\u001b[49m\u001b[38;5;241;43m3\u001b[39;49m\u001b[43m,\u001b[49m\u001b[38;5;241;43m5\u001b[39;49m\u001b[43m)\u001b[49m\u001b[38;5;241m+\u001b[39m\u001b[38;5;241m7\u001b[39m\n",
      "\u001b[0;31mTypeError\u001b[0m: Cannot interpret '5' as a data type"
     ]
    }
   ],
   "source": [
    "np.zeros(3,5)+7"
   ]
  },
  {
   "cell_type": "code",
   "execution_count": 109,
   "id": "384ce4b8",
   "metadata": {
    "scrolled": false
   },
   "outputs": [
    {
     "name": "stdout",
     "output_type": "stream",
     "text": [
      "Help on built-in function zeros in module numpy:\n",
      "\n",
      "zeros(...)\n",
      "    zeros(shape, dtype=float, order='C', *, like=None)\n",
      "    \n",
      "    Return a new array of given shape and type, filled with zeros.\n",
      "    \n",
      "    Parameters\n",
      "    ----------\n",
      "    shape : int or tuple of ints\n",
      "        Shape of the new array, e.g., ``(2, 3)`` or ``2``.\n",
      "    dtype : data-type, optional\n",
      "        The desired data-type for the array, e.g., `numpy.int8`.  Default is\n",
      "        `numpy.float64`.\n",
      "    order : {'C', 'F'}, optional, default: 'C'\n",
      "        Whether to store multi-dimensional data in row-major\n",
      "        (C-style) or column-major (Fortran-style) order in\n",
      "        memory.\n",
      "    like : array_like, optional\n",
      "        Reference object to allow the creation of arrays which are not\n",
      "        NumPy arrays. If an array-like passed in as ``like`` supports\n",
      "        the ``__array_function__`` protocol, the result will be defined\n",
      "        by it. In this case, it ensures the creation of an array object\n",
      "        compatible with that passed in via this argument.\n",
      "    \n",
      "        .. versionadded:: 1.20.0\n",
      "    \n",
      "    Returns\n",
      "    -------\n",
      "    out : ndarray\n",
      "        Array of zeros with the given shape, dtype, and order.\n",
      "    \n",
      "    See Also\n",
      "    --------\n",
      "    zeros_like : Return an array of zeros with shape and type of input.\n",
      "    empty : Return a new uninitialized array.\n",
      "    ones : Return a new array setting values to one.\n",
      "    full : Return a new array of given shape filled with value.\n",
      "    \n",
      "    Examples\n",
      "    --------\n",
      "    >>> np.zeros(5)\n",
      "    array([ 0.,  0.,  0.,  0.,  0.])\n",
      "    \n",
      "    >>> np.zeros((5,), dtype=int)\n",
      "    array([0, 0, 0, 0, 0])\n",
      "    \n",
      "    >>> np.zeros((2, 1))\n",
      "    array([[ 0.],\n",
      "           [ 0.]])\n",
      "    \n",
      "    >>> s = (2,2)\n",
      "    >>> np.zeros(s)\n",
      "    array([[ 0.,  0.],\n",
      "           [ 0.,  0.]])\n",
      "    \n",
      "    >>> np.zeros((2,), dtype=[('x', 'i4'), ('y', 'i4')]) # custom dtype\n",
      "    array([(0, 0), (0, 0)],\n",
      "          dtype=[('x', '<i4'), ('y', '<i4')])\n",
      "\n"
     ]
    }
   ],
   "source": [
    "help(np.zeros)"
   ]
  },
  {
   "cell_type": "code",
   "execution_count": 112,
   "id": "086b747b",
   "metadata": {
    "scrolled": false
   },
   "outputs": [
    {
     "data": {
      "text/plain": [
       "array([[7, 7, 7, 7, 7],\n",
       "       [7, 7, 7, 7, 7],\n",
       "       [7, 7, 7, 7, 7]])"
      ]
     },
     "execution_count": 112,
     "metadata": {},
     "output_type": "execute_result"
    }
   ],
   "source": [
    "np.zeros((3,5),dtype=np.int64)+7"
   ]
  },
  {
   "cell_type": "code",
   "execution_count": 113,
   "id": "11317809",
   "metadata": {
    "scrolled": false
   },
   "outputs": [
    {
     "data": {
      "text/plain": [
       "array([[7, 7, 7, 7, 7],\n",
       "       [7, 7, 7, 7, 7],\n",
       "       [7, 7, 7, 7, 7]])"
      ]
     },
     "execution_count": 113,
     "metadata": {},
     "output_type": "execute_result"
    }
   ],
   "source": [
    "np.ones((3,5),dtype=np.int64)*7"
   ]
  },
  {
   "cell_type": "markdown",
   "id": "98246975",
   "metadata": {},
   "source": [
    "Keep these examples in mind for broadcasting. We start with a $3 \\times 5$ array of all ones/zeros, and know how to multiply/add 7 to each of the components."
   ]
  },
  {
   "cell_type": "markdown",
   "id": "31c13108",
   "metadata": {},
   "source": [
    "* $[0,…,200]$ length 5, evenly distributed"
   ]
  },
  {
   "cell_type": "markdown",
   "id": "7692479c",
   "metadata": {},
   "source": [
    "This should make you think of `linspace` from MATLAB"
   ]
  },
  {
   "cell_type": "code",
   "execution_count": 114,
   "id": "e56642b2",
   "metadata": {
    "scrolled": true
   },
   "outputs": [
    {
     "name": "stdout",
     "output_type": "stream",
     "text": [
      "Help on function linspace in module numpy:\n",
      "\n",
      "linspace(start, stop, num=50, endpoint=True, retstep=False, dtype=None, axis=0)\n",
      "    Return evenly spaced numbers over a specified interval.\n",
      "    \n",
      "    Returns `num` evenly spaced samples, calculated over the\n",
      "    interval [`start`, `stop`].\n",
      "    \n",
      "    The endpoint of the interval can optionally be excluded.\n",
      "    \n",
      "    .. versionchanged:: 1.16.0\n",
      "        Non-scalar `start` and `stop` are now supported.\n",
      "    \n",
      "    .. versionchanged:: 1.20.0\n",
      "        Values are rounded towards ``-inf`` instead of ``0`` when an\n",
      "        integer ``dtype`` is specified. The old behavior can\n",
      "        still be obtained with ``np.linspace(start, stop, num).astype(int)``\n",
      "    \n",
      "    Parameters\n",
      "    ----------\n",
      "    start : array_like\n",
      "        The starting value of the sequence.\n",
      "    stop : array_like\n",
      "        The end value of the sequence, unless `endpoint` is set to False.\n",
      "        In that case, the sequence consists of all but the last of ``num + 1``\n",
      "        evenly spaced samples, so that `stop` is excluded.  Note that the step\n",
      "        size changes when `endpoint` is False.\n",
      "    num : int, optional\n",
      "        Number of samples to generate. Default is 50. Must be non-negative.\n",
      "    endpoint : bool, optional\n",
      "        If True, `stop` is the last sample. Otherwise, it is not included.\n",
      "        Default is True.\n",
      "    retstep : bool, optional\n",
      "        If True, return (`samples`, `step`), where `step` is the spacing\n",
      "        between samples.\n",
      "    dtype : dtype, optional\n",
      "        The type of the output array.  If `dtype` is not given, the data type\n",
      "        is inferred from `start` and `stop`. The inferred dtype will never be\n",
      "        an integer; `float` is chosen even if the arguments would produce an\n",
      "        array of integers.\n",
      "    \n",
      "        .. versionadded:: 1.9.0\n",
      "    \n",
      "    axis : int, optional\n",
      "        The axis in the result to store the samples.  Relevant only if start\n",
      "        or stop are array-like.  By default (0), the samples will be along a\n",
      "        new axis inserted at the beginning. Use -1 to get an axis at the end.\n",
      "    \n",
      "        .. versionadded:: 1.16.0\n",
      "    \n",
      "    Returns\n",
      "    -------\n",
      "    samples : ndarray\n",
      "        There are `num` equally spaced samples in the closed interval\n",
      "        ``[start, stop]`` or the half-open interval ``[start, stop)``\n",
      "        (depending on whether `endpoint` is True or False).\n",
      "    step : float, optional\n",
      "        Only returned if `retstep` is True\n",
      "    \n",
      "        Size of spacing between samples.\n",
      "    \n",
      "    \n",
      "    See Also\n",
      "    --------\n",
      "    arange : Similar to `linspace`, but uses a step size (instead of the\n",
      "             number of samples).\n",
      "    geomspace : Similar to `linspace`, but with numbers spaced evenly on a log\n",
      "                scale (a geometric progression).\n",
      "    logspace : Similar to `geomspace`, but with the end points specified as\n",
      "               logarithms.\n",
      "    \n",
      "    Examples\n",
      "    --------\n",
      "    >>> np.linspace(2.0, 3.0, num=5)\n",
      "    array([2.  , 2.25, 2.5 , 2.75, 3.  ])\n",
      "    >>> np.linspace(2.0, 3.0, num=5, endpoint=False)\n",
      "    array([2. ,  2.2,  2.4,  2.6,  2.8])\n",
      "    >>> np.linspace(2.0, 3.0, num=5, retstep=True)\n",
      "    (array([2.  ,  2.25,  2.5 ,  2.75,  3.  ]), 0.25)\n",
      "    \n",
      "    Graphical illustration:\n",
      "    \n",
      "    >>> import matplotlib.pyplot as plt\n",
      "    >>> N = 8\n",
      "    >>> y = np.zeros(N)\n",
      "    >>> x1 = np.linspace(0, 10, N, endpoint=True)\n",
      "    >>> x2 = np.linspace(0, 10, N, endpoint=False)\n",
      "    >>> plt.plot(x1, y, 'o')\n",
      "    [<matplotlib.lines.Line2D object at 0x...>]\n",
      "    >>> plt.plot(x2, y + 0.5, 'o')\n",
      "    [<matplotlib.lines.Line2D object at 0x...>]\n",
      "    >>> plt.ylim([-0.5, 1])\n",
      "    (-0.5, 1)\n",
      "    >>> plt.show()\n",
      "\n"
     ]
    }
   ],
   "source": [
    "help(np.linspace)"
   ]
  },
  {
   "cell_type": "markdown",
   "id": "36f65a48",
   "metadata": {},
   "source": [
    "Notice that this is one of the rare examples where the right-endpoint is included."
   ]
  },
  {
   "cell_type": "code",
   "execution_count": 115,
   "id": "f2028586",
   "metadata": {
    "scrolled": false
   },
   "outputs": [
    {
     "data": {
      "text/plain": [
       "array([  0.,  50., 100., 150., 200.])"
      ]
     },
     "execution_count": 115,
     "metadata": {},
     "output_type": "execute_result"
    }
   ],
   "source": [
    "np.linspace(0,200,5)"
   ]
  },
  {
   "cell_type": "markdown",
   "id": "01c4f496",
   "metadata": {},
   "source": [
    "* The $5 \\times 5$ matrix\n",
    "$$\n",
    "\\begin{pmatrix}\n",
    "0 & 0 & 0 & 0 & 0 \\\\\n",
    "1 & 1 & 1 & 1 & 1 \\\\\n",
    "2 & 2 & 2 & 2 & 2 \\\\\n",
    "3 & 3 & 3 & 3 & 3 \\\\\n",
    "4 & 4 & 4 & 4 & 4\n",
    "\\end{pmatrix}\n",
    "$$"
   ]
  },
  {
   "cell_type": "code",
   "execution_count": 118,
   "id": "4b16fad9",
   "metadata": {
    "scrolled": false
   },
   "outputs": [
    {
     "data": {
      "text/plain": [
       "array([[0, 0, 0, 0, 0],\n",
       "       [0, 0, 0, 0, 0],\n",
       "       [0, 0, 0, 0, 0],\n",
       "       [0, 0, 0, 0, 0],\n",
       "       [0, 0, 0, 0, 0]])"
      ]
     },
     "execution_count": 118,
     "metadata": {},
     "output_type": "execute_result"
    }
   ],
   "source": [
    "arr = np.zeros((5,5),dtype=np.int64)\n",
    "arr"
   ]
  },
  {
   "cell_type": "code",
   "execution_count": 119,
   "id": "817dde1e",
   "metadata": {
    "scrolled": false
   },
   "outputs": [
    {
     "data": {
      "text/plain": [
       "array([0, 0, 0, 0, 0])"
      ]
     },
     "execution_count": 119,
     "metadata": {},
     "output_type": "execute_result"
    }
   ],
   "source": [
    "#0th row of arr\n",
    "arr[0]"
   ]
  },
  {
   "cell_type": "code",
   "execution_count": 120,
   "id": "50cf2f6f",
   "metadata": {
    "scrolled": false
   },
   "outputs": [
    {
     "data": {
      "text/plain": [
       "array([0, 0, 0, 0, 0])"
      ]
     },
     "execution_count": 120,
     "metadata": {},
     "output_type": "execute_result"
    }
   ],
   "source": [
    "#index 1 row of arr\n",
    "arr[1]"
   ]
  },
  {
   "cell_type": "code",
   "execution_count": 121,
   "id": "b68b8108",
   "metadata": {
    "scrolled": false
   },
   "outputs": [],
   "source": [
    "for i in range(5):\n",
    "    arr[i] = i"
   ]
  },
  {
   "cell_type": "code",
   "execution_count": 122,
   "id": "a638294d",
   "metadata": {
    "scrolled": false
   },
   "outputs": [
    {
     "data": {
      "text/plain": [
       "array([[0, 0, 0, 0, 0],\n",
       "       [1, 1, 1, 1, 1],\n",
       "       [2, 2, 2, 2, 2],\n",
       "       [3, 3, 3, 3, 3],\n",
       "       [4, 4, 4, 4, 4]])"
      ]
     },
     "execution_count": 122,
     "metadata": {},
     "output_type": "execute_result"
    }
   ],
   "source": [
    "arr"
   ]
  },
  {
   "cell_type": "markdown",
   "id": "a605de0e",
   "metadata": {},
   "source": [
    "* The $2 \\times 5$ matrix \n",
    "$$\n",
    "\\begin{pmatrix}\n",
    "2 & 5 & 8 & 11 & 14 \\\\\n",
    "17 & 20 & 23 & 26 & 29\n",
    "\\end{pmatrix}\n",
    "$$"
   ]
  },
  {
   "cell_type": "code",
   "execution_count": 123,
   "id": "2e87c634",
   "metadata": {
    "scrolled": false
   },
   "outputs": [
    {
     "data": {
      "text/plain": [
       "array([[0, 0, 0, 0, 0],\n",
       "       [0, 0, 0, 0, 0]])"
      ]
     },
     "execution_count": 123,
     "metadata": {},
     "output_type": "execute_result"
    }
   ],
   "source": [
    "arr = np.zeros((2,5),dtype=np.int64)\n",
    "arr"
   ]
  },
  {
   "cell_type": "markdown",
   "id": "7383b4b9",
   "metadata": {},
   "source": [
    "Let's start by making a mistake:"
   ]
  },
  {
   "cell_type": "code",
   "execution_count": 124,
   "id": "00a9187a",
   "metadata": {
    "scrolled": false
   },
   "outputs": [],
   "source": [
    "for i in range(2):\n",
    "    for j in range(5):\n",
    "        arr[i,j] = 2 + 3*j"
   ]
  },
  {
   "cell_type": "code",
   "execution_count": 125,
   "id": "0671dce7",
   "metadata": {
    "scrolled": false
   },
   "outputs": [
    {
     "data": {
      "text/plain": [
       "array([[ 2,  5,  8, 11, 14],\n",
       "       [ 2,  5,  8, 11, 14]])"
      ]
     },
     "execution_count": 125,
     "metadata": {},
     "output_type": "execute_result"
    }
   ],
   "source": [
    "arr"
   ]
  },
  {
   "cell_type": "code",
   "execution_count": 126,
   "id": "ce8a735a",
   "metadata": {
    "scrolled": false
   },
   "outputs": [],
   "source": [
    "for i in range(2):\n",
    "    for j in range(5):\n",
    "        arr[i,j] = 2 + 3*j + 15*i"
   ]
  },
  {
   "cell_type": "code",
   "execution_count": 127,
   "id": "585faa54",
   "metadata": {
    "scrolled": false
   },
   "outputs": [
    {
     "data": {
      "text/plain": [
       "array([[ 2,  5,  8, 11, 14],\n",
       "       [17, 20, 23, 26, 29]])"
      ]
     },
     "execution_count": 127,
     "metadata": {},
     "output_type": "execute_result"
    }
   ],
   "source": [
    "arr"
   ]
  },
  {
   "cell_type": "markdown",
   "id": "f644f2ce",
   "metadata": {},
   "source": [
    "Let's make our code a little bit more readable, just so that we understand what's going on."
   ]
  },
  {
   "cell_type": "code",
   "execution_count": 128,
   "id": "941fabc7",
   "metadata": {
    "scrolled": false
   },
   "outputs": [],
   "source": [
    "cols = 5\n",
    "step = 3\n",
    "rows = 2\n",
    "arr = np.zeros((rows,cols),dtype=np.int64)\n",
    "for i in range(rows):\n",
    "    for j in range(cols):\n",
    "        arr[i,j] = 2 + step*j + cols*i*step"
   ]
  },
  {
   "cell_type": "code",
   "execution_count": 129,
   "id": "d527411b",
   "metadata": {
    "scrolled": false
   },
   "outputs": [
    {
     "data": {
      "text/plain": [
       "array([[ 2,  5,  8, 11, 14],\n",
       "       [17, 20, 23, 26, 29]])"
      ]
     },
     "execution_count": 129,
     "metadata": {},
     "output_type": "execute_result"
    }
   ],
   "source": [
    "arr"
   ]
  },
  {
   "cell_type": "markdown",
   "id": "6c9f807a",
   "metadata": {},
   "source": [
    "Here's how we could make this array without for-loops."
   ]
  },
  {
   "cell_type": "code",
   "execution_count": 130,
   "id": "f063477f",
   "metadata": {
    "scrolled": false
   },
   "outputs": [
    {
     "data": {
      "text/plain": [
       "array([ 2,  5,  8, 11, 14, 17, 20, 23, 26, 29])"
      ]
     },
     "execution_count": 130,
     "metadata": {},
     "output_type": "execute_result"
    }
   ],
   "source": [
    "np.arange(2,30,3)"
   ]
  },
  {
   "cell_type": "code",
   "execution_count": 131,
   "id": "12ee0547",
   "metadata": {
    "scrolled": false
   },
   "outputs": [
    {
     "data": {
      "text/plain": [
       "array([[ 2,  5,  8, 11, 14],\n",
       "       [17, 20, 23, 26, 29]])"
      ]
     },
     "execution_count": 131,
     "metadata": {},
     "output_type": "execute_result"
    }
   ],
   "source": [
    "np.arange(2,30,3).reshape((2,5))"
   ]
  },
  {
   "cell_type": "markdown",
   "id": "125055bc",
   "metadata": {},
   "source": [
    "This is where we ended today's lecture. We'll get to the material below starting Monday :)"
   ]
  },
  {
   "cell_type": "markdown",
   "id": "b1fe4a95",
   "metadata": {},
   "source": [
    "## Random Numbers"
   ]
  },
  {
   "cell_type": "markdown",
   "id": "0ceec9d0",
   "metadata": {},
   "source": [
    "__Note:__ I’m first going to show you the old way of generating random numbers in NumPy. If you’re reading older code, this is likely the way you’ll see random numbers generated. All new code should be written using the new method that I show you."
   ]
  },
  {
   "cell_type": "markdown",
   "id": "00a2009d",
   "metadata": {},
   "source": [
    "* Make a length 10 NumPy array of random integers between 0 (inclusive) and 39 (exclusive)."
   ]
  },
  {
   "cell_type": "markdown",
   "id": "f3568e13",
   "metadata": {},
   "source": [
    "* Choose five of those numbers (with replacement) and put them into a NumPy array."
   ]
  },
  {
   "cell_type": "markdown",
   "id": "bfaaccbe",
   "metadata": {},
   "source": [
    "* Create a $3 \\times 5$ NumPy array of random real numbers between -1 and 4."
   ]
  },
  {
   "cell_type": "markdown",
   "id": "576d1e17",
   "metadata": {},
   "source": [
    "* Create a length 10 NumPy array of random numbers that follow a normal distribution with mean 2 and standard deviation 0.1."
   ]
  },
  {
   "cell_type": "markdown",
   "id": "3ea38f9f",
   "metadata": {},
   "source": [
    "## Changing Rows and Columns "
   ]
  },
  {
   "cell_type": "markdown",
   "id": "8f24a79d",
   "metadata": {},
   "source": [
    "__Goal:__ Modify rows and columns of NumPy arrays."
   ]
  },
  {
   "cell_type": "code",
   "execution_count": 1,
   "id": "1323698e",
   "metadata": {
    "scrolled": false
   },
   "outputs": [],
   "source": [
    "import numpy as np"
   ]
  },
  {
   "cell_type": "code",
   "execution_count": 2,
   "id": "fd9d9874",
   "metadata": {
    "scrolled": false
   },
   "outputs": [
    {
     "data": {
      "text/plain": [
       "array([[0, 0, 0, 0],\n",
       "       [1, 1, 1, 1],\n",
       "       [2, 2, 2, 2],\n",
       "       [3, 3, 3, 3]])"
      ]
     },
     "execution_count": 2,
     "metadata": {},
     "output_type": "execute_result"
    }
   ],
   "source": [
    "arr = np.zeros((4,4),dtype=int)\n",
    "for i in range(4):\n",
    "    arr[i] = i\n",
    "arr"
   ]
  },
  {
   "cell_type": "markdown",
   "id": "4b18d703",
   "metadata": {},
   "source": [
    "## Broadcasting"
   ]
  }
 ],
 "metadata": {
  "kernelspec": {
   "display_name": "Python 3 (ipykernel)",
   "language": "python",
   "name": "python3"
  },
  "language_info": {
   "codemirror_mode": {
    "name": "ipython",
    "version": 3
   },
   "file_extension": ".py",
   "mimetype": "text/x-python",
   "name": "python",
   "nbconvert_exporter": "python",
   "pygments_lexer": "ipython3",
   "version": "3.9.13"
  }
 },
 "nbformat": 4,
 "nbformat_minor": 5
}

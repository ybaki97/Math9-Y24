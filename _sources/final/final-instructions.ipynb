{
 "cells": [
  {
   "cell_type": "markdown",
   "id": "49323ff8",
   "metadata": {},
   "source": [
    "# 🎨 Creative Homework Instructions\n",
    "This is the last homework assignment for Math 9 during Summer Session I 2024, and serves in place of a final project or final exam. __As a reminder, part of passing Math 9 means turning in an assignment which meets the minimum specifications set by this document.__"
   ]
  },
  {
   "cell_type": "markdown",
   "id": "7f971416",
   "metadata": {},
   "source": [
    "## Big Goal\n",
    "Process an image of your choice using Pillow."
   ]
  },
  {
   "cell_type": "markdown",
   "id": "30abd196",
   "metadata": {},
   "source": [
    "## Minimum Requirements\n",
    "Your assignment must meet all of these specifications for it to receive a passing grade.\n",
    "\n",
    "### Logistics\n",
    "* Your assignment must be turned in by Thursday, August 1st at 11:59pm PST. Unlike most deadlines in this class, this is a hard deadline set by the university. No submissions will be accepted after this time.\n",
    "\n",
    "* This is an individual assignment, not a group assignment.\n",
    "\n",
    "* If any part of your assignment comes from a source other than Math 9 course material, it must be clearly referenced. This is true even if you edit code that you've found, or are inspired by a certain example online. For instance, \"The code for this portion was adapted from content found here [link]\", is one way you could cite sources.\n",
    "\n",
    "* If you are already a python expert, try to stick to techniques we've used in this class. The main point of this assignment is to see what you've learned in Math 9. If your code is very sophisticated, but doesn't make essential use of things we've seen in Math 9, then it will not necessarily receive a passing mark.\n",
    "\n",
    "### Content\n",
    "* Pick an image of your choice to process and open it in the Jupyter notebook template for this assignment. Alternatively, you may create your own image and then process it according to the specifications below. \n",
    "* Using Pillow, process your image using at least one technique that we've seen in our Math 9 lectures.\n",
    "* Again using Pillow, process your image using at least two _new_ techniques that we have not seen in our Math 9 lectures. See FAQ below for ideas.\n",
    "    * Note: The old and new techniques should be applied to the same image. The end result should be a single image.\n",
    "    * The resulting image should have transformations significant enough so that when we view it next to the original it is clear that something has been changed.\n",
    "* In a markdown cell, answer the following:\n",
    "    * Describe the transformations you made to your image. What came from Math 9 material and what was new?\n",
    "    * Can we post your images in the course notes?\n",
    "* Upload the Jupyter notebook you wrote your code and answered questions in, as well as the original and transformed images to Canvas. \n",
    "\n",
    "* Upload your original and transformed images to the Ed Discussion thread for this assignment."
   ]
  },
  {
   "cell_type": "markdown",
   "id": "e6411be7",
   "metadata": {},
   "source": [
    "## FAQ\n",
    "\n",
    "* What are some ideas for old material?\n",
    "    - Swapping color channels.\n",
    "    - Replacing all instances of color1 with color2.\n",
    "    - Replacing horizontal or vertical bands with a different color.\n",
    "    - Use of random colors.\n",
    "\n",
    "* What are some ideas for new material?\n",
    "    - Adding a filter\n",
    "    - Image enhancing (contrast, brightness, sharpness, etc.)\n",
    "    - Rotation or flip\n",
    "    - Adding text\n",
    "* Can I use tutorials?\n",
    "    - If you find a tutorial online that shows you how to do something new to you image, it is fine to use it, with the following caveats:\n",
    "        * The tutorial must be clearly cited.\n",
    "        * The contents of the tutorial should be only one small facet of your assignment. The majority of your code should be your own."
   ]
  },
  {
   "cell_type": "markdown",
   "id": "c13c0e23",
   "metadata": {},
   "source": [
    "## Resources\n",
    "\n",
    "* [Yasmeen's favorite](https://coolors.co/) for color palette generating.\n",
    "* [Nice Pillow Tutorials](https://pillow.readthedocs.io/en/stable/handbook/tutorial.html)"
   ]
  }
 ],
 "metadata": {
  "kernelspec": {
   "display_name": "Python 3 (ipykernel)",
   "language": "python",
   "name": "python3"
  },
  "language_info": {
   "codemirror_mode": {
    "name": "ipython",
    "version": 3
   },
   "file_extension": ".py",
   "mimetype": "text/x-python",
   "name": "python",
   "nbconvert_exporter": "python",
   "pygments_lexer": "ipython3",
   "version": "3.9.13"
  }
 },
 "nbformat": 4,
 "nbformat_minor": 5
}

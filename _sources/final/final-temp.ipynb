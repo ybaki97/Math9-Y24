{
 "cells": [
  {
   "cell_type": "markdown",
   "id": "264583d3",
   "metadata": {},
   "source": [
    "# Creative Homework Template"
   ]
  },
  {
   "cell_type": "markdown",
   "id": "370da89b",
   "metadata": {},
   "source": [
    "__Name:__"
   ]
  },
  {
   "cell_type": "code",
   "execution_count": null,
   "id": "f742e7f7",
   "metadata": {},
   "outputs": [],
   "source": [
    "#Start your code here."
   ]
  },
  {
   "cell_type": "markdown",
   "id": "5d7928af",
   "metadata": {},
   "source": [
    "## Questions:\n",
    "* Describe the transformations you made to your image. What came from Math 9 material and what was new?\n",
    "* Can we post your images in the course notes?"
   ]
  },
  {
   "cell_type": "markdown",
   "id": "b85af804",
   "metadata": {},
   "source": [
    "## Sources:\n",
    "List any sources you used here. Be sure to tell us what part of your code they were used in as well.\n",
    "* [Here is an example of how you can add a link](https://pillow.readthedocs.io/en/stable/index.html)"
   ]
  }
 ],
 "metadata": {
  "kernelspec": {
   "display_name": "Python 3 (ipykernel)",
   "language": "python",
   "name": "python3"
  },
  "language_info": {
   "codemirror_mode": {
    "name": "ipython",
    "version": 3
   },
   "file_extension": ".py",
   "mimetype": "text/x-python",
   "name": "python",
   "nbconvert_exporter": "python",
   "pygments_lexer": "ipython3",
   "version": "3.9.13"
  }
 },
 "nbformat": 4,
 "nbformat_minor": 5
}
